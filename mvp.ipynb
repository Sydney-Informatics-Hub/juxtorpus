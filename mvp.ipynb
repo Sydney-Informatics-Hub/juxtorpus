{
 "cells": [
  {
   "cell_type": "markdown",
   "source": [
    "# Baseline MVP\n",
    "\n",
    "Use word frequency to compare the corpora.\n",
    "\n",
    "~ Bednarek:\n",
    "+ raw freqs\n",
    "+ normalised freqs\n",
    "+ ranked freqs table of n-grams\n",
    "\n",
    "\n",
    "1. Create corpora (i.e. corpus A and corpus B)\n",
    "\n",
    " 2. Detect corpus nature - e.g. with mean of words (if low, most likely tweets), POS tag sequences are not normal (probably colloquial language)\n",
    "     1. Anomaly detection -- see if there are any outliers.\n",
    "\n",
    "3. Make suggestions as to what to do?\n",
    "\n",
    "4. Juxtapose the 2 corpora"
   ],
   "metadata": {
    "collapsed": false,
    "pycharm": {
     "name": "#%% md\n"
    }
   }
  },
  {
   "cell_type": "code",
   "execution_count": 2,
   "outputs": [],
   "source": [
    "from pprint import pprint\n",
    "import pandas as pd"
   ],
   "metadata": {
    "collapsed": false,
    "pycharm": {
     "name": "#%%\n"
    }
   }
  },
  {
   "cell_type": "code",
   "execution_count": 3,
   "outputs": [
    {
     "data": {
      "text/plain": "(Number of words           209\n Number of unique words     27\n dtype: int64,\n Number of words           332\n Number of unique words     43\n dtype: int64)"
     },
     "execution_count": 3,
     "metadata": {},
     "output_type": "execute_result"
    }
   ],
   "source": [
    "from juxtorpus.corpus import Corpus\n",
    "\n",
    "corpusA = Corpus.from_('./assets/samples/tweetsA.csv').preprocess()\n",
    "corpusB = Corpus.from_('./assets/samples/tweetsB.csv').preprocess()\n",
    "\n",
    "corpusA.summary(), corpusB.summary()"
   ],
   "metadata": {
    "collapsed": false,
    "pycharm": {
     "name": "#%%\n"
    }
   }
  },
  {
   "cell_type": "markdown",
   "source": [
    "# Jux\n",
    "The juxtorpus main tool: Jux"
   ],
   "metadata": {
    "collapsed": false,
    "pycharm": {
     "name": "#%% md\n"
    }
   }
  },
  {
   "cell_type": "code",
   "execution_count": 4,
   "outputs": [],
   "source": [
    "from juxtorpus.jux import Jux\n",
    "\n",
    "jux = Jux(corpusA, corpusB)"
   ],
   "metadata": {
    "collapsed": false,
    "pycharm": {
     "name": "#%%\n"
    }
   }
  },
  {
   "cell_type": "code",
   "execution_count": 5,
   "outputs": [
    {
     "data": {
      "text/plain": "[('@verge', 0.9569377990430622),\n ('helicopter', 0.9569377990430622),\n ('good', 0.9569377990430622),\n ('time', 0.9569377990430622),\n ('rockets', 0.9569377990430622),\n ('secret', 0.9569377990430622),\n ('rt', 0.9569377990430622),\n ('bring', 0.9569377990430622),\n ('def', 0.9569377990430622),\n ('like', 0.9569377990430622)]"
     },
     "execution_count": 5,
     "metadata": {},
     "output_type": "execute_result"
    }
   ],
   "source": [
    "jux.keywords(method=\"tf\")[0][:10]"
   ],
   "metadata": {
    "collapsed": false,
    "pycharm": {
     "name": "#%%\n"
    }
   }
  },
  {
   "cell_type": "code",
   "execution_count": 6,
   "outputs": [
    {
     "data": {
      "text/plain": "([('xe2', 3),\n  ('x80', 3),\n  ('xa6', 2),\n  ('rt', 2),\n  ('helicopter', 2),\n  ('co', 2),\n  ('reusable rockets bring us much closer', 1),\n  ('much time developing silly rockets', 1),\n  ('fully expendable mode .\"', 1),\n  ('detecting ai trained entirely', 1),\n  (\"'@ supercoolcube pretty good\", 1),\n  (\"'@ redletterdave good point\", 1),\n  (\"'@ cardoso silliest thing\", 1),\n  ('robots spared humanity ...', 1),\n  ('\"@ jasonlamb looks like', 1),\n  (\"'@ adamsbj def p100d\", 1),\n  ('back like dragon', 1),\n  ('traveling aliens describing', 1),\n  ('nat gas fracking', 1),\n  ('handle higher loads', 1)],\n [('co', 8),\n  ('https ://', 7),\n  ('mexico', 4),\n  ('full support', 3),\n  ('u', 3),\n  ('dade mayor drops sanctuary policy', 2),\n  ('massive trade deficits', 2),\n  ('seeing final results', 2),\n  ('taken advantage', 2),\n  ('right decision', 2),\n  ('marching ---', 2),\n  ('long enough', 2),\n  ('little help', 2),\n  ('least 03', 2),\n  ('gregg phillips', 2),\n  ('crew say', 2),\n  ('marchforlife', 2),\n  ('10', 2),\n  ('votestand', 2),\n  ('strong', 2)])"
     },
     "execution_count": 6,
     "metadata": {},
     "output_type": "execute_result"
    }
   ],
   "source": [
    "jux.keywords(method='rake')[:10]"
   ],
   "metadata": {
    "collapsed": false,
    "pycharm": {
     "name": "#%%\n"
    }
   }
  },
  {
   "cell_type": "code",
   "execution_count": 7,
   "outputs": [
    {
     "data": {
      "text/plain": "([('helicopter', 2.0),\n  ('of', 1.3333333333333333),\n  (\"'s\", 1.25),\n  ('we', 1.25),\n  (\"'ve\", 1.0),\n  ('1st', 1.0),\n  ('20', 1.0),\n  ('@adamsbj', 1.0),\n  ('@badastronomer', 1.0),\n  ('@cardoso', 1.0),\n  ('@cheron', 1.0),\n  ('@daveleebbc', 1.0),\n  ('@defcon_5', 1.0),\n  ('@elonmusk', 1.0),\n  ('@forin2020', 1.0),\n  ('@jasonlamb', 1.0),\n  ('@lexxxzis', 1.0),\n  ('@mims', 1.0),\n  ('@openai', 1.0),\n  ('@profbriancox', 1.0),\n  ('@redletterdave', 1.0),\n  ('@spacex', 1.0),\n  ('@supercoolcube', 1.0),\n  ('@tesla_addict', 1.0),\n  ('@teslamotors', 1.0),\n  ('@verge', 1.0),\n  ('@waltmossberg', 1.0),\n  ('a', 1.0),\n  ('absurdly', 1.0),\n  ('actually', 1.0),\n  ('add', 1.0),\n  ('ai', 1.0),\n  ('aliens', 1.0),\n  ('and', 1.0),\n  ('are', 1.0),\n  ('b\\\\xe2\\\\x80\\\\xa6', 1.0),\n  ('back', 1.0),\n  ('based', 1.0),\n  ('basically', 1.0),\n  ('becoming', 1.0),\n  ('breakthrough', 1.0),\n  ('bring', 1.0),\n  ('but', 1.0),\n  ('can', 1.0),\n  ('cheese', 1.0),\n  ('chemtrails', 1.0),\n  ('closer', 1.0),\n  ('clothing', 1.0),\n  ('coal', 1.0),\n  ('could', 1.0),\n  ('created', 1.0),\n  ('damn', 1.0),\n  ('dead', 1.0),\n  ('def', 1.0),\n  ('deployed', 1.0),\n  ('describing', 1.0),\n  ('detecting', 1.0),\n  ('developing', 1.0),\n  ('did', 1.0),\n  ('do', 1.0),\n  ('dragon', 1.0),\n  ('due', 1.0),\n  ('dying', 1.0),\n  ('entirely', 1.0),\n  ('exactly', 1.0),\n  ('expendable', 1.0),\n  ('extremely', 1.0),\n  ('first', 1.0),\n  ('flight', 1.0),\n  ('fracking', 1.0),\n  ('from', 1.0),\n  ('fully', 1.0),\n  ('gas', 1.0),\n  ('giant', 1.0),\n  ('good', 1.0),\n  ('handle', 1.0),\n  ('higher', 1.0),\n  ('how', 1.0),\n  ('https://t.co/68nmjkipsc', 1.0),\n  ('https://t.co\\\\xe2\\\\x80\\\\xa6', 1.0),\n  ('humanity', 1.0),\n  ('if', 1.0),\n  ('imagine', 1.0),\n  ('important', 1.0),\n  ('in', 1.0),\n  ('inspired', 1.0),\n  ('is', 1.0),\n  ('it', 1.0),\n  ('just', 1.0),\n  ('like', 1.0),\n  ('loads', 1.0),\n  ('looks', 1.0),\n  ('lot', 1.0),\n  ('ludicrous+', 1.0),\n  ('matter', 1.0),\n  ('message', 1.0),\n  ('mode', 1.0),\n  ('more', 1.0),\n  ('much', 1.0),\n  (\"n't\", 1.0),\n  ('nat', 1.0),\n  ('need', 1.0),\n  ('on', 1.0),\n  ('out', 1.0),\n  ('overvalued', 1.0),\n  ('p100d', 1.0),\n  ('past', 1.0),\n  ('payload', 1.0),\n  ('physical', 1.0),\n  ('point', 1.0),\n  ('pretty', 1.0),\n  ('question', 1.0),\n  ('reusable', 1.0),\n  ('robot', 1.0),\n  ('robots', 1.0),\n  ('rockets', 1.0),\n  ('rt', 1.0),\n  ('secret', 1.0),\n  ('shortville', 1.0),\n  ('silliest', 1.0),\n  ('silly', 1.0),\n  ('simulation', 1.0),\n  ('so', 1.0),\n  ('some', 1.0),\n  ('spacefaring\\\\xe2\\\\x80\\\\xa6', 1.0),\n  ('spam', 1.0),\n  ('spared', 1.0),\n  ('stormy', 1.0),\n  ('structural', 1.0),\n  ('technology', 1.0),\n  ('teleportation', 1.0),\n  ('tesla', 1.0),\n  ('that', 1.0),\n  ('the', 1.0),\n  ('thing', 1.0),\n  ('this', 1.0),\n  ('time', 1.0),\n  ('to', 1.0),\n  ('trained', 1.0),\n  ('traveling', 1.0),\n  ('turns', 1.0),\n  ('upgrades', 1.0),\n  ('us', 1.0),\n  ('was', 1.0),\n  ('waste', 1.0),\n  ('weather', 1.0),\n  ('weight', 1.0),\n  ('wheel', 1.0),\n  ('why', 1.0),\n  ('with', 1.0),\n  ('wo', 1.0),\n  ('working', 1.0),\n  ('world', 1.0),\n  ('you', 1.0)],\n [('a', 2.0),\n  ('always', 2.0),\n  ('the', 1.5714285714285714),\n  ('interview', 1.5),\n  ('will', 1.4),\n  ('you', 1.4),\n  ('has', 1.3333333333333333),\n  ('tonight', 1.3333333333333333),\n  ('with', 1.3333333333333333),\n  ('\\n ', 1.25),\n  ('be', 1.2),\n  ('of', 1.1111111111111112),\n  ('\\n', 1.0),\n  (' ', 1.0),\n  (\"'s\", 1.0),\n  ('.@davidmuir', 1.0),\n  ('.@vp', 1.0),\n  ('03', 1.0),\n  ('03,000,000', 1.0),\n  ('10', 1.0),\n  ('10:00pm', 1.0),\n  ('60', 1.0),\n  ('@abc', 1.0),\n  ('@abc2020', 1.0),\n  ('@abcworldnews', 1.0),\n  ('@davidmuir', 1.0),\n  ('@foxnews', 1.0),\n  ('@gop', 1.0),\n  ('@potus', 1.0),\n  ('@romoabcnews', 1.0),\n  ('@seanhannity', 1.0),\n  ('administration', 1.0),\n  ('advantage', 1.0),\n  ('all', 1.0),\n  ('and', 1.0),\n  ('as', 1.0),\n  ('at', 1.0),\n  ('back', 1.0),\n  ('badly', 1.0),\n  ('been', 1.0),\n  ('beginning', 1.0),\n  ('better', 1.0),\n  ('billion', 1.0),\n  ('border', 1.0),\n  ('by', 1.0),\n  ('change', 1.0),\n  ('chelsea', 1.0),\n  ('companies', 1.0),\n  ('congratulations', 1.0),\n  ('congressional', 1.0),\n  ('court', 1.0),\n  ('crew', 1.0),\n  ('dade', 1.0),\n  ('david', 1.0),\n  ('day', 1.0),\n  ('deal', 1.0),\n  ('decision', 1.0),\n  ('deficit', 1.0),\n  ('deficits', 1.0),\n  ('do', 1.0),\n  ('dollar', 1.0),\n  ('drops', 1.0),\n  ('enjoy', 1.0),\n  ('enough', 1.0),\n  ('extremely', 1.0),\n  ('final', 1.0),\n  ('first', 1.0),\n  ('for', 1.0),\n  ('forward', 1.0),\n  ('from', 1.0),\n  ('full', 1.0),\n  ('gregg', 1.0),\n  ('have', 1.0),\n  ('help', 1.0),\n  ('holocaust', 1.0),\n  ('house', 1.0),\n  ('https://t.co/1jb53segv4', 1.0),\n  ('https://t.co/4zuorrdcoc', 1.0),\n  ('https://t.co/d0aowhoh4x', 1.0),\n  ('https://t.co/i4vz1mrdbk', 1.0),\n  ('https://t.co/kju0moxchk', 1.0),\n  ('https://t.co/mkuhbegzqs', 1.0),\n  ('https://t.co/mtpvadc4jm', 1.0),\n  ('i', 1.0),\n  ('if', 1.0),\n  ('illegal', 1.0),\n  ('important', 1.0),\n  ('in', 1.0),\n  ('international', 1.0),\n  ('interviewed', 1.0),\n  ('is', 1.0),\n  ('it', 1.0),\n  ('jobs', 1.0),\n  ('least', 1.0),\n  ('little', 1.0),\n  ('long', 1.0),\n  ('look', 1.0),\n  ('lost', 1.0),\n  ('making', 1.0),\n  ('manning', 1.0),\n  ('marchforlife', 1.0),\n  ('marching', 1.0),\n  ('massive', 1.0),\n  ('mattis', 1.0),\n  ('mayor', 1.0),\n  ('mexico', 1.0),\n  ('miami', 1.0),\n  ('mike', 1.0),\n  ('minutes', 1.0),\n  ('muir', 1.0),\n  ('must', 1.0),\n  ('my', 1.0),\n  ('nafta', 1.0),\n  ('needed', 1.0),\n  ('news', 1.0),\n  ('next', 1.0),\n  ('now', 1.0),\n  ('numbers', 1.0),\n  (\"o'clock\", 1.0),\n  ('office', 1.0),\n  ('on', 1.0),\n  ('one', 1.0),\n  ('our', 1.0),\n  ('pay', 1.0),\n  ('pence', 1.0),\n  ('philadelphia', 1.0),\n  ('phillips', 1.0),\n  ('pick', 1.0),\n  ('policy', 1.0),\n  ('president', 1.0),\n  ('promise', 1.0),\n  ('remembrance', 1.0),\n  ('results', 1.0),\n  ('retreat', 1.0),\n  ('right', 1.0),\n  ('sanctuary', 1.0),\n  ('say', 1.0),\n  ('secretary', 1.0),\n  ('seeing', 1.0),\n  ('sided', 1.0),\n  ('since', 1.0),\n  ('so', 1.0),\n  ('speaking', 1.0),\n  ('spoke', 1.0),\n  ('statement', 1.0),\n  ('strong', 1.0),\n  ('support', 1.0),\n  ('supreme', 1.0),\n  ('taken', 1.0),\n  ('taking', 1.0),\n  ('thank', 1.0),\n  ('that', 1.0),\n  ('thursday', 1.0),\n  ('to', 1.0),\n  ('today', 1.0),\n  ('trade', 1.0),\n  ('traitor', 1.0),\n  ('u.s.', 1.0),\n  ('ungrateful', 1.0),\n  ('unwilling', 1.0),\n  ('very', 1.0),\n  ('votes', 1.0),\n  ('votestand', 1.0),\n  ('wall', 1.0),\n  ('we', 1.0),\n  ('weak', 1.0),\n  ('week', 1.0),\n  ('were', 1.0),\n  ('white', 1.0),\n  ('your', 1.0)])"
     },
     "execution_count": 7,
     "metadata": {},
     "output_type": "execute_result"
    }
   ],
   "source": [
    "jux.keywords(method='tfidf')[:10]"
   ],
   "metadata": {
    "collapsed": false,
    "pycharm": {
     "name": "#%%\n"
    }
   }
  },
  {
   "cell_type": "markdown",
   "source": [
    "# Scrap code (Viz)\n",
    "1. Relative bar charts\n",
    "2. Word Cloud (Pending)"
   ],
   "metadata": {
    "collapsed": false,
    "pycharm": {
     "name": "#%% md\n"
    }
   }
  },
  {
   "cell_type": "code",
   "execution_count": 8,
   "outputs": [],
   "source": [
    "import spacy\n",
    "from spacy import displacy\n",
    "\n",
    "nlp = spacy.load('en_core_web_sm')"
   ],
   "metadata": {
    "collapsed": false,
    "pycharm": {
     "name": "#%%\n"
    }
   }
  },
  {
   "cell_type": "code",
   "execution_count": 9,
   "outputs": [
    {
     "data": {
      "text/plain": "([('@verge', 0.9569377990430622),\n  ('helicopter', 0.9569377990430622),\n  ('good', 0.9569377990430622),\n  ('time', 0.9569377990430622),\n  ('rockets', 0.9569377990430622),\n  ('secret', 0.9569377990430622),\n  ('rt', 0.9569377990430622),\n  ('bring', 0.9569377990430622),\n  ('def', 0.9569377990430622),\n  ('like', 0.9569377990430622),\n  ('dragon', 0.9569377990430622),\n  ('robots', 0.4784688995215311),\n  ('spared', 0.4784688995215311),\n  ('humanity', 0.4784688995215311),\n  ('@forin2020', 0.4784688995215311),\n  ('@waltmossberg', 0.4784688995215311),\n  ('@mims', 0.4784688995215311),\n  ('@defcon_5', 0.4784688995215311),\n  ('exactly', 0.4784688995215311),\n  ('tesla', 0.4784688995215311),\n  ('absurdly', 0.4784688995215311),\n  ('overvalued', 0.4784688995215311),\n  ('based', 0.4784688995215311),\n  ('past', 0.4784688995215311),\n  ('stormy', 0.4784688995215311),\n  ('weather', 0.4784688995215311),\n  ('shortville', 0.4784688995215311),\n  ('@daveleebbc', 0.4784688995215311),\n  ('coal', 0.4784688995215311),\n  ('dying', 0.4784688995215311),\n  ('nat', 0.4784688995215311),\n  ('gas', 0.4784688995215311),\n  ('fracking', 0.4784688995215311),\n  ('basically', 0.4784688995215311),\n  ('dead', 0.4784688995215311),\n  ('@lexxxzis', 0.4784688995215311),\n  ('clothing', 0.4784688995215311),\n  ('wo', 0.4784688995215311),\n  ('matter', 0.4784688995215311),\n  ('@supercoolcube', 0.4784688995215311),\n  ('pretty', 0.4784688995215311),\n  ('waste', 0.4784688995215311),\n  ('developing', 0.4784688995215311),\n  ('silly', 0.4784688995215311),\n  ('damn', 0.4784688995215311),\n  ('technology', 0.4784688995215311),\n  ('breakthrough', 0.4784688995215311),\n  ('turns', 0.4784688995215311),\n  ('chemtrails', 0.4784688995215311),\n  ('actually', 0.4784688995215311),\n  ('message', 0.4784688995215311),\n  ('traveling', 0.4784688995215311),\n  ('aliens', 0.4784688995215311),\n  ('describing', 0.4784688995215311),\n  ('teleportation', 0.4784688995215311),\n  ('@openai', 0.4784688995215311),\n  ('created', 0.4784688995215311),\n  ('world', 0.4784688995215311),\n  ('spam', 0.4784688995215311),\n  ('detecting', 0.4784688995215311),\n  ('ai', 0.4784688995215311),\n  ('trained', 0.4784688995215311),\n  ('entirely', 0.4784688995215311),\n  ('simulation', 0.4784688995215311),\n  ('deployed', 0.4784688995215311),\n  ('physical', 0.4784688995215311),\n  ('robot', 0.4784688995215311),\n  ('https://t.co\\\\xe2\\\\x80\\\\xa6', 0.4784688995215311),\n  ('@profbriancox', 0.4784688995215311),\n  ('extremely', 0.4784688995215311),\n  ('important', 0.4784688995215311),\n  ('@elonmusk', 0.4784688995215311),\n  ('@spacex', 0.4784688995215311),\n  ('reusable', 0.4784688995215311),\n  ('closer', 0.4784688995215311),\n  ('spacefaring\\\\xe2\\\\x80\\\\xa6', 0.4784688995215311),\n  ('@adamsbj', 0.4784688995215311),\n  ('p100d', 0.4784688995215311),\n  ('ludicrous+', 0.4784688995215311),\n  ('@badastronomer', 0.4784688995215311),\n  ('question', 0.4784688995215311),\n  ('weight', 0.4784688995215311),\n  ('need', 0.4784688995215311),\n  ('add', 0.4784688995215311),\n  ('@tesla_addict', 0.4784688995215311),\n  ('@teslamotors', 0.4784688995215311),\n  ('working', 0.4784688995215311),\n  ('@jasonlamb', 0.4784688995215311),\n  ('looks', 0.4784688995215311),\n  ('20', 0.4784688995215311),\n  ('structural', 0.4784688995215311),\n  ('upgrades', 0.4784688995215311),\n  ('handle', 0.4784688995215311),\n  ('higher', 0.4784688995215311),\n  ('loads', 0.4784688995215311),\n  ('fully', 0.4784688995215311),\n  ('expendable', 0.4784688995215311),\n  ('mode', 0.4784688995215311),\n  ('@cheron', 0.4784688995215311),\n  ('lot', 0.4784688995215311),\n  ('@cardoso', 0.4784688995215311),\n  ('silliest', 0.4784688995215311),\n  ('thing', 0.4784688995215311),\n  ('imagine', 0.4784688995215311),\n  ('payload', 0.4784688995215311),\n  ('1st', 0.4784688995215311),\n  ('flight', 0.4784688995215311),\n  ('giant', 0.4784688995215311),\n  ('wheel', 0.4784688995215311),\n  ('cheese', 0.4784688995215311),\n  ('inspired', 0.4784688995215311),\n  ('b\\\\xe2\\\\x80\\\\xa6', 0.4784688995215311),\n  ('https://t.co/68nmjkipsc', 0.4784688995215311),\n  ('@redletterdave', 0.4784688995215311),\n  ('point', 0.4784688995215311)],\n [(' ', 4.216867469879518),\n  ('\\n ', 1.5060240963855422),\n  ('mexico', 1.2048192771084338),\n  ('tonight', 1.2048192771084338),\n  ('u.s.', 0.9036144578313252),\n  ('massive', 0.9036144578313252),\n  ('trade', 0.9036144578313252),\n  ('marchforlife', 0.9036144578313252),\n  ('support', 0.9036144578313252),\n  ('interview', 0.9036144578313252),\n  ('taken', 0.6024096385542169),\n  ('advantage', 0.6024096385542169),\n  ('long', 0.6024096385542169),\n  ('deficits', 0.6024096385542169),\n  ('little', 0.6024096385542169),\n  ('help', 0.6024096385542169),\n  ('weak', 0.6024096385542169),\n  ('border', 0.6024096385542169),\n  ('change', 0.6024096385542169),\n  ('important', 0.6024096385542169),\n  ('marching', 0.6024096385542169),\n  ('look', 0.6024096385542169),\n  ('forward', 0.6024096385542169),\n  ('seeing', 0.6024096385542169),\n  ('final', 0.6024096385542169),\n  ('results', 0.6024096385542169),\n  ('votestand', 0.6024096385542169),\n  ('gregg', 0.6024096385542169),\n  ('phillips', 0.6024096385542169),\n  ('crew', 0.6024096385542169),\n  ('miami', 0.6024096385542169),\n  ('dade', 0.6024096385542169),\n  ('mayor', 0.6024096385542169),\n  ('drops', 0.6024096385542169),\n  ('sanctuary', 0.6024096385542169),\n  ('policy', 0.6024096385542169),\n  ('right', 0.6024096385542169),\n  ('decision', 0.6024096385542169),\n  ('strong', 0.6024096385542169),\n  ('https://t.co/mtpvadc4jm', 0.6024096385542169),\n  ('today', 0.6024096385542169),\n  ('interviewed', 0.6024096385542169),\n  ('enjoy', 0.6024096385542169),\n  ('beginning', 0.6024096385542169),\n  ('@abc', 0.6024096385542169),\n  ('10', 0.6024096385542169),\n  ('extremely', 0.30120481927710846),\n  ('03,000,000', 0.30120481927710846),\n  ('votes', 0.30120481927710846),\n  ('illegal', 0.30120481927710846),\n  ('better', 0.30120481927710846),\n  ('\\n', 0.30120481927710846),\n  ('promise', 0.30120481927710846),\n  ('administration', 0.30120481927710846),\n  ('https://t.co/d0aowhoh4x', 0.30120481927710846),\n  ('congratulations', 0.30120481927710846),\n  ('secretary', 0.30120481927710846),\n  ('mattis', 0.30120481927710846),\n  ('https://t.co/mkuhbegzqs', 0.30120481927710846),\n  ('statement', 0.30120481927710846),\n  ('international', 0.30120481927710846),\n  ('holocaust', 0.30120481927710846),\n  ('remembrance', 0.30120481927710846),\n  ('day', 0.30120481927710846),\n  ('https://t.co/kju0moxchk', 0.30120481927710846),\n  ('.@vp', 0.30120481927710846),\n  ('mike', 0.30120481927710846),\n  ('pence', 0.30120481927710846),\n  ('speaking', 0.30120481927710846),\n  ('https://t.co/1jb53segv4', 0.30120481927710846),\n  ('03', 0.30120481927710846),\n  ('@seanhannity', 0.30120481927710846),\n  ('@foxnews', 0.30120481927710846),\n  ('10:00pm', 0.30120481927710846),\n  ('spoke', 0.30120481927710846),\n  ('congressional', 0.30120481927710846),\n  ('@gop', 0.30120481927710846),\n  ('retreat', 0.30120481927710846),\n  ('philadelphia', 0.30120481927710846),\n  ('jobs', 0.30120481927710846),\n  ('companies', 0.30120481927710846),\n  ('lost', 0.30120481927710846),\n  ('unwilling', 0.30120481927710846),\n  ('pay', 0.30120481927710846),\n  ('badly', 0.30120481927710846),\n  ('needed', 0.30120481927710846),\n  ('wall', 0.30120481927710846),\n  ('60', 0.30120481927710846),\n  ('billion', 0.30120481927710846),\n  ('dollar', 0.30120481927710846),\n  ('deficit', 0.30120481927710846),\n  ('sided', 0.30120481927710846),\n  ('deal', 0.30120481927710846),\n  ('nafta', 0.30120481927710846),\n  ('numbers', 0.30120481927710846),\n  ('ungrateful', 0.30120481927710846),\n  ('traitor', 0.30120481927710846),\n  ('chelsea', 0.30120481927710846),\n  ('manning', 0.30120481927710846),\n  ('david', 0.30120481927710846),\n  ('muir', 0.30120481927710846),\n  ('news', 0.30120481927710846),\n  ('minutes', 0.30120481927710846),\n  ('@romoabcnews', 0.30120481927710846),\n  ('.@davidmuir', 0.30120481927710846),\n  ('@potus', 0.30120481927710846),\n  ('taking', 0.30120481927710846),\n  ('office', 0.30120481927710846),\n  ('@abcworldnews', 0.30120481927710846),\n  ('@abc2020', 0.30120481927710846),\n  ('https://t.co/i4vz1mrdbk', 0.30120481927710846),\n  ('president', 0.30120481927710846),\n  ('@davidmuir', 0.30120481927710846),\n  (\"o'clock\", 0.30120481927710846),\n  ('white', 0.30120481927710846),\n  ('house', 0.30120481927710846),\n  ('https://t.co/4zuorrdcoc', 0.30120481927710846),\n  ('making', 0.30120481927710846),\n  ('supreme', 0.30120481927710846),\n  ('court', 0.30120481927710846),\n  ('pick', 0.30120481927710846),\n  ('thursday', 0.30120481927710846),\n  ('week', 0.30120481927710846),\n  ('thank', 0.30120481927710846)])"
     },
     "execution_count": 9,
     "metadata": {},
     "output_type": "execute_result"
    }
   ],
   "source": [
    "# Processing the directionality of the keywords\n",
    "\n",
    "freq_kw = jux.keywords(method='tf')\n",
    "freq_kw"
   ],
   "metadata": {
    "collapsed": false,
    "pycharm": {
     "name": "#%%\n"
    }
   }
  },
  {
   "cell_type": "code",
   "execution_count": 10,
   "outputs": [],
   "source": [
    "# get common words\n",
    "\n",
    "freq_kw_a = pd.DataFrame(freq_kw[0], columns=['keywords', 'freq_normalised'])\n",
    "freq_kw_b = pd.DataFrame(freq_kw[1], columns=['keywords', 'freq_normalised'])"
   ],
   "metadata": {
    "collapsed": false,
    "pycharm": {
     "name": "#%%\n"
    }
   }
  },
  {
   "cell_type": "code",
   "execution_count": 11,
   "outputs": [
    {
     "data": {
      "text/plain": "{'extremely', 'important'}"
     },
     "execution_count": 11,
     "metadata": {},
     "output_type": "execute_result"
    }
   ],
   "source": [
    "common = set(freq_kw_a['keywords']).intersection(freq_kw_b['keywords'])\n",
    "common"
   ],
   "metadata": {
    "collapsed": false,
    "pycharm": {
     "name": "#%%\n"
    }
   }
  },
  {
   "cell_type": "code",
   "execution_count": 12,
   "outputs": [],
   "source": [
    "fkwa_common = freq_kw_a[freq_kw_a['keywords'].isin(common)].sort_values(by=['keywords'])\n",
    "fkwb_common = freq_kw_b[freq_kw_b['keywords'].isin(common)].sort_values(by=['keywords'])"
   ],
   "metadata": {
    "collapsed": false,
    "pycharm": {
     "name": "#%%\n"
    }
   }
  },
  {
   "cell_type": "code",
   "execution_count": 13,
   "outputs": [
    {
     "data": {
      "text/plain": "<Figure size 432x288 with 1 Axes>",
      "image/png": "[encoded data removed]"
     },
     "metadata": {
      "needs_background": "light"
     },
     "output_type": "display_data"
    }
   ],
   "source": [
    "import matplotlib.pyplot as plt\n",
    "\n",
    "fig, ax = plt.subplots()\n",
    "\n",
    "b1 = ax.barh(fkwa_common['keywords'], fkwa_common['freq_normalised'], color='blue')\n",
    "b2 = ax.barh(fkwb_common['keywords'], -fkwb_common['freq_normalised'], color='red')\n",
    "\n",
    "plt.legend([b1, b2], ['CorpusA', 'CorpusB'], loc='upper right')\n",
    "plt.show()"
   ],
   "metadata": {
    "collapsed": false,
    "pycharm": {
     "name": "#%%\n"
    }
   }
  },
  {
   "cell_type": "code",
   "execution_count": 14,
   "outputs": [
    {
     "data": {
      "text/plain": "   freq_normalised  positive   keywords\n0         0.177264      True  extremely\n1        -0.123941     False  important",
      "text/html": "<div>\n<style scoped>\n    .dataframe tbody tr th:only-of-type {\n        vertical-align: middle;\n    }\n\n    .dataframe tbody tr th {\n        vertical-align: top;\n    }\n\n    .dataframe thead th {\n        text-align: right;\n    }\n</style>\n<table border=\"1\" class=\"dataframe\">\n  <thead>\n    <tr style=\"text-align: right;\">\n      <th></th>\n      <th>freq_normalised</th>\n      <th>positive</th>\n      <th>keywords</th>\n    </tr>\n  </thead>\n  <tbody>\n    <tr>\n      <th>0</th>\n      <td>0.177264</td>\n      <td>True</td>\n      <td>extremely</td>\n    </tr>\n    <tr>\n      <th>1</th>\n      <td>-0.123941</td>\n      <td>False</td>\n      <td>important</td>\n    </tr>\n  </tbody>\n</table>\n</div>"
     },
     "execution_count": 14,
     "metadata": {},
     "output_type": "execute_result"
    }
   ],
   "source": [
    "summed = pd.DataFrame(fkwa_common['freq_normalised'] - fkwb_common['freq_normalised'].values).reset_index(drop=True)\n",
    "summed['positive'] = summed['freq_normalised'] > 0\n",
    "summed['keywords'] = fkwa_common['keywords'].tolist()\n",
    "summed"
   ],
   "metadata": {
    "collapsed": false,
    "pycharm": {
     "name": "#%%\n"
    }
   }
  },
  {
   "cell_type": "code",
   "execution_count": 15,
   "outputs": [
    {
     "data": {
      "text/plain": "0    0.177264\n1   -0.123941\nName: freq_normalised, dtype: float64"
     },
     "execution_count": 15,
     "metadata": {},
     "output_type": "execute_result"
    }
   ],
   "source": [
    "summed['freq_normalised']"
   ],
   "metadata": {
    "collapsed": false,
    "pycharm": {
     "name": "#%%\n"
    }
   }
  },
  {
   "cell_type": "code",
   "execution_count": 16,
   "outputs": [
    {
     "data": {
      "text/plain": "<Figure size 432x288 with 1 Axes>",
      "image/png": "[encoded data removed]"
     },
     "metadata": {
      "needs_background": "light"
     },
     "output_type": "display_data"
    }
   ],
   "source": [
    "fig, ax = plt.subplots()\n",
    "\n",
    "relatives = pd.concat(\n",
    "    [fkwa_common['keywords'].reset_index(drop=True), summed['freq_normalised'].reset_index(drop=True)], axis=1)\n",
    "relatives.columns = ['keywords', 'freq_normalised']\n",
    "relatives['positive'] = relatives['freq_normalised'] > 0\n",
    "relatives.sort_values(by='freq_normalised')\n",
    "b = ax.barh(relatives['keywords'], relatives['freq_normalised'], color=relatives.positive.map({True: 'g', False: 'r'}))\n",
    "\n",
    "# b = ax.barh(fkwa_common['keywords'].reset_index(drop=True), summed['freq_normalised'].reset_index(drop=True), color=summed.positive.map({True: 'g', False: 'r'}))\n",
    "\n",
    "plt.title(\"Relative Frequency Differences\")\n",
    "plt.show()"
   ],
   "metadata": {
    "collapsed": false,
    "pycharm": {
     "name": "#%%\n"
    }
   }
  },
  {
   "cell_type": "code",
   "execution_count": 16,
   "outputs": [],
   "source": [],
   "metadata": {
    "collapsed": false,
    "pycharm": {
     "name": "#%%\n"
    }
   }
  }
 ],
 "metadata": {
  "kernelspec": {
   "display_name": "Python 3",
   "language": "python",
   "name": "python3"
  },
  "language_info": {
   "codemirror_mode": {
    "name": "ipython",
    "version": 2
   },
   "file_extension": ".py",
   "mimetype": "text/x-python",
   "name": "python",
   "nbconvert_exporter": "python",
   "pygments_lexer": "ipython2",
   "version": "2.7.6"
  }
 },
 "nbformat": 4,
 "nbformat_minor": 0
}