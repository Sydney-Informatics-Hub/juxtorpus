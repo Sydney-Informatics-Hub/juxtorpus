{
 "cells": [
  {
   "cell_type": "markdown",
   "source": [
    "# Baseline MVP\n",
    "\n",
    "Use word frequency to compare the corpora.\n",
    "\n",
    "~ Bednarek:\n",
    "+ raw freqs\n",
    "+ normalised freqs\n",
    "+ ranked freqs table of n-grams\n",
    "\n",
    "\n",
    "1. Create corpora (i.e. corpus A and corpus B)\n",
    "\n",
    " 2. Detect corpus nature - e.g. with mean of words (if low, most likely tweets), POS tag sequences are not normal (probably colloquial language)\n",
    "     1. Anomaly detection -- see if there are any outliers.\n",
    "\n",
    "3. Make suggestions as to what to do?\n",
    "\n",
    "4. Juxtapose the 2 corpora"
   ],
   "metadata": {
    "collapsed": false,
    "pycharm": {
     "name": "#%% md\n"
    }
   }
  },
  {
   "cell_type": "code",
   "execution_count": 1,
   "outputs": [],
   "source": [
    "from pprint import pprint\n",
    "import pandas as pd"
   ],
   "metadata": {
    "collapsed": false,
    "pycharm": {
     "name": "#%%\n"
    }
   }
  },
  {
   "cell_type": "code",
   "execution_count": 2,
   "outputs": [
    {
     "data": {
      "text/plain": "(Number of words           46\n Number of unique words    42\n dtype: int64,\n Number of words           70\n Number of unique words    63\n dtype: int64)"
     },
     "execution_count": 2,
     "metadata": {},
     "output_type": "execute_result"
    }
   ],
   "source": [
    "from juxtorpus.corpus import Corpus\n",
    "\n",
    "corpusA = Corpus.from_('./assets/samples/tweetsA.csv')\n",
    "corpusB = Corpus.from_('./assets/samples/tweetsB.csv')\n",
    "\n",
    "corpusA.summary(), corpusB.summary()"
   ],
   "metadata": {
    "collapsed": false,
    "pycharm": {
     "name": "#%%\n"
    }
   }
  },
  {
   "cell_type": "markdown",
   "source": [
    "# Jux\n",
    "The juxtorpus main tool: Jux"
   ],
   "metadata": {
    "collapsed": false,
    "pycharm": {
     "name": "#%% md\n"
    }
   }
  },
  {
   "cell_type": "code",
   "execution_count": 3,
   "outputs": [],
   "source": [
    "from juxtorpus.jux import Jux\n",
    "\n",
    "jux = Jux(corpusA, corpusB)"
   ],
   "metadata": {
    "collapsed": false,
    "pycharm": {
     "name": "#%%\n"
    }
   }
  },
  {
   "cell_type": "code",
   "execution_count": 4,
   "outputs": [
    {
     "name": "stdout",
     "output_type": "stream",
     "text": [
      "This extracts the keywords from each corpus, ranks them and display them in a table.\n"
     ]
    },
    {
     "name": "stderr",
     "output_type": "stream",
     "text": [
      "100%|██████████| 5/5 [00:00<00:00, 52560.20it/s]\n",
      "100%|██████████| 3/3 [00:00<00:00, 40590.04it/s]\n"
     ]
    },
    {
     "data": {
      "text/plain": "           A_keyphrase  A_freq_normalised         B_keyphrase  \\\n0               robots           0.021739                must   \n1               spared           0.021739              mexico   \n2             humanity           0.021739               taken   \n3   httpstcov7jujqwfcv           0.021739           advantage   \n4            forin2020           0.021739                  us   \n5         waltmossberg           0.021739                long   \n6                 mims           0.021739              enough   \n7              defcon5           0.021739             massive   \n8              exactly           0.021739               trade   \n9                tesla           0.021739            deficits   \n10            absurdly           0.021739              little   \n11          overvalued           0.021739                help   \n12               based           0.021739                weak   \n13                past           0.021739              border   \n14              stormy           0.021739              change   \n15             weather           0.021739        marchforlife   \n16          shortville           0.021739           important   \n17          daveleebbc           0.021739            marching   \n18               verge           0.021739                full   \n19                coal           0.021739             support   \n20               dying           0.021739                look   \n21                 due           0.021739             forward   \n22                 nat           0.021739              seeing   \n23                 gas           0.021739               final   \n24            fracking           0.021739             results   \n25           basically           0.021739           votestand   \n26                dead           0.021739               gregg   \n27            lexxxzis           0.021739            phillips   \n28          helicopter           0.021739                crew   \n29         helicopters           0.021739                 say   \n30            clothing           0.021739               least   \n31                 NaN                NaN            03000000   \n32                 NaN                NaN               votes   \n33                 NaN                NaN             illegal   \n34                 NaN                NaN              better   \n35                 NaN                NaN           miamidade   \n36                 NaN                NaN               mayor   \n37                 NaN                NaN               drops   \n38                 NaN                NaN           sanctuary   \n39                 NaN                NaN              policy   \n40                 NaN                NaN               right   \n41                 NaN                NaN            decision   \n42                 NaN                NaN              strong   \n43                 NaN                NaN  httpstcomtpvadc4jm   \n\n    B_freq_normalised  \n0            0.028571  \n1            0.014286  \n2            0.014286  \n3            0.014286  \n4            0.014286  \n5            0.014286  \n6            0.014286  \n7            0.014286  \n8            0.014286  \n9            0.014286  \n10           0.014286  \n11           0.014286  \n12           0.014286  \n13           0.014286  \n14           0.014286  \n15           0.014286  \n16           0.014286  \n17           0.014286  \n18           0.014286  \n19           0.014286  \n20           0.014286  \n21           0.014286  \n22           0.014286  \n23           0.014286  \n24           0.014286  \n25           0.014286  \n26           0.014286  \n27           0.014286  \n28           0.014286  \n29           0.014286  \n30           0.014286  \n31           0.014286  \n32           0.014286  \n33           0.014286  \n34           0.014286  \n35           0.014286  \n36           0.014286  \n37           0.014286  \n38           0.014286  \n39           0.014286  \n40           0.014286  \n41           0.014286  \n42           0.014286  \n43           0.014286  ",
      "text/html": "<div>\n<style scoped>\n    .dataframe tbody tr th:only-of-type {\n        vertical-align: middle;\n    }\n\n    .dataframe tbody tr th {\n        vertical-align: top;\n    }\n\n    .dataframe thead th {\n        text-align: right;\n    }\n</style>\n<table border=\"1\" class=\"dataframe\">\n  <thead>\n    <tr style=\"text-align: right;\">\n      <th></th>\n      <th>A_keyphrase</th>\n      <th>A_freq_normalised</th>\n      <th>B_keyphrase</th>\n      <th>B_freq_normalised</th>\n    </tr>\n  </thead>\n  <tbody>\n    <tr>\n      <th>0</th>\n      <td>robots</td>\n      <td>0.021739</td>\n      <td>must</td>\n      <td>0.028571</td>\n    </tr>\n    <tr>\n      <th>1</th>\n      <td>spared</td>\n      <td>0.021739</td>\n      <td>mexico</td>\n      <td>0.014286</td>\n    </tr>\n    <tr>\n      <th>2</th>\n      <td>humanity</td>\n      <td>0.021739</td>\n      <td>taken</td>\n      <td>0.014286</td>\n    </tr>\n    <tr>\n      <th>3</th>\n      <td>httpstcov7jujqwfcv</td>\n      <td>0.021739</td>\n      <td>advantage</td>\n      <td>0.014286</td>\n    </tr>\n    <tr>\n      <th>4</th>\n      <td>forin2020</td>\n      <td>0.021739</td>\n      <td>us</td>\n      <td>0.014286</td>\n    </tr>\n    <tr>\n      <th>5</th>\n      <td>waltmossberg</td>\n      <td>0.021739</td>\n      <td>long</td>\n      <td>0.014286</td>\n    </tr>\n    <tr>\n      <th>6</th>\n      <td>mims</td>\n      <td>0.021739</td>\n      <td>enough</td>\n      <td>0.014286</td>\n    </tr>\n    <tr>\n      <th>7</th>\n      <td>defcon5</td>\n      <td>0.021739</td>\n      <td>massive</td>\n      <td>0.014286</td>\n    </tr>\n    <tr>\n      <th>8</th>\n      <td>exactly</td>\n      <td>0.021739</td>\n      <td>trade</td>\n      <td>0.014286</td>\n    </tr>\n    <tr>\n      <th>9</th>\n      <td>tesla</td>\n      <td>0.021739</td>\n      <td>deficits</td>\n      <td>0.014286</td>\n    </tr>\n    <tr>\n      <th>10</th>\n      <td>absurdly</td>\n      <td>0.021739</td>\n      <td>little</td>\n      <td>0.014286</td>\n    </tr>\n    <tr>\n      <th>11</th>\n      <td>overvalued</td>\n      <td>0.021739</td>\n      <td>help</td>\n      <td>0.014286</td>\n    </tr>\n    <tr>\n      <th>12</th>\n      <td>based</td>\n      <td>0.021739</td>\n      <td>weak</td>\n      <td>0.014286</td>\n    </tr>\n    <tr>\n      <th>13</th>\n      <td>past</td>\n      <td>0.021739</td>\n      <td>border</td>\n      <td>0.014286</td>\n    </tr>\n    <tr>\n      <th>14</th>\n      <td>stormy</td>\n      <td>0.021739</td>\n      <td>change</td>\n      <td>0.014286</td>\n    </tr>\n    <tr>\n      <th>15</th>\n      <td>weather</td>\n      <td>0.021739</td>\n      <td>marchforlife</td>\n      <td>0.014286</td>\n    </tr>\n    <tr>\n      <th>16</th>\n      <td>shortville</td>\n      <td>0.021739</td>\n      <td>important</td>\n      <td>0.014286</td>\n    </tr>\n    <tr>\n      <th>17</th>\n      <td>daveleebbc</td>\n      <td>0.021739</td>\n      <td>marching</td>\n      <td>0.014286</td>\n    </tr>\n    <tr>\n      <th>18</th>\n      <td>verge</td>\n      <td>0.021739</td>\n      <td>full</td>\n      <td>0.014286</td>\n    </tr>\n    <tr>\n      <th>19</th>\n      <td>coal</td>\n      <td>0.021739</td>\n      <td>support</td>\n      <td>0.014286</td>\n    </tr>\n    <tr>\n      <th>20</th>\n      <td>dying</td>\n      <td>0.021739</td>\n      <td>look</td>\n      <td>0.014286</td>\n    </tr>\n    <tr>\n      <th>21</th>\n      <td>due</td>\n      <td>0.021739</td>\n      <td>forward</td>\n      <td>0.014286</td>\n    </tr>\n    <tr>\n      <th>22</th>\n      <td>nat</td>\n      <td>0.021739</td>\n      <td>seeing</td>\n      <td>0.014286</td>\n    </tr>\n    <tr>\n      <th>23</th>\n      <td>gas</td>\n      <td>0.021739</td>\n      <td>final</td>\n      <td>0.014286</td>\n    </tr>\n    <tr>\n      <th>24</th>\n      <td>fracking</td>\n      <td>0.021739</td>\n      <td>results</td>\n      <td>0.014286</td>\n    </tr>\n    <tr>\n      <th>25</th>\n      <td>basically</td>\n      <td>0.021739</td>\n      <td>votestand</td>\n      <td>0.014286</td>\n    </tr>\n    <tr>\n      <th>26</th>\n      <td>dead</td>\n      <td>0.021739</td>\n      <td>gregg</td>\n      <td>0.014286</td>\n    </tr>\n    <tr>\n      <th>27</th>\n      <td>lexxxzis</td>\n      <td>0.021739</td>\n      <td>phillips</td>\n      <td>0.014286</td>\n    </tr>\n    <tr>\n      <th>28</th>\n      <td>helicopter</td>\n      <td>0.021739</td>\n      <td>crew</td>\n      <td>0.014286</td>\n    </tr>\n    <tr>\n      <th>29</th>\n      <td>helicopters</td>\n      <td>0.021739</td>\n      <td>say</td>\n      <td>0.014286</td>\n    </tr>\n    <tr>\n      <th>30</th>\n      <td>clothing</td>\n      <td>0.021739</td>\n      <td>least</td>\n      <td>0.014286</td>\n    </tr>\n    <tr>\n      <th>31</th>\n      <td>NaN</td>\n      <td>NaN</td>\n      <td>03000000</td>\n      <td>0.014286</td>\n    </tr>\n    <tr>\n      <th>32</th>\n      <td>NaN</td>\n      <td>NaN</td>\n      <td>votes</td>\n      <td>0.014286</td>\n    </tr>\n    <tr>\n      <th>33</th>\n      <td>NaN</td>\n      <td>NaN</td>\n      <td>illegal</td>\n      <td>0.014286</td>\n    </tr>\n    <tr>\n      <th>34</th>\n      <td>NaN</td>\n      <td>NaN</td>\n      <td>better</td>\n      <td>0.014286</td>\n    </tr>\n    <tr>\n      <th>35</th>\n      <td>NaN</td>\n      <td>NaN</td>\n      <td>miamidade</td>\n      <td>0.014286</td>\n    </tr>\n    <tr>\n      <th>36</th>\n      <td>NaN</td>\n      <td>NaN</td>\n      <td>mayor</td>\n      <td>0.014286</td>\n    </tr>\n    <tr>\n      <th>37</th>\n      <td>NaN</td>\n      <td>NaN</td>\n      <td>drops</td>\n      <td>0.014286</td>\n    </tr>\n    <tr>\n      <th>38</th>\n      <td>NaN</td>\n      <td>NaN</td>\n      <td>sanctuary</td>\n      <td>0.014286</td>\n    </tr>\n    <tr>\n      <th>39</th>\n      <td>NaN</td>\n      <td>NaN</td>\n      <td>policy</td>\n      <td>0.014286</td>\n    </tr>\n    <tr>\n      <th>40</th>\n      <td>NaN</td>\n      <td>NaN</td>\n      <td>right</td>\n      <td>0.014286</td>\n    </tr>\n    <tr>\n      <th>41</th>\n      <td>NaN</td>\n      <td>NaN</td>\n      <td>decision</td>\n      <td>0.014286</td>\n    </tr>\n    <tr>\n      <th>42</th>\n      <td>NaN</td>\n      <td>NaN</td>\n      <td>strong</td>\n      <td>0.014286</td>\n    </tr>\n    <tr>\n      <th>43</th>\n      <td>NaN</td>\n      <td>NaN</td>\n      <td>httpstcomtpvadc4jm</td>\n      <td>0.014286</td>\n    </tr>\n  </tbody>\n</table>\n</div>"
     },
     "execution_count": 4,
     "metadata": {},
     "output_type": "execute_result"
    }
   ],
   "source": [
    "jux.keywords(method=\"freq\")"
   ],
   "metadata": {
    "collapsed": false,
    "pycharm": {
     "name": "#%%\n"
    }
   }
  },
  {
   "cell_type": "code",
   "execution_count": 5,
   "outputs": [
    {
     "name": "stdout",
     "output_type": "stream",
     "text": [
      "This extracts the keywords from each corpus, ranks them and display them in a table.\n"
     ]
    },
    {
     "data": {
      "text/plain": "                             A_keyphrase  A_freq  \\\n0                             helicopter       2   \n1   robots spared humanity ... https ://       1   \n2                       nat gas fracking       1   \n3                         shortville ...       1   \n4                             verge coal       1   \n5                         stormy weather       1   \n6                              dying due       1   \n7                       defcon_5 exactly       1   \n8                         basically dead       1   \n9                    absurdly overvalued       1   \n10                          waltmossberg       1   \n11                            v7jujqwfcv       1   \n12                                 tesla       1   \n13                                  past       1   \n14                                  mims       1   \n15                              lexxxzis       1   \n16                             forin2020       1   \n17                            daveleebbc       1   \n18                                    co       1   \n19                              clothing       1   \n\n                          B_keyphrase  B_freq  \n0   dade mayor drops sanctuary policy       1  \n1             weak border must change       1  \n2                seeing final results       1  \n3              massive trade deficits       1  \n4                     better !\" miami       1  \n5                     taken advantage       1  \n6                      right decision       1  \n7                        marching ---       1  \n8                        look forward       1  \n9                         long enough       1  \n10                        little help       1  \n11                           least 03       1  \n12                          https ://       1  \n13                     gregg phillips       1  \n14                       full support       1  \n15                           crew say       1  \n16                          000 votes       1  \n17                               must       1  \n18                                000       1  \n19                          votestand       1  ",
      "text/html": "<div>\n<style scoped>\n    .dataframe tbody tr th:only-of-type {\n        vertical-align: middle;\n    }\n\n    .dataframe tbody tr th {\n        vertical-align: top;\n    }\n\n    .dataframe thead th {\n        text-align: right;\n    }\n</style>\n<table border=\"1\" class=\"dataframe\">\n  <thead>\n    <tr style=\"text-align: right;\">\n      <th></th>\n      <th>A_keyphrase</th>\n      <th>A_freq</th>\n      <th>B_keyphrase</th>\n      <th>B_freq</th>\n    </tr>\n  </thead>\n  <tbody>\n    <tr>\n      <th>0</th>\n      <td>helicopter</td>\n      <td>2</td>\n      <td>dade mayor drops sanctuary policy</td>\n      <td>1</td>\n    </tr>\n    <tr>\n      <th>1</th>\n      <td>robots spared humanity ... https ://</td>\n      <td>1</td>\n      <td>weak border must change</td>\n      <td>1</td>\n    </tr>\n    <tr>\n      <th>2</th>\n      <td>nat gas fracking</td>\n      <td>1</td>\n      <td>seeing final results</td>\n      <td>1</td>\n    </tr>\n    <tr>\n      <th>3</th>\n      <td>shortville ...</td>\n      <td>1</td>\n      <td>massive trade deficits</td>\n      <td>1</td>\n    </tr>\n    <tr>\n      <th>4</th>\n      <td>verge coal</td>\n      <td>1</td>\n      <td>better !\" miami</td>\n      <td>1</td>\n    </tr>\n    <tr>\n      <th>5</th>\n      <td>stormy weather</td>\n      <td>1</td>\n      <td>taken advantage</td>\n      <td>1</td>\n    </tr>\n    <tr>\n      <th>6</th>\n      <td>dying due</td>\n      <td>1</td>\n      <td>right decision</td>\n      <td>1</td>\n    </tr>\n    <tr>\n      <th>7</th>\n      <td>defcon_5 exactly</td>\n      <td>1</td>\n      <td>marching ---</td>\n      <td>1</td>\n    </tr>\n    <tr>\n      <th>8</th>\n      <td>basically dead</td>\n      <td>1</td>\n      <td>look forward</td>\n      <td>1</td>\n    </tr>\n    <tr>\n      <th>9</th>\n      <td>absurdly overvalued</td>\n      <td>1</td>\n      <td>long enough</td>\n      <td>1</td>\n    </tr>\n    <tr>\n      <th>10</th>\n      <td>waltmossberg</td>\n      <td>1</td>\n      <td>little help</td>\n      <td>1</td>\n    </tr>\n    <tr>\n      <th>11</th>\n      <td>v7jujqwfcv</td>\n      <td>1</td>\n      <td>least 03</td>\n      <td>1</td>\n    </tr>\n    <tr>\n      <th>12</th>\n      <td>tesla</td>\n      <td>1</td>\n      <td>https ://</td>\n      <td>1</td>\n    </tr>\n    <tr>\n      <th>13</th>\n      <td>past</td>\n      <td>1</td>\n      <td>gregg phillips</td>\n      <td>1</td>\n    </tr>\n    <tr>\n      <th>14</th>\n      <td>mims</td>\n      <td>1</td>\n      <td>full support</td>\n      <td>1</td>\n    </tr>\n    <tr>\n      <th>15</th>\n      <td>lexxxzis</td>\n      <td>1</td>\n      <td>crew say</td>\n      <td>1</td>\n    </tr>\n    <tr>\n      <th>16</th>\n      <td>forin2020</td>\n      <td>1</td>\n      <td>000 votes</td>\n      <td>1</td>\n    </tr>\n    <tr>\n      <th>17</th>\n      <td>daveleebbc</td>\n      <td>1</td>\n      <td>must</td>\n      <td>1</td>\n    </tr>\n    <tr>\n      <th>18</th>\n      <td>co</td>\n      <td>1</td>\n      <td>000</td>\n      <td>1</td>\n    </tr>\n    <tr>\n      <th>19</th>\n      <td>clothing</td>\n      <td>1</td>\n      <td>votestand</td>\n      <td>1</td>\n    </tr>\n  </tbody>\n</table>\n</div>"
     },
     "execution_count": 5,
     "metadata": {},
     "output_type": "execute_result"
    }
   ],
   "source": [
    "jux.keywords(method='rake')"
   ],
   "metadata": {
    "collapsed": false,
    "pycharm": {
     "name": "#%%\n"
    }
   }
  },
  {
   "cell_type": "code",
   "execution_count": 6,
   "outputs": [
    {
     "name": "stdout",
     "output_type": "stream",
     "text": [
      "This extracts the keywords from each corpus, ranks them and display them in a table.\n"
     ]
    },
    {
     "data": {
      "text/plain": "   A_keyphrase   A_tfidf B_keyphrase   B_tfidf\n0   helicopter  0.694134         you  0.507908\n1   shortville  0.523358         the  0.330034\n2       stormy  0.523358         000  0.326574\n3      weather  0.523358         all  0.253954\n4           in  0.422242        full  0.253954\n..         ...       ...         ...       ...\n61         NaN       NaN       votes  0.163287\n62         NaN       NaN   votestand  0.163287\n63         NaN       NaN          we  0.163287\n64         NaN       NaN        were  0.163287\n65         NaN       NaN          of  0.149989\n\n[66 rows x 4 columns]",
      "text/html": "<div>\n<style scoped>\n    .dataframe tbody tr th:only-of-type {\n        vertical-align: middle;\n    }\n\n    .dataframe tbody tr th {\n        vertical-align: top;\n    }\n\n    .dataframe thead th {\n        text-align: right;\n    }\n</style>\n<table border=\"1\" class=\"dataframe\">\n  <thead>\n    <tr style=\"text-align: right;\">\n      <th></th>\n      <th>A_keyphrase</th>\n      <th>A_tfidf</th>\n      <th>B_keyphrase</th>\n      <th>B_tfidf</th>\n    </tr>\n  </thead>\n  <tbody>\n    <tr>\n      <th>0</th>\n      <td>helicopter</td>\n      <td>0.694134</td>\n      <td>you</td>\n      <td>0.507908</td>\n    </tr>\n    <tr>\n      <th>1</th>\n      <td>shortville</td>\n      <td>0.523358</td>\n      <td>the</td>\n      <td>0.330034</td>\n    </tr>\n    <tr>\n      <th>2</th>\n      <td>stormy</td>\n      <td>0.523358</td>\n      <td>000</td>\n      <td>0.326574</td>\n    </tr>\n    <tr>\n      <th>3</th>\n      <td>weather</td>\n      <td>0.523358</td>\n      <td>all</td>\n      <td>0.253954</td>\n    </tr>\n    <tr>\n      <th>4</th>\n      <td>in</td>\n      <td>0.422242</td>\n      <td>full</td>\n      <td>0.253954</td>\n    </tr>\n    <tr>\n      <th>...</th>\n      <td>...</td>\n      <td>...</td>\n      <td>...</td>\n      <td>...</td>\n    </tr>\n    <tr>\n      <th>61</th>\n      <td>NaN</td>\n      <td>NaN</td>\n      <td>votes</td>\n      <td>0.163287</td>\n    </tr>\n    <tr>\n      <th>62</th>\n      <td>NaN</td>\n      <td>NaN</td>\n      <td>votestand</td>\n      <td>0.163287</td>\n    </tr>\n    <tr>\n      <th>63</th>\n      <td>NaN</td>\n      <td>NaN</td>\n      <td>we</td>\n      <td>0.163287</td>\n    </tr>\n    <tr>\n      <th>64</th>\n      <td>NaN</td>\n      <td>NaN</td>\n      <td>were</td>\n      <td>0.163287</td>\n    </tr>\n    <tr>\n      <th>65</th>\n      <td>NaN</td>\n      <td>NaN</td>\n      <td>of</td>\n      <td>0.149989</td>\n    </tr>\n  </tbody>\n</table>\n<p>66 rows × 4 columns</p>\n</div>"
     },
     "execution_count": 6,
     "metadata": {},
     "output_type": "execute_result"
    }
   ],
   "source": [
    "jux.keywords(method='tfidf')"
   ],
   "metadata": {
    "collapsed": false,
    "pycharm": {
     "name": "#%%\n"
    }
   }
  },
  {
   "cell_type": "code",
   "execution_count": 6,
   "outputs": [],
   "source": [],
   "metadata": {
    "collapsed": false,
    "pycharm": {
     "name": "#%%\n"
    }
   }
  }
 ],
 "metadata": {
  "kernelspec": {
   "display_name": "Python 3",
   "language": "python",
   "name": "python3"
  },
  "language_info": {
   "codemirror_mode": {
    "name": "ipython",
    "version": 2
   },
   "file_extension": ".py",
   "mimetype": "text/x-python",
   "name": "python",
   "nbconvert_exporter": "python",
   "pygments_lexer": "ipython2",
   "version": "2.7.6"
  }
 },
 "nbformat": 4,
 "nbformat_minor": 0
}