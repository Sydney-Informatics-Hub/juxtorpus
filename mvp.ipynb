{
 "cells": [
  {
   "cell_type": "markdown",
   "source": [
    "# Baseline MVP\n",
    "\n",
    "Use word frequency to compare the corpora.\n",
    "\n",
    "~ Bednarek:\n",
    "+ raw freqs\n",
    "+ normalised freqs\n",
    "+ ranked freqs table of n-grams\n",
    "\n",
    "\n",
    "1. Create corpora (i.e. corpus A and corpus B)\n",
    "\n",
    " 2. Detect corpus nature - e.g. with mean of words (if low, most likely tweets), POS tag sequences are not normal (probably colloquial language)\n",
    "     1. Anomaly detection -- see if there are any outliers.\n",
    "\n",
    "3. Make suggestions as to what to do?\n",
    "\n",
    "4. Juxtapose the 2 corpora"
   ],
   "metadata": {
    "collapsed": false,
    "pycharm": {
     "name": "#%% md\n"
    }
   }
  },
  {
   "cell_type": "code",
   "execution_count": 5,
   "outputs": [
    {
     "data": {
      "text/plain": "(None, None)"
     },
     "execution_count": 5,
     "metadata": {},
     "output_type": "execute_result"
    }
   ],
   "source": [
    "from juxtorpus.corpus import Corpus\n",
    "\n",
    "corpusA = Corpus.from_('./assets/samples/tweetsA.csv')\n",
    "corpusB = Corpus.from_('./assets/samples/tweetsB.csv')\n",
    "\n",
    "corpusA.summary(), corpusB.summary()"
   ],
   "metadata": {
    "collapsed": false,
    "pycharm": {
     "name": "#%%\n"
    }
   }
  },
  {
   "cell_type": "markdown",
   "source": [
    "# Jux\n",
    "The juxtorpus main tool: Jux"
   ],
   "metadata": {
    "collapsed": false,
    "pycharm": {
     "name": "#%% md\n"
    }
   }
  },
  {
   "cell_type": "code",
   "execution_count": 9,
   "outputs": [
    {
     "name": "stdout",
     "output_type": "stream",
     "text": [
      "This extracts the keywords from each corpus, rank them by frequency and display them in a table.\n"
     ]
    }
   ],
   "source": [
    "from juxtorpus.jux import Jux\n",
    "\n",
    "jux = Jux(corpusA, corpusB)\n",
    "\n",
    "jux.keywords(method='rake')"
   ],
   "metadata": {
    "collapsed": false,
    "pycharm": {
     "name": "#%%\n"
    }
   }
  },
  {
   "cell_type": "code",
   "execution_count": null,
   "outputs": [],
   "source": [],
   "metadata": {
    "collapsed": false,
    "pycharm": {
     "name": "#%%\n"
    }
   }
  }
 ],
 "metadata": {
  "kernelspec": {
   "display_name": "Python 3",
   "language": "python",
   "name": "python3"
  },
  "language_info": {
   "codemirror_mode": {
    "name": "ipython",
    "version": 2
   },
   "file_extension": ".py",
   "mimetype": "text/x-python",
   "name": "python",
   "nbconvert_exporter": "python",
   "pygments_lexer": "ipython2",
   "version": "2.7.6"
  }
 },
 "nbformat": 4,
 "nbformat_minor": 0
}