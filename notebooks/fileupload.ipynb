{
 "cells": [
  {
   "cell_type": "code",
   "execution_count": 2,
   "metadata": {},
   "outputs": [
    {
     "data": {
      "text/plain": [
       "'Working directory: /Users/hcha9747/workspace/juxtorpus'"
      ]
     },
     "execution_count": 2,
     "metadata": {},
     "output_type": "execute_result"
    }
   ],
   "source": [
    "import os\n",
    "if not 'juxtorpus' in os.listdir():\n",
    "    os.chdir('../')\n",
    "assert 'juxtorpus' in os.listdir(), f\"Working directory should be at juxtorpus. But at {os.getcwd()}\"\n",
    "f\"Working directory: {os.getcwd()}\""
   ]
  },
  {
   "cell_type": "markdown",
   "metadata": {},
   "source": [
    "# File Upload Widget"
   ]
  },
  {
   "cell_type": "code",
   "execution_count": 2,
   "metadata": {
    "scrolled": true,
    "tags": []
   },
   "outputs": [
    {
     "data": {
      "application/vnd.jupyter.widget-view+json": {
       "model_id": "508f28a4c4254fdcb55769e07f8e3ee3",
       "version_major": 2,
       "version_minor": 0
      },
      "text/plain": [
       "VBox(children=(FileUpload(value={}, accept='.csv, .zip', description='Upload your files here.\\n(.csv .zip)', e…"
      ]
     },
     "metadata": {},
     "output_type": "display_data"
    }
   ],
   "source": [
    "from juxtorpus.viz.widgets import FileUploadWidget\n",
    "\n",
    "uploader = FileUploadWidget(['.csv', '.zip'])\n",
    "uploader.render()\n",
    "# If your 'upload' operation is exactly the same, the widget will automatically do nothing.\n",
    "# i.e. \n",
    "# if you upload fileA and then fileA again. The second upload does nothing.\n",
    "# if you upload fileA, fileB and then just fileA. The second upload is accepted. fileA however will be rejected but this is not part of the underlying ipywidget behaviour."
   ]
  },
  {
   "cell_type": "code",
   "execution_count": null,
   "metadata": {},
   "outputs": [],
   "source": [
    "uploader.uploaded()"
   ]
  },
  {
   "cell_type": "markdown",
   "metadata": {},
   "source": [
    "# File Checks"
   ]
  },
  {
   "cell_type": "code",
   "execution_count": 10,
   "metadata": {},
   "outputs": [],
   "source": [
    "from juxtorpus.checks import FileCheckers, FileSizeCheck, EncodingCheck\n",
    "\n",
    "checks = [\n",
    "    FileSizeCheck(max_bytes=20*1<<20),   # 10 megabytes\n",
    "    EncodingCheck(expected='utf-8', min_rows_to_check=100)\n",
    "]\n",
    "file_checks = FileCheckers(checks)"
   ]
  },
  {
   "cell_type": "code",
   "execution_count": 11,
   "metadata": {},
   "outputs": [
    {
     "data": {
      "text/plain": [
       "{}"
      ]
     },
     "execution_count": 11,
     "metadata": {},
     "output_type": "execute_result"
    }
   ],
   "source": [
    "import pathlib\n",
    "flagged = file_checks.run(uploader.uploaded())\n",
    "flagged"
   ]
  },
  {
   "cell_type": "code",
   "execution_count": 12,
   "metadata": {},
   "outputs": [
    {
     "data": {
      "text/plain": [
       "Flagged    0\n",
       "Passed     1\n",
       "Total      1\n",
       "Name: File Check Summary, dtype: UInt16"
      ]
     },
     "execution_count": 12,
     "metadata": {},
     "output_type": "execute_result"
    }
   ],
   "source": [
    "file_checks.summary()"
   ]
  },
  {
   "cell_type": "code",
   "execution_count": 13,
   "metadata": {},
   "outputs": [
    {
     "data": {
      "text/plain": [
       "(['/var/folders/jh/mqv5k4x56d98m2twhmk4bjdc0000gp/T/tmpix77s9q4/Geolocated_places_climate_with_LGA_and_remoteness_with_text.csv'],\n",
       " {})"
      ]
     },
     "execution_count": 13,
     "metadata": {},
     "output_type": "execute_result"
    }
   ],
   "source": [
    "file_checks.passed(), file_checks.flagged()"
   ]
  },
  {
   "cell_type": "markdown",
   "metadata": {
    "tags": []
   },
   "source": [
    "# Building the Corpus"
   ]
  },
  {
   "cell_type": "code",
   "execution_count": 14,
   "metadata": {
    "tags": []
   },
   "outputs": [
    {
     "data": {
      "text/html": [
       "<div>\n",
       "<style scoped>\n",
       "    .dataframe tbody tr th:only-of-type {\n",
       "        vertical-align: middle;\n",
       "    }\n",
       "\n",
       "    .dataframe tbody tr th {\n",
       "        vertical-align: top;\n",
       "    }\n",
       "\n",
       "    .dataframe thead th {\n",
       "        text-align: right;\n",
       "    }\n",
       "</style>\n",
       "<table border=\"1\" class=\"dataframe\">\n",
       "  <thead>\n",
       "    <tr style=\"text-align: right;\">\n",
       "      <th></th>\n",
       "      <th>All Columns</th>\n",
       "      <th>Added</th>\n",
       "    </tr>\n",
       "  </thead>\n",
       "  <tbody>\n",
       "    <tr>\n",
       "      <th>0</th>\n",
       "      <td>year</td>\n",
       "      <td></td>\n",
       "    </tr>\n",
       "    <tr>\n",
       "      <th>1</th>\n",
       "      <td>month</td>\n",
       "      <td></td>\n",
       "    </tr>\n",
       "    <tr>\n",
       "      <th>2</th>\n",
       "      <td>day</td>\n",
       "      <td></td>\n",
       "    </tr>\n",
       "    <tr>\n",
       "      <th>3</th>\n",
       "      <td>lat_mid</td>\n",
       "      <td></td>\n",
       "    </tr>\n",
       "    <tr>\n",
       "      <th>4</th>\n",
       "      <td>lon_mid</td>\n",
       "      <td></td>\n",
       "    </tr>\n",
       "    <tr>\n",
       "      <th>5</th>\n",
       "      <td>screen_name</td>\n",
       "      <td></td>\n",
       "    </tr>\n",
       "    <tr>\n",
       "      <th>6</th>\n",
       "      <td>tweet_id</td>\n",
       "      <td></td>\n",
       "    </tr>\n",
       "    <tr>\n",
       "      <th>7</th>\n",
       "      <td>retweet</td>\n",
       "      <td></td>\n",
       "    </tr>\n",
       "    <tr>\n",
       "      <th>8</th>\n",
       "      <td>text</td>\n",
       "      <td></td>\n",
       "    </tr>\n",
       "    <tr>\n",
       "      <th>9</th>\n",
       "      <td>geometry</td>\n",
       "      <td></td>\n",
       "    </tr>\n",
       "    <tr>\n",
       "      <th>10</th>\n",
       "      <td>tweet_lga</td>\n",
       "      <td></td>\n",
       "    </tr>\n",
       "    <tr>\n",
       "      <th>11</th>\n",
       "      <td>lga_code_2020</td>\n",
       "      <td></td>\n",
       "    </tr>\n",
       "    <tr>\n",
       "      <th>12</th>\n",
       "      <td>lga_name_2020</td>\n",
       "      <td></td>\n",
       "    </tr>\n",
       "    <tr>\n",
       "      <th>13</th>\n",
       "      <td>state_code_2016</td>\n",
       "      <td></td>\n",
       "    </tr>\n",
       "    <tr>\n",
       "      <th>14</th>\n",
       "      <td>state_name_2016</td>\n",
       "      <td></td>\n",
       "    </tr>\n",
       "    <tr>\n",
       "      <th>15</th>\n",
       "      <td>remoteness</td>\n",
       "      <td></td>\n",
       "    </tr>\n",
       "    <tr>\n",
       "      <th>16</th>\n",
       "      <td>remote_level</td>\n",
       "      <td></td>\n",
       "    </tr>\n",
       "  </tbody>\n",
       "</table>\n",
       "</div>"
      ],
      "text/plain": [
       "        All Columns Added\n",
       "0              year      \n",
       "1             month      \n",
       "2               day      \n",
       "3           lat_mid      \n",
       "4           lon_mid      \n",
       "5       screen_name      \n",
       "6          tweet_id      \n",
       "7           retweet      \n",
       "8              text      \n",
       "9          geometry      \n",
       "10        tweet_lga      \n",
       "11    lga_code_2020      \n",
       "12    lga_name_2020      \n",
       "13  state_code_2016      \n",
       "14  state_name_2016      \n",
       "15       remoteness      \n",
       "16     remote_level      "
      ]
     },
     "execution_count": 14,
     "metadata": {},
     "output_type": "execute_result"
    }
   ],
   "source": [
    "from juxtorpus.corpus import CorpusBuilder\n",
    "\n",
    "builder = CorpusBuilder(file_checks.passed())\n",
    "builder.show_columns()"
   ]
  },
  {
   "cell_type": "code",
   "execution_count": 15,
   "metadata": {},
   "outputs": [
    {
     "ename": "ValueError",
     "evalue": "created_at column does not exist.",
     "output_type": "error",
     "traceback": [
      "\u001b[0;31m---------------------------------------------------------------------------\u001b[0m",
      "\u001b[0;31mValueError\u001b[0m                                Traceback (most recent call last)",
      "Input \u001b[0;32mIn [15]\u001b[0m, in \u001b[0;36m<cell line: 5>\u001b[0;34m()\u001b[0m\n\u001b[1;32m      3\u001b[0m builder\u001b[38;5;241m.\u001b[39mset_nrows(\u001b[38;5;241m1000\u001b[39m)\n\u001b[1;32m      4\u001b[0m builder\u001b[38;5;241m.\u001b[39mset_sep(\u001b[38;5;124m'\u001b[39m\u001b[38;5;124m,\u001b[39m\u001b[38;5;124m'\u001b[39m)\n\u001b[0;32m----> 5\u001b[0m \u001b[43mbuilder\u001b[49m\u001b[38;5;241;43m.\u001b[39;49m\u001b[43madd_meta\u001b[49m\u001b[43m(\u001b[49m\u001b[38;5;124;43m'\u001b[39;49m\u001b[38;5;124;43mcreated_at\u001b[39;49m\u001b[38;5;124;43m'\u001b[39;49m\u001b[43m,\u001b[49m\u001b[43m \u001b[49m\u001b[43mdtype\u001b[49m\u001b[38;5;241;43m=\u001b[39;49m\u001b[38;5;124;43m'\u001b[39;49m\u001b[38;5;124;43mdatetime\u001b[39;49m\u001b[38;5;124;43m'\u001b[39;49m\u001b[43m,\u001b[49m\u001b[43m \u001b[49m\u001b[43mlazy\u001b[49m\u001b[38;5;241;43m=\u001b[39;49m\u001b[38;5;28;43;01mTrue\u001b[39;49;00m\u001b[43m)\u001b[49m\n\u001b[1;32m      6\u001b[0m builder\u001b[38;5;241m.\u001b[39madd_meta(\u001b[38;5;124m'\u001b[39m\u001b[38;5;124mid\u001b[39m\u001b[38;5;124m'\u001b[39m, dtype\u001b[38;5;241m=\u001b[39m\u001b[38;5;124m'\u001b[39m\u001b[38;5;124mint\u001b[39m\u001b[38;5;124m'\u001b[39m, lazy\u001b[38;5;241m=\u001b[39m\u001b[38;5;28;01mFalse\u001b[39;00m)\n\u001b[1;32m      7\u001b[0m builder\u001b[38;5;241m.\u001b[39mshow_columns()\n",
      "File \u001b[0;32m~/workspace/juxtorpus/juxtorpus/corpus/builder.py:32\u001b[0m, in \u001b[0;36mCorpusBuilder.add_meta\u001b[0;34m(self, column, dtype, lazy)\u001b[0m\n\u001b[1;32m     30\u001b[0m \u001b[38;5;28;01mdef\u001b[39;00m \u001b[38;5;21madd_meta\u001b[39m(\u001b[38;5;28mself\u001b[39m, column: \u001b[38;5;28mstr\u001b[39m, dtype: \u001b[38;5;28mstr\u001b[39m \u001b[38;5;241m=\u001b[39m \u001b[38;5;28;01mNone\u001b[39;00m, lazy\u001b[38;5;241m=\u001b[39m\u001b[38;5;28;01mFalse\u001b[39;00m):\n\u001b[1;32m     31\u001b[0m     \u001b[38;5;28;01mif\u001b[39;00m column \u001b[38;5;129;01mnot\u001b[39;00m \u001b[38;5;129;01min\u001b[39;00m \u001b[38;5;28mself\u001b[39m\u001b[38;5;241m.\u001b[39m_columns:\n\u001b[0;32m---> 32\u001b[0m         \u001b[38;5;28;01mraise\u001b[39;00m \u001b[38;5;167;01mValueError\u001b[39;00m(\u001b[38;5;124mf\u001b[39m\u001b[38;5;124m\"\u001b[39m\u001b[38;5;132;01m{\u001b[39;00mcolumn\u001b[38;5;132;01m}\u001b[39;00m\u001b[38;5;124m column does not exist.\u001b[39m\u001b[38;5;124m\"\u001b[39m)\n\u001b[1;32m     33\u001b[0m     col_dict \u001b[38;5;241m=\u001b[39m \u001b[38;5;28mself\u001b[39m\u001b[38;5;241m.\u001b[39m_metas_configs\u001b[38;5;241m.\u001b[39mget(column, \u001b[38;5;28mdict\u001b[39m())\n\u001b[1;32m     34\u001b[0m     col_dict[\u001b[38;5;124m'\u001b[39m\u001b[38;5;124mdtype\u001b[39m\u001b[38;5;124m'\u001b[39m] \u001b[38;5;241m=\u001b[39m dtype\n",
      "\u001b[0;31mValueError\u001b[0m: created_at column does not exist."
     ]
    }
   ],
   "source": [
    "builder.set_corpus_type('corpus')\n",
    "builder.set_text_column('doc')\n",
    "builder.set_nrows(1000)\n",
    "builder.set_sep(',')\n",
    "builder.add_meta('created_at', dtype='datetime', lazy=True)\n",
    "builder.add_meta('id', dtype='int', lazy=False)\n",
    "builder.show_columns()"
   ]
  },
  {
   "cell_type": "code",
   "execution_count": 10,
   "metadata": {},
   "outputs": [],
   "source": [
    "corpus = builder.build()"
   ]
  },
  {
   "cell_type": "code",
   "execution_count": 11,
   "metadata": {},
   "outputs": [
    {
     "data": {
      "text/plain": [
       "frozendict.frozendict({'created_at': <SeriesMeta [Id: created_at]>, 'id': <SeriesMeta [Id: id]>})"
      ]
     },
     "execution_count": 11,
     "metadata": {},
     "output_type": "execute_result"
    }
   ],
   "source": [
    "corpus.metas()"
   ]
  },
  {
   "cell_type": "code",
   "execution_count": 12,
   "metadata": {},
   "outputs": [
    {
     "data": {
      "text/plain": [
       "0   2017-04-05 14:56:29\n",
       "1   2017-04-03 20:01:01\n",
       "2   2017-04-03 16:59:35\n",
       "3   2017-04-03 16:30:19\n",
       "4   2017-04-02 06:05:23\n",
       "Name: created_at, dtype: datetime64[ns]"
      ]
     },
     "execution_count": 12,
     "metadata": {},
     "output_type": "execute_result"
    }
   ],
   "source": [
    "corpus.metas().get('created_at').preview(5)"
   ]
  },
  {
   "cell_type": "code",
   "execution_count": 13,
   "metadata": {},
   "outputs": [
    {
     "data": {
      "text/plain": [
       "('Original: 1000 documents.', 'Slice: 16 documents')"
      ]
     },
     "execution_count": 13,
     "metadata": {},
     "output_type": "execute_result"
    }
   ],
   "source": [
    "from juxtorpus.corpus import CorpusSlicer\n",
    "import pandas as pd\n",
    "\n",
    "slicer = CorpusSlicer(corpus)\n",
    "corpus_subset = slicer.filter_by_condition('created_at', lambda x: x > pd.Timestamp('2017-04-02'))\n",
    "\n",
    "\"Original: {} documents.\".format(len(corpus)), \"Slice: {} documents\".format(len(corpus_subset))"
   ]
  },
  {
   "cell_type": "code",
   "execution_count": 14,
   "metadata": {},
   "outputs": [
    {
     "data": {
      "text/plain": [
       "0    849636868052275200\n",
       "1    848988730585096192\n",
       "2    848943072423497728\n",
       "3    848935705057280001\n",
       "4    848416049573658624\n",
       "Name: id, dtype: int64"
      ]
     },
     "execution_count": 14,
     "metadata": {},
     "output_type": "execute_result"
    }
   ],
   "source": [
    "corpus_subset.metas().get('id').preview(5)"
   ]
  },
  {
   "cell_type": "code",
   "execution_count": 15,
   "metadata": {},
   "outputs": [
    {
     "data": {
      "text/plain": [
       "0   -849636868052275200\n",
       "1   -848988730585096192\n",
       "2   -848943072423497728\n",
       "3   -848935705057280001\n",
       "4   -848416049573658624\n",
       "5   -848415731502923777\n",
       "6   -848415356263702528\n",
       "7   -848398971139629057\n",
       "0   -849636868052275200\n",
       "1   -848988730585096192\n",
       "2   -848943072423497728\n",
       "3   -848935705057280001\n",
       "4   -848416049573658624\n",
       "5   -848415731502923777\n",
       "6   -848415356263702528\n",
       "7   -848398971139629057\n",
       "Name: id, dtype: int64"
      ]
     },
     "execution_count": 15,
     "metadata": {},
     "output_type": "execute_result"
    }
   ],
   "source": [
    "another_meta = corpus_subset.metas().get('id').apply(lambda x: x*-1)\n",
    "another_meta"
   ]
  },
  {
   "cell_type": "code",
   "execution_count": 16,
   "metadata": {},
   "outputs": [
    {
     "data": {
      "text/plain": [
       "frozendict.frozendict({'created_at': <SeriesMeta [Id: created_at]>, 'id': <SeriesMeta [Id: id]>, 'anothermeta': <SeriesMeta [Id: anothermeta]>})"
      ]
     },
     "execution_count": 16,
     "metadata": {},
     "output_type": "execute_result"
    }
   ],
   "source": [
    "from juxtorpus.meta import SeriesMeta\n",
    "\n",
    "series_meta = SeriesMeta(id_='anothermeta', series=another_meta)\n",
    "\n",
    "corpus_subset.add_meta(series_meta)\n",
    "\n",
    "corpus_subset.metas()"
   ]
  },
  {
   "cell_type": "code",
   "execution_count": 17,
   "metadata": {},
   "outputs": [],
   "source": [
    "slicer = CorpusSlicer(corpus_subset)\n",
    "corpus_subset_subset = slicer.filter_by_condition('anothermeta', lambda x: x > 0)"
   ]
  },
  {
   "cell_type": "code",
   "execution_count": 19,
   "metadata": {},
   "outputs": [
    {
     "data": {
      "text/plain": [
       "(1000, 16, 0)"
      ]
     },
     "execution_count": 19,
     "metadata": {},
     "output_type": "execute_result"
    }
   ],
   "source": [
    "len(corpus), len(corpus_subset), len(corpus_subset_subset)"
   ]
  },
  {
   "cell_type": "code",
   "execution_count": 20,
   "metadata": {},
   "outputs": [
    {
     "data": {
      "text/plain": [
       "(frozendict.frozendict({'created_at': <SeriesMeta [Id: created_at]>, 'id': <SeriesMeta [Id: id]>}),\n",
       " frozendict.frozendict({'created_at': <SeriesMeta [Id: created_at]>, 'id': <SeriesMeta [Id: id]>, 'anothermeta': <SeriesMeta [Id: anothermeta]>}),\n",
       " frozendict.frozendict({'created_at': <SeriesMeta [Id: created_at]>, 'id': <SeriesMeta [Id: id]>, 'anothermeta': <SeriesMeta [Id: anothermeta]>}))"
      ]
     },
     "execution_count": 20,
     "metadata": {},
     "output_type": "execute_result"
    }
   ],
   "source": [
    "corpus.metas(), corpus_subset.metas(), corpus_subset_subset.metas()"
   ]
  },
  {
   "cell_type": "code",
   "execution_count": null,
   "metadata": {},
   "outputs": [],
   "source": []
  }
 ],
 "metadata": {
  "kernelspec": {
   "display_name": "Python 3 (ipykernel)",
   "language": "python",
   "name": "python3"
  },
  "language_info": {
   "codemirror_mode": {
    "name": "ipython",
    "version": 3
   },
   "file_extension": ".py",
   "mimetype": "text/x-python",
   "name": "python",
   "nbconvert_exporter": "python",
   "pygments_lexer": "ipython3",
   "version": "3.9.13"
  }
 },
 "nbformat": 4,
 "nbformat_minor": 4
}
