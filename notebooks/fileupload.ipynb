{
 "cells": [
  {
   "cell_type": "code",
   "execution_count": 1,
   "metadata": {},
   "outputs": [
    {
     "data": {
      "text/plain": [
       "'Working directory: /Users/hcha9747/workspace/juxtorpus'"
      ]
     },
     "execution_count": 1,
     "metadata": {},
     "output_type": "execute_result"
    }
   ],
   "source": [
    "import os\n",
    "if  not os.getcwd().endswith('juxtorpus'): \n",
    "    os.chdir('../')\n",
    "assert os.getcwd().endswith('juxtorpus'), f\"Working directory should be at juxtorpus. But at {os.getcwd()}\"\n",
    "f\"Working directory: {os.getcwd()}\" "
   ]
  },
  {
   "cell_type": "markdown",
   "metadata": {},
   "source": [
    "# File Upload Widget"
   ]
  },
  {
   "cell_type": "code",
   "execution_count": 2,
   "metadata": {
    "tags": []
   },
   "outputs": [
    {
     "data": {
      "application/vnd.jupyter.widget-view+json": {
       "model_id": "5260ce38837c46838d2e7cf2a3004d74",
       "version_major": 2,
       "version_minor": 0
      },
      "text/plain": [
       "VBox(children=(FileUpload(value={}, accept='.txt, .csv, .xlsx, .zip', description='Upload your files here.\\n(.…"
      ]
     },
     "metadata": {},
     "output_type": "display_data"
    }
   ],
   "source": [
    "from juxtorpus.viz.widgets import FileUploadWidget\n",
    "\n",
    "uploader = FileUploadWidget()\n",
    "uploader.render()\n",
    "# Show here: uploading another set of files will overwrite the previous."
   ]
  },
  {
   "cell_type": "code",
   "execution_count": 4,
   "metadata": {},
   "outputs": [
    {
     "data": {
      "text/plain": [
       "[PosixPath('/var/folders/jh/mqv5k4x56d98m2twhmk4bjdc0000gp/T/tmpal6lqmmn/elonmusk_tweets.csv'),\n",
       " PosixPath('/var/folders/jh/mqv5k4x56d98m2twhmk4bjdc0000gp/T/tmpal6lqmmn/elonmusk_tweets_copy.csv')]"
      ]
     },
     "execution_count": 4,
     "metadata": {},
     "output_type": "execute_result"
    }
   ],
   "source": [
    "uploader.uploaded()"
   ]
  },
  {
   "cell_type": "markdown",
   "metadata": {},
   "source": [
    "# File Checks"
   ]
  },
  {
   "cell_type": "code",
   "execution_count": 5,
   "metadata": {},
   "outputs": [],
   "source": [
    "from juxtorpus.checks import FileCheckers, FileSizeCheck, EncodingCheck\n",
    "\n",
    "checks = [\n",
    "    FileSizeCheck(max_bytes=1_000_000),\n",
    "    EncodingCheck(expected='utf-8', min_rows_to_check=100)\n",
    "]\n",
    "file_checks = FileCheckers(checks)"
   ]
  },
  {
   "cell_type": "code",
   "execution_count": 6,
   "metadata": {},
   "outputs": [
    {
     "data": {
      "text/plain": [
       "{}"
      ]
     },
     "execution_count": 6,
     "metadata": {},
     "output_type": "execute_result"
    }
   ],
   "source": [
    "import pathlib\n",
    "flagged = file_checks.run(uploader.uploaded())\n",
    "flagged"
   ]
  },
  {
   "cell_type": "code",
   "execution_count": 7,
   "metadata": {},
   "outputs": [
    {
     "data": {
      "text/plain": [
       "Flagged    0\n",
       "Passed     2\n",
       "Total      2\n",
       "Name: File Check Summary, dtype: UInt16"
      ]
     },
     "execution_count": 7,
     "metadata": {},
     "output_type": "execute_result"
    }
   ],
   "source": [
    "file_checks.summary()"
   ]
  },
  {
   "cell_type": "code",
   "execution_count": 8,
   "metadata": {},
   "outputs": [
    {
     "data": {
      "text/plain": [
       "(['/var/folders/jh/mqv5k4x56d98m2twhmk4bjdc0000gp/T/tmpal6lqmmn/elonmusk_tweets.csv',\n",
       "  '/var/folders/jh/mqv5k4x56d98m2twhmk4bjdc0000gp/T/tmpal6lqmmn/elonmusk_tweets_copy.csv'],\n",
       " {})"
      ]
     },
     "execution_count": 8,
     "metadata": {},
     "output_type": "execute_result"
    }
   ],
   "source": [
    "file_checks.passed(), file_checks.flagged()"
   ]
  },
  {
   "cell_type": "markdown",
   "metadata": {
    "tags": []
   },
   "source": [
    "# Building the Corpus"
   ]
  },
  {
   "cell_type": "code",
   "execution_count": 9,
   "metadata": {
    "tags": []
   },
   "outputs": [
    {
     "data": {
      "text/html": [
       "<div>\n",
       "<style scoped>\n",
       "    .dataframe tbody tr th:only-of-type {\n",
       "        vertical-align: middle;\n",
       "    }\n",
       "\n",
       "    .dataframe tbody tr th {\n",
       "        vertical-align: top;\n",
       "    }\n",
       "\n",
       "    .dataframe thead th {\n",
       "        text-align: right;\n",
       "    }\n",
       "</style>\n",
       "<table border=\"1\" class=\"dataframe\">\n",
       "  <thead>\n",
       "    <tr style=\"text-align: right;\">\n",
       "      <th></th>\n",
       "      <th>All Columns</th>\n",
       "      <th>Added</th>\n",
       "    </tr>\n",
       "  </thead>\n",
       "  <tbody>\n",
       "    <tr>\n",
       "      <th>0</th>\n",
       "      <td>id</td>\n",
       "      <td></td>\n",
       "    </tr>\n",
       "    <tr>\n",
       "      <th>1</th>\n",
       "      <td>created_at</td>\n",
       "      <td></td>\n",
       "    </tr>\n",
       "    <tr>\n",
       "      <th>2</th>\n",
       "      <td>doc</td>\n",
       "      <td></td>\n",
       "    </tr>\n",
       "  </tbody>\n",
       "</table>\n",
       "</div>"
      ],
      "text/plain": [
       "  All Columns Added\n",
       "0          id      \n",
       "1  created_at      \n",
       "2         doc      "
      ]
     },
     "execution_count": 9,
     "metadata": {},
     "output_type": "execute_result"
    }
   ],
   "source": [
    "from juxtorpus.corpus import CorpusBuilder\n",
    "\n",
    "builder = CorpusBuilder(file_checks.passed())\n",
    "builder.show_columns()"
   ]
  },
  {
   "cell_type": "code",
   "execution_count": 10,
   "metadata": {},
   "outputs": [
    {
     "data": {
      "text/html": [
       "<div>\n",
       "<style scoped>\n",
       "    .dataframe tbody tr th:only-of-type {\n",
       "        vertical-align: middle;\n",
       "    }\n",
       "\n",
       "    .dataframe tbody tr th {\n",
       "        vertical-align: top;\n",
       "    }\n",
       "\n",
       "    .dataframe thead th {\n",
       "        text-align: right;\n",
       "    }\n",
       "</style>\n",
       "<table border=\"1\" class=\"dataframe\">\n",
       "  <thead>\n",
       "    <tr style=\"text-align: right;\">\n",
       "      <th></th>\n",
       "      <th>All Columns</th>\n",
       "      <th>Added</th>\n",
       "    </tr>\n",
       "  </thead>\n",
       "  <tbody>\n",
       "    <tr>\n",
       "      <th>0</th>\n",
       "      <td>id</td>\n",
       "      <td>created_at</td>\n",
       "    </tr>\n",
       "    <tr>\n",
       "      <th>1</th>\n",
       "      <td>created_at</td>\n",
       "      <td>id</td>\n",
       "    </tr>\n",
       "    <tr>\n",
       "      <th>2</th>\n",
       "      <td>doc</td>\n",
       "      <td></td>\n",
       "    </tr>\n",
       "  </tbody>\n",
       "</table>\n",
       "</div>"
      ],
      "text/plain": [
       "  All Columns       Added\n",
       "0          id  created_at\n",
       "1  created_at          id\n",
       "2         doc            "
      ]
     },
     "execution_count": 10,
     "metadata": {},
     "output_type": "execute_result"
    }
   ],
   "source": [
    "builder.set_corpus_type('corpus')\n",
    "builder.set_text_column('doc')\n",
    "builder.set_nrows(1000)\n",
    "builder.set_sep(',')\n",
    "builder.add_meta('created_at', dtype='datetime', lazy=True)\n",
    "builder.add_meta('id', dtype='int', lazy=False)\n",
    "builder.show_columns()"
   ]
  },
  {
   "cell_type": "code",
   "execution_count": 11,
   "metadata": {},
   "outputs": [],
   "source": [
    "corpus = builder.build()"
   ]
  },
  {
   "cell_type": "code",
   "execution_count": 12,
   "metadata": {},
   "outputs": [
    {
     "data": {
      "text/plain": [
       "frozendict.frozendict({'created_at': <SeriesMeta [Id: created_at]>, 'id': <SeriesMeta [Id: id]>})"
      ]
     },
     "execution_count": 12,
     "metadata": {},
     "output_type": "execute_result"
    }
   ],
   "source": [
    "corpus.metas()"
   ]
  },
  {
   "cell_type": "code",
   "execution_count": 13,
   "metadata": {},
   "outputs": [
    {
     "data": {
      "text/plain": [
       "0   2017-04-05 14:56:29\n",
       "1   2017-04-03 20:01:01\n",
       "2   2017-04-03 16:59:35\n",
       "3   2017-04-03 16:30:19\n",
       "4   2017-04-02 06:05:23\n",
       "Name: created_at, dtype: datetime64[ns]"
      ]
     },
     "execution_count": 13,
     "metadata": {},
     "output_type": "execute_result"
    }
   ],
   "source": [
    "corpus.metas().get('created_at').preview(5)"
   ]
  },
  {
   "cell_type": "code",
   "execution_count": 17,
   "metadata": {},
   "outputs": [
    {
     "data": {
      "text/plain": [
       "('Original: 1000 documents.', 'Slice: 8 documents')"
      ]
     },
     "execution_count": 17,
     "metadata": {},
     "output_type": "execute_result"
    }
   ],
   "source": [
    "from juxtorpus.corpus import CorpusSlicer\n",
    "import pandas as pd\n",
    "\n",
    "slicer = CorpusSlicer(corpus)\n",
    "corpus_subset = slicer.filter_by_condition('created_at', lambda x: x > pd.Timestamp('2017-04-02'))\n",
    "\n",
    "\"Original: {} documents.\".format(len(corpus)), \"Slice: {} documents\".format(len(corpus_subset))"
   ]
  },
  {
   "cell_type": "code",
   "execution_count": 18,
   "metadata": {},
   "outputs": [
    {
     "data": {
      "text/plain": [
       "0    849636868052275200\n",
       "1    848988730585096192\n",
       "2    848943072423497728\n",
       "3    848935705057280001\n",
       "4    848416049573658624\n",
       "Name: id, dtype: int64"
      ]
     },
     "execution_count": 18,
     "metadata": {},
     "output_type": "execute_result"
    }
   ],
   "source": [
    "corpus_subset.metas().get('id').preview(5)"
   ]
  },
  {
   "cell_type": "code",
   "execution_count": 19,
   "metadata": {},
   "outputs": [
    {
     "data": {
      "text/plain": [
       "0   -849636868052275200\n",
       "1   -848988730585096192\n",
       "2   -848943072423497728\n",
       "3   -848935705057280001\n",
       "4   -848416049573658624\n",
       "5   -848415731502923777\n",
       "6   -848415356263702528\n",
       "7   -848398971139629057\n",
       "Name: id, dtype: int64"
      ]
     },
     "execution_count": 19,
     "metadata": {},
     "output_type": "execute_result"
    }
   ],
   "source": [
    "another_meta = corpus_subset.metas().get('id').apply(lambda x: x*-1)\n",
    "another_meta"
   ]
  },
  {
   "cell_type": "code",
   "execution_count": 20,
   "metadata": {},
   "outputs": [
    {
     "data": {
      "text/plain": [
       "frozendict.frozendict({'created_at': <SeriesMeta [Id: created_at]>, 'id': <SeriesMeta [Id: id]>, 'anothermeta': <SeriesMeta [Id: anothermeta]>})"
      ]
     },
     "execution_count": 20,
     "metadata": {},
     "output_type": "execute_result"
    }
   ],
   "source": [
    "from juxtorpus.meta import SeriesMeta\n",
    "\n",
    "series_meta = SeriesMeta(id_='anothermeta', series=another_meta)\n",
    "\n",
    "corpus_subset.add_meta(series_meta)\n",
    "\n",
    "corpus_subset.metas()"
   ]
  },
  {
   "cell_type": "code",
   "execution_count": 21,
   "metadata": {},
   "outputs": [],
   "source": [
    "slicer = CorpusSlicer(corpus_subset)\n",
    "corpus_subset_subset = slicer.filter_by_condition('anothermeta', lambda x: x > 0)"
   ]
  },
  {
   "cell_type": "code",
   "execution_count": 22,
   "metadata": {},
   "outputs": [
    {
     "data": {
      "text/plain": [
       "(1000, 8, 0)"
      ]
     },
     "execution_count": 22,
     "metadata": {},
     "output_type": "execute_result"
    }
   ],
   "source": [
    "len(corpus), len(corpus_subset), len(corpus_subset_subset)"
   ]
  },
  {
   "cell_type": "code",
   "execution_count": 23,
   "metadata": {},
   "outputs": [
    {
     "data": {
      "text/plain": [
       "(frozendict.frozendict({'created_at': <SeriesMeta [Id: created_at]>, 'id': <SeriesMeta [Id: id]>}),\n",
       " frozendict.frozendict({'created_at': <SeriesMeta [Id: created_at]>, 'id': <SeriesMeta [Id: id]>, 'anothermeta': <SeriesMeta [Id: anothermeta]>}),\n",
       " frozendict.frozendict({'created_at': <SeriesMeta [Id: created_at]>, 'id': <SeriesMeta [Id: id]>, 'anothermeta': <SeriesMeta [Id: anothermeta]>}))"
      ]
     },
     "execution_count": 23,
     "metadata": {},
     "output_type": "execute_result"
    }
   ],
   "source": [
    "corpus.metas(), corpus_subset.metas(), corpus_subset_subset.metas()"
   ]
  },
  {
   "cell_type": "code",
   "execution_count": null,
   "metadata": {},
   "outputs": [],
   "source": []
  }
 ],
 "metadata": {
  "kernelspec": {
   "display_name": "Python 3 (ipykernel)",
   "language": "python",
   "name": "python3"
  },
  "language_info": {
   "codemirror_mode": {
    "name": "ipython",
    "version": 3
   },
   "file_extension": ".py",
   "mimetype": "text/x-python",
   "name": "python",
   "nbconvert_exporter": "python",
   "pygments_lexer": "ipython3",
   "version": "3.9.13"
  }
 },
 "nbformat": 4,
 "nbformat_minor": 4
}
