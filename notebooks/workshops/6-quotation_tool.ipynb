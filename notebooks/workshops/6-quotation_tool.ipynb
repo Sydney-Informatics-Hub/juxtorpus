{
 "cells": [
  {
   "cell_type": "code",
   "execution_count": 1,
   "id": "5226e01b-57eb-4d1c-a217-c7d4f0de3706",
   "metadata": {
    "tags": []
   },
   "outputs": [],
   "source": [
    "#!pip install git+https://github.com/Australian-Text-Analytics-Platform/quotation-tool.git@dbe8a9c23de7a7afffd72c00d2bcd7a838be649b"
   ]
  },
  {
   "cell_type": "code",
   "execution_count": 2,
   "id": "1fa6533c-09e2-4871-b77d-0bce317cb876",
   "metadata": {
    "tags": []
   },
   "outputs": [
    {
     "data": {
      "text/plain": [
       "'Working directory: /Users/hcha9747/workspace/juxtorpus'"
      ]
     },
     "execution_count": 2,
     "metadata": {},
     "output_type": "execute_result"
    }
   ],
   "source": [
    "# just pathing - ignore this\n",
    "import os\n",
    "while  not 'juxtorpus' in os.listdir():\n",
    "    os.chdir('../')\n",
    "assert 'juxtorpus' in os.listdir(), f\"Working directory should be at juxtorpus. But at {os.getcwd()}\"\n",
    "f\"Working directory: {os.getcwd()}\""
   ]
  },
  {
   "cell_type": "markdown",
   "id": "6dafe158-9ac7-4276-a054-1ecf36a025f2",
   "metadata": {},
   "source": [
    "# Australian Text Analytics Platform (ATAP)\n",
    "The Australian Text Analytics Platform aims to bring computational text analysis to the hands of students and researchers with little coding experience through easy to use widgets and library of functions on jupyter notebooks."
   ]
  },
  {
   "cell_type": "markdown",
   "id": "6b7a6f93-409b-4404-9643-9814c979d5d6",
   "metadata": {},
   "source": [
    "### 1. Create a Corpus"
   ]
  },
  {
   "cell_type": "code",
   "execution_count": 3,
   "id": "eb92e913-980d-498c-a183-04c876c967e1",
   "metadata": {},
   "outputs": [],
   "source": [
    "import pandas as pd\n",
    "from juxtorpus.corpus import Corpus\n",
    "\n",
    "corpus = Corpus.from_dataframe(pd.read_excel('notebooks/workshops/ten_texts.xlsx'), col_doc='doc')"
   ]
  },
  {
   "cell_type": "code",
   "execution_count": 4,
   "id": "5dd71c4c-a02f-4ee5-8d47-159b334d73cf",
   "metadata": {
    "tags": []
   },
   "outputs": [],
   "source": [
    "# corpus.summary().T"
   ]
  },
  {
   "cell_type": "code",
   "execution_count": 5,
   "id": "56e0fcb5-5399-4713-ba2b-5be6c9f8f2e5",
   "metadata": {
    "tags": []
   },
   "outputs": [],
   "source": [
    "# corpus.viz.wordcloud(metric='tf')"
   ]
  },
  {
   "cell_type": "markdown",
   "id": "6dd83d13-70f9-4e19-9bee-282bd2ffb03b",
   "metadata": {},
   "source": [
    "# Quotation Tool\n",
    "Quotation tool can be used to **automatically extract quotes and the associated speaker**."
   ]
  },
  {
   "cell_type": "code",
   "execution_count": 6,
   "id": "5f69cf76-b549-43b4-ba93-be470074cc02",
   "metadata": {
    "tags": []
   },
   "outputs": [
    {
     "name": "stderr",
     "output_type": "stream",
     "text": [
      "[nltk_data] Downloading package punkt to /Users/hcha9747/nltk_data...\n",
      "[nltk_data]   Package punkt is already up-to-date!\n"
     ]
    }
   ],
   "source": [
    "from quotation_tool.extract_display_quotes import QuotationTool"
   ]
  },
  {
   "cell_type": "code",
   "execution_count": 7,
   "id": "63974997-d50f-4365-9dbf-89d962dcf077",
   "metadata": {
    "tags": []
   },
   "outputs": [
    {
     "name": "stdout",
     "output_type": "stream",
     "text": [
      "hello\n",
      "/Users/hcha9747/workspace/juxtorpus\n"
     ]
    },
    {
     "ename": "FileNotFoundError",
     "evalue": "[Errno 2] No such file or directory: './quotation_tool/gender_gap_tracker/rules/quote_verb_list.txt'",
     "output_type": "error",
     "traceback": [
      "\u001b[0;31m---------------------------------------------------------------------------\u001b[0m",
      "\u001b[0;31mFileNotFoundError\u001b[0m                         Traceback (most recent call last)",
      "Cell \u001b[0;32mIn[7], line 1\u001b[0m\n\u001b[0;32m----> 1\u001b[0m qt \u001b[38;5;241m=\u001b[39m \u001b[43mQuotationTool\u001b[49m\u001b[38;5;241;43m.\u001b[39;49m\u001b[43mfrom_corpus\u001b[49m\u001b[43m(\u001b[49m\u001b[43mcorpus\u001b[49m\u001b[43m,\u001b[49m\u001b[43m \u001b[49m\u001b[43mtext_name_meta_id\u001b[49m\u001b[38;5;241;43m=\u001b[39;49m\u001b[38;5;124;43m'\u001b[39;49m\u001b[38;5;124;43mid\u001b[39;49m\u001b[38;5;124;43m'\u001b[39;49m\u001b[43m)\u001b[49m\n",
      "File \u001b[0;32m~/workspace/juxtorpus/.venv-test/lib/python3.9/site-packages/quotation_tool/extract_display_quotes.py:181\u001b[0m, in \u001b[0;36mQuotationTool.from_corpus\u001b[0;34m(cls, corpus, text_name_meta_id)\u001b[0m\n\u001b[1;32m    179\u001b[0m     \u001b[38;5;28;01mraise\u001b[39;00m \u001b[38;5;167;01mTypeError\u001b[39;00m(\u001b[38;5;124mf\u001b[39m\u001b[38;5;124m\"\u001b[39m\u001b[38;5;124mExpecting meta to be type string, but got \u001b[39m\u001b[38;5;132;01m{\u001b[39;00mtext_name_meta\u001b[38;5;241m.\u001b[39mdtype\u001b[38;5;132;01m}\u001b[39;00m\u001b[38;5;124m.\u001b[39m\u001b[38;5;124m\"\u001b[39m)\n\u001b[1;32m    180\u001b[0m df[\u001b[38;5;124m'\u001b[39m\u001b[38;5;124mtext_name\u001b[39m\u001b[38;5;124m'\u001b[39m] \u001b[38;5;241m=\u001b[39m text_name_meta\u001b[38;5;241m.\u001b[39mseries\n\u001b[0;32m--> 181\u001b[0m qt \u001b[38;5;241m=\u001b[39m \u001b[38;5;28;43mcls\u001b[39;49m\u001b[43m(\u001b[49m\u001b[43m)\u001b[49m\n\u001b[1;32m    182\u001b[0m qt\u001b[38;5;241m.\u001b[39mtext_df \u001b[38;5;241m=\u001b[39m \u001b[38;5;28mcls\u001b[39m\u001b[38;5;241m.\u001b[39mhash_gen(df)\n\u001b[1;32m    183\u001b[0m \u001b[38;5;28;01mreturn\u001b[39;00m qt\n",
      "File \u001b[0;32m~/workspace/juxtorpus/.venv-test/lib/python3.9/site-packages/quotation_tool/extract_display_quotes.py:102\u001b[0m, in \u001b[0;36mQuotationTool.__init__\u001b[0;34m(self)\u001b[0m\n\u001b[1;32m     98\u001b[0m \u001b[38;5;250m\u001b[39m\u001b[38;5;124;03m'''\u001b[39;00m\n\u001b[1;32m     99\u001b[0m \u001b[38;5;124;03mInitiate the QuotationTool\u001b[39;00m\n\u001b[1;32m    100\u001b[0m \u001b[38;5;124;03m'''\u001b[39;00m\n\u001b[1;32m    101\u001b[0m \u001b[38;5;66;03m# initiate the QuoteExtractor\u001b[39;00m\n\u001b[0;32m--> 102\u001b[0m \u001b[38;5;28mself\u001b[39m\u001b[38;5;241m.\u001b[39mqt \u001b[38;5;241m=\u001b[39m \u001b[43mQuoteExtractor\u001b[49m\u001b[43m(\u001b[49m\u001b[43mconfig\u001b[49m\u001b[43m)\u001b[49m\n\u001b[1;32m    104\u001b[0m \u001b[38;5;66;03m# initiate the app_logger\u001b[39;00m\n\u001b[1;32m    105\u001b[0m \u001b[38;5;28mself\u001b[39m\u001b[38;5;241m.\u001b[39mapp_logger \u001b[38;5;241m=\u001b[39m utils\u001b[38;5;241m.\u001b[39mcreate_logger(\u001b[38;5;124m'\u001b[39m\u001b[38;5;124mquote_extractor\u001b[39m\u001b[38;5;124m'\u001b[39m, log_dir\u001b[38;5;241m=\u001b[39m\u001b[38;5;124m'\u001b[39m\u001b[38;5;124m../logs\u001b[39m\u001b[38;5;124m'\u001b[39m,\n\u001b[1;32m    106\u001b[0m                                       logger_level\u001b[38;5;241m=\u001b[39mlogging\u001b[38;5;241m.\u001b[39mINFO,\n\u001b[1;32m    107\u001b[0m                                       file_log_level\u001b[38;5;241m=\u001b[39mlogging\u001b[38;5;241m.\u001b[39mINFO)\n",
      "File \u001b[0;32m~/workspace/juxtorpus/.venv-test/lib/python3.9/site-packages/quotation_tool/gender_gap_tracker/quote_extractor.py:63\u001b[0m, in \u001b[0;36mQuoteExtractor.__init__\u001b[0;34m(self, config)\u001b[0m\n\u001b[1;32m     60\u001b[0m \u001b[38;5;28mprint\u001b[39m(\u001b[38;5;124m\"\u001b[39m\u001b[38;5;124mhello\u001b[39m\u001b[38;5;124m\"\u001b[39m)\n\u001b[1;32m     61\u001b[0m \u001b[38;5;28mprint\u001b[39m(Path(\u001b[38;5;124m'\u001b[39m\u001b[38;5;124m.\u001b[39m\u001b[38;5;124m'\u001b[39m)\u001b[38;5;241m.\u001b[39mabsolute())\n\u001b[1;32m     62\u001b[0m \u001b[38;5;28mself\u001b[39m\u001b[38;5;241m.\u001b[39mquote_verbs \u001b[38;5;241m=\u001b[39m [\n\u001b[0;32m---> 63\u001b[0m     verb \u001b[38;5;28;01mfor\u001b[39;00m verb \u001b[38;5;129;01min\u001b[39;00m \u001b[38;5;28;43mopen\u001b[39;49m\u001b[43m(\u001b[49m\u001b[43mconfig\u001b[49m\u001b[43m[\u001b[49m\u001b[38;5;124;43m\"\u001b[39;49m\u001b[38;5;124;43mNLP\u001b[39;49m\u001b[38;5;124;43m\"\u001b[39;49m\u001b[43m]\u001b[49m\u001b[43m[\u001b[49m\u001b[38;5;124;43m\"\u001b[39;49m\u001b[38;5;124;43mQUOTE_VERBS\u001b[39;49m\u001b[38;5;124;43m\"\u001b[39;49m\u001b[43m]\u001b[49m\u001b[43m)\u001b[49m\u001b[38;5;241m.\u001b[39mread()\u001b[38;5;241m.\u001b[39msplit()\n\u001b[1;32m     64\u001b[0m ]\n",
      "\u001b[0;31mFileNotFoundError\u001b[0m: [Errno 2] No such file or directory: './quotation_tool/gender_gap_tracker/rules/quote_verb_list.txt'"
     ]
    }
   ],
   "source": [
    "qt = QuotationTool.from_corpus(corpus, text_name_meta_id='id')"
   ]
  },
  {
   "cell_type": "code",
   "execution_count": null,
   "id": "c8b31419-1e80-40cb-997b-d2006ee47963",
   "metadata": {},
   "outputs": [],
   "source": []
  }
 ],
 "metadata": {
  "kernelspec": {
   "display_name": "Python 3 (ipykernel)",
   "language": "python",
   "name": "python3"
  },
  "language_info": {
   "codemirror_mode": {
    "name": "ipython",
    "version": 3
   },
   "file_extension": ".py",
   "mimetype": "text/x-python",
   "name": "python",
   "nbconvert_exporter": "python",
   "pygments_lexer": "ipython3",
   "version": "3.9.6"
  }
 },
 "nbformat": 4,
 "nbformat_minor": 5
}
