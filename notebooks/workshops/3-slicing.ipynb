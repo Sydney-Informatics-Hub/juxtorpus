{
 "cells": [
  {
   "cell_type": "code",
   "execution_count": 1,
   "id": "85cc12b4-15a6-4e2a-b5b3-dc9ef0f913d6",
   "metadata": {
    "tags": []
   },
   "outputs": [
    {
     "data": {
      "text/plain": [
       "'Working directory: /Users/hcha9747/workspace/juxtorpus'"
      ]
     },
     "execution_count": 1,
     "metadata": {},
     "output_type": "execute_result"
    }
   ],
   "source": [
    "# just pathing - ignore this\n",
    "import os\n",
    "while  not 'juxtorpus' in os.listdir():\n",
    "    os.chdir('../')\n",
    "assert 'juxtorpus' in os.listdir(), f\"Working directory should be at juxtorpus. But at {os.getcwd()}\"\n",
    "f\"Working directory: {os.getcwd()}\""
   ]
  },
  {
   "cell_type": "markdown",
   "id": "757fa458-d188-4124-8c2d-bdc6e5c7dcae",
   "metadata": {},
   "source": [
    "# Australian Text Analytics Platform (ATAP)"
   ]
  },
  {
   "cell_type": "code",
   "execution_count": null,
   "id": "cf856f8a-4425-45ac-b015-b4fdf001977d",
   "metadata": {},
   "outputs": [],
   "source": []
  },
  {
   "cell_type": "markdown",
   "id": "7fae924d-c037-419f-9ab1-d7e0d3a94a3d",
   "metadata": {},
   "source": [
    "# Corpus Slicer"
   ]
  },
  {
   "cell_type": "code",
   "execution_count": null,
   "id": "bed0ef15-4c17-4571-be2e-b1325c557f05",
   "metadata": {},
   "outputs": [],
   "source": []
  },
  {
   "cell_type": "code",
   "execution_count": null,
   "id": "2602724d-a948-46f6-8679-28c97faccf29",
   "metadata": {},
   "outputs": [],
   "source": []
  },
  {
   "cell_type": "markdown",
   "id": "aa4543f7-6ed8-42f3-b3e1-e212c7b955a8",
   "metadata": {},
   "source": [
    "## If you only want to use a widgetised version of a pandas dataframe you can pretty much ignore the rest."
   ]
  },
  {
   "cell_type": "markdown",
   "id": "2590288a-b380-4d9f-9023-97da3a924822",
   "metadata": {},
   "source": [
    "# Memory Footprint (Bit of computer science)\n",
    "\n",
    "Every subcorpus just references its parent corpus following all to way to the root corpus (the original corpus you built)\n",
    "\n",
    "This allows us to keep the memory footprint of the notebook small so that you can be liberal with your dataset size."
   ]
  },
  {
   "cell_type": "markdown",
   "id": "c8a445a3-f100-4bde-9784-192681c5e7ef",
   "metadata": {},
   "source": [
    "## Detaching a Corpus\n",
    "\n",
    "You can also detach a subcorpus from its tree.\n",
    "Why would you want to do this:\n",
    "1. sometimes you have to - part of the design. (e.g. creating a custom DTM from a subcorpus)\n",
    "2. mostly revolves around having to do performing operations on a subcorpus to change its state."
   ]
  },
  {
   "cell_type": "code",
   "execution_count": null,
   "id": "3ba22a28-a694-404f-a82b-47707c8bd0c3",
   "metadata": {},
   "outputs": [],
   "source": []
  }
 ],
 "metadata": {
  "kernelspec": {
   "display_name": "Python 3 (ipykernel)",
   "language": "python",
   "name": "python3"
  },
  "language_info": {
   "codemirror_mode": {
    "name": "ipython",
    "version": 3
   },
   "file_extension": ".py",
   "mimetype": "text/x-python",
   "name": "python",
   "nbconvert_exporter": "python",
   "pygments_lexer": "ipython3",
   "version": "3.9.6"
  }
 },
 "nbformat": 4,
 "nbformat_minor": 5
}
