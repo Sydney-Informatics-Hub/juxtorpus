{
 "cells": [
  {
   "cell_type": "code",
   "execution_count": 1,
   "id": "85cc12b4-15a6-4e2a-b5b3-dc9ef0f913d6",
   "metadata": {
    "tags": []
   },
   "outputs": [
    {
     "data": {
      "text/plain": [
       "'Working directory: /Users/hcha9747/workspace/juxtorpus'"
      ]
     },
     "execution_count": 1,
     "metadata": {},
     "output_type": "execute_result"
    }
   ],
   "source": [
    "# just pathing - ignore this\n",
    "import os\n",
    "while  not 'juxtorpus' in os.listdir():\n",
    "    os.chdir('../')\n",
    "assert 'juxtorpus' in os.listdir(), f\"Working directory should be at juxtorpus. But at {os.getcwd()}\"\n",
    "f\"Working directory: {os.getcwd()}\""
   ]
  },
  {
   "cell_type": "markdown",
   "id": "757fa458-d188-4124-8c2d-bdc6e5c7dcae",
   "metadata": {},
   "source": [
    "# Australian Text Analytics Platform (ATAP)\n",
    "The Australian Text Analytics Platform aims to bring computational text analysis to the hands of students and researchers with little coding experience through easy to use widgets and library of functions on jupyter notebooks."
   ]
  },
  {
   "cell_type": "code",
   "execution_count": 2,
   "id": "cf856f8a-4425-45ac-b015-b4fdf001977d",
   "metadata": {},
   "outputs": [],
   "source": [
    "import pandas as pd\n",
    "from juxtorpus.corpus import Corpus\n",
    "corpus = Corpus.from_dataframe(pd.read_excel('./notebooks/workshops/amazon_us_reviews_gift_cards.xlsx'), col_doc='review_body', name='gifts')\n",
    "corpus.meta['product_category'].astype('category')\n",
    "corpus.meta['marketplace'].astype('category')\n",
    "corpus.meta['review_date'].astype('datetime', strftime='%Y-%M-%d')\n",
    "corpus.meta['verified_purchase'].astype('bool')"
   ]
  },
  {
   "cell_type": "code",
   "execution_count": 4,
   "id": "a6d6840f-a844-435a-bf0c-549be07fb973",
   "metadata": {
    "tags": []
   },
   "outputs": [],
   "source": [
    "from juxtorpus.corpus import Corpora\n",
    "corpora = Corpora([corpus])"
   ]
  },
  {
   "cell_type": "code",
   "execution_count": 5,
   "id": "1583227b-2098-4b2a-8ef3-ec8514445adf",
   "metadata": {
    "tags": []
   },
   "outputs": [
    {
     "data": {
      "application/vnd.jupyter.widget-view+json": {
       "model_id": "1b524f2fbfc445ae93f904a3c54ddf32",
       "version_major": 2,
       "version_minor": 0
      },
      "text/plain": [
       "VBox(children=(Button(description='Upload a Corpus', layout=Layout(width='300px'), style=ButtonStyle()), Label…"
      ]
     },
     "metadata": {},
     "output_type": "display_data"
    }
   ],
   "source": [
    "corpora.widget()"
   ]
  },
  {
   "cell_type": "markdown",
   "id": "7fae924d-c037-419f-9ab1-d7e0d3a94a3d",
   "metadata": {},
   "source": [
    "# Slicing A Corpus\n",
    "Slicing is a main feature of `Corpus`. \n",
    "\n",
    "> **Every time you slice a corpus, it comes back as a `Corpus`** \n",
    "\n",
    "so you can use the same set of functions or analysis you've performed on your subcorpus."
   ]
  },
  {
   "cell_type": "markdown",
   "id": "53072af7-034d-42cd-b400-8222d9ae02e2",
   "metadata": {},
   "source": [
    "### filter_by_item"
   ]
  },
  {
   "cell_type": "code",
   "execution_count": 6,
   "id": "bed0ef15-4c17-4571-be2e-b1325c557f05",
   "metadata": {},
   "outputs": [],
   "source": [
    "verified = corpus.slicer.filter_by_item('verified_purchase', True)\n",
    "unverified = corpus.slicer.filter_by_item('verified_purchase', False)"
   ]
  },
  {
   "cell_type": "code",
   "execution_count": 7,
   "id": "53469670-363f-4b8a-83df-95495a64b64a",
   "metadata": {
    "tags": []
   },
   "outputs": [
    {
     "name": "stdout",
     "output_type": "stream",
     "text": [
      "\n",
      "Corpus:              149086 documents\n",
      "Verified purchase:   136042 documents\n",
      "Unverified purchase: 13044 documents\n",
      "\n"
     ]
    }
   ],
   "source": [
    "print(f\"\"\"\n",
    "Corpus:              {len(corpus)} documents\n",
    "Verified purchase:   {len(verified)} documents\n",
    "Unverified purchase: {len(unverified)} documents\n",
    "\"\"\")"
   ]
  },
  {
   "cell_type": "markdown",
   "id": "87e02851-2cf3-481f-a25f-ea7e2535053c",
   "metadata": {},
   "source": [
    "### filter_by_range"
   ]
  },
  {
   "cell_type": "code",
   "execution_count": 8,
   "id": "e751d0d6-600d-461f-9d61-bcf602bb4830",
   "metadata": {
    "tags": []
   },
   "outputs": [],
   "source": [
    "min_2_stars = corpus.slicer.filter_by_range('star_rating', min_=2)\n",
    "min_3_stars = corpus.slicer.filter_by_range('star_rating', min_=3)\n",
    "min_2_max_4_stars = corpus.slicer.filter_by_range('star_rating', min_=2, max_=4)\n",
    "max_5_stars = corpus.slicer.filter_by_range('star_rating', max_=5)"
   ]
  },
  {
   "cell_type": "code",
   "execution_count": 9,
   "id": "c7690eb7-1860-4d08-ae96-2966cd978e70",
   "metadata": {
    "tags": []
   },
   "outputs": [
    {
     "name": "stdout",
     "output_type": "stream",
     "text": [
      "\n",
      "Corpus:          149086 documents\n",
      ">2 stars:        144293 documents\n",
      ">3 stars:        142724 documents\n",
      "2< stars <4:     4725 documents\n",
      ">5 stars:        19377 documents\n",
      "\n"
     ]
    }
   ],
   "source": [
    "print(f\"\"\"\n",
    "Corpus:          {len(corpus)} documents\n",
    ">2 stars:        {len(min_2_stars)} documents\n",
    ">3 stars:        {len(min_3_stars)} documents\n",
    "2< stars <4:     {len(min_2_max_4_stars)} documents\n",
    ">5 stars:        {len(max_5_stars)} documents\n",
    "\"\"\")"
   ]
  },
  {
   "cell_type": "markdown",
   "id": "de9d25ce-89e1-47a6-bb87-5692b45ba5cc",
   "metadata": {
    "tags": []
   },
   "source": [
    "### filter_by_datetime"
   ]
  },
  {
   "cell_type": "code",
   "execution_count": 10,
   "id": "63d67174-fee3-4407-a38b-1d6b04d73e49",
   "metadata": {
    "tags": []
   },
   "outputs": [
    {
     "data": {
      "text/plain": [
       "(Timestamp('2004-01-10 00:11:00'), Timestamp('2015-01-31 00:08:00'))"
      ]
     },
     "execution_count": 10,
     "metadata": {},
     "output_type": "execute_result"
    }
   ],
   "source": [
    "corpus.meta['review_date'].series.min(), corpus.meta['review_date'].series.max()"
   ]
  },
  {
   "cell_type": "code",
   "execution_count": 11,
   "id": "4ba86c2d-1209-4f18-a8ae-3f5e7d42f7dd",
   "metadata": {
    "tags": []
   },
   "outputs": [
    {
     "data": {
      "text/html": [
       "<div>\n",
       "<style scoped>\n",
       "    .dataframe tbody tr th:only-of-type {\n",
       "        vertical-align: middle;\n",
       "    }\n",
       "\n",
       "    .dataframe tbody tr th {\n",
       "        vertical-align: top;\n",
       "    }\n",
       "\n",
       "    .dataframe thead th {\n",
       "        text-align: right;\n",
       "    }\n",
       "</style>\n",
       "<table border=\"1\" class=\"dataframe\">\n",
       "  <thead>\n",
       "    <tr style=\"text-align: right;\">\n",
       "      <th></th>\n",
       "      <th></th>\n",
       "      <th></th>\n",
       "    </tr>\n",
       "  </thead>\n",
       "  <tbody>\n",
       "    <tr>\n",
       "      <th>Name</th>\n",
       "      <td>inventive-kiwi</td>\n",
       "      <td>magic-asp</td>\n",
       "    </tr>\n",
       "    <tr>\n",
       "      <th>Parent</th>\n",
       "      <td>gifts</td>\n",
       "      <td>gifts</td>\n",
       "    </tr>\n",
       "    <tr>\n",
       "      <th>Corpus Type</th>\n",
       "      <td>Corpus</td>\n",
       "      <td>Corpus</td>\n",
       "    </tr>\n",
       "    <tr>\n",
       "      <th>Number of Documents</th>\n",
       "      <td>44000</td>\n",
       "      <td>44000</td>\n",
       "    </tr>\n",
       "    <tr>\n",
       "      <th>Number of Total Words</th>\n",
       "      <td>467217</td>\n",
       "      <td>467217</td>\n",
       "    </tr>\n",
       "    <tr>\n",
       "      <th>Size of Vocabulary</th>\n",
       "      <td>10571</td>\n",
       "      <td>10571</td>\n",
       "    </tr>\n",
       "    <tr>\n",
       "      <th>mean Words per Document</th>\n",
       "      <td>10</td>\n",
       "      <td>10</td>\n",
       "    </tr>\n",
       "    <tr>\n",
       "      <th>min Words per Document</th>\n",
       "      <td>0</td>\n",
       "      <td>0</td>\n",
       "    </tr>\n",
       "    <tr>\n",
       "      <th>max Words per Document</th>\n",
       "      <td>846</td>\n",
       "      <td>846</td>\n",
       "    </tr>\n",
       "    <tr>\n",
       "      <th>metas</th>\n",
       "      <td>marketplace, customer_id, review_id, product_i...</td>\n",
       "      <td>marketplace, customer_id, review_id, product_i...</td>\n",
       "    </tr>\n",
       "  </tbody>\n",
       "</table>\n",
       "</div>"
      ],
      "text/plain": [
       "                                                                            \\\n",
       "Name                                                        inventive-kiwi   \n",
       "Parent                                                               gifts   \n",
       "Corpus Type                                                         Corpus   \n",
       "Number of Documents                                                  44000   \n",
       "Number of Total Words                                               467217   \n",
       "Size of Vocabulary                                                   10571   \n",
       "mean Words per Document                                                 10   \n",
       "min Words per Document                                                   0   \n",
       "max Words per Document                                                 846   \n",
       "metas                    marketplace, customer_id, review_id, product_i...   \n",
       "\n",
       "                                                                            \n",
       "Name                                                             magic-asp  \n",
       "Parent                                                               gifts  \n",
       "Corpus Type                                                         Corpus  \n",
       "Number of Documents                                                  44000  \n",
       "Number of Total Words                                               467217  \n",
       "Size of Vocabulary                                                   10571  \n",
       "mean Words per Document                                                 10  \n",
       "min Words per Document                                                   0  \n",
       "max Words per Document                                                 846  \n",
       "metas                    marketplace, customer_id, review_id, product_i...  "
      ]
     },
     "execution_count": 11,
     "metadata": {},
     "output_type": "execute_result"
    }
   ],
   "source": [
    "year_2015_a = corpus.slicer.filter_by_datetime('review_date', start='2015-01-01', end='2016-01-01')\n",
    "year_2015_b = corpus.slicer.filter_by_datetime('review_date', start='2015', end='2016', strftime='%Y')\n",
    "pd.concat([year_2015_a.summary(), year_2015_b.summary()], axis=1)"
   ]
  },
  {
   "cell_type": "markdown",
   "id": "9615cee2-1add-408b-835d-43928a0b425e",
   "metadata": {},
   "source": [
    "### filter_by_regex"
   ]
  },
  {
   "cell_type": "code",
   "execution_count": 12,
   "id": "353e1411-a55c-4cae-90cb-1acd0966b6e6",
   "metadata": {
    "tags": []
   },
   "outputs": [],
   "source": [
    "amazon_egifts = corpus.slicer.filter_by_regex('product_title', 'Amazon.com eGift Card')\n",
    "amazon_any = corpus.slicer.filter_by_regex('product_title', r'amazon.*', ignore_case=True)"
   ]
  },
  {
   "cell_type": "code",
   "execution_count": 13,
   "id": "c339f43a-a9dc-4eb4-8821-e292b2d685d6",
   "metadata": {
    "tags": []
   },
   "outputs": [
    {
     "name": "stdout",
     "output_type": "stream",
     "text": [
      "\n",
      "Corpus:            149086 documents\n",
      "Amazon (eGifts):   37108 documents\n",
      "Amazon (Any):      149008 documents\n",
      "\n"
     ]
    }
   ],
   "source": [
    "print(f\"\"\"\n",
    "Corpus:            {len(corpus)} documents\n",
    "Amazon (eGifts):   {len(amazon_egifts)} documents\n",
    "Amazon (Any):      {len(amazon_any)} documents\n",
    "\"\"\")"
   ]
  },
  {
   "cell_type": "markdown",
   "id": "b0856aca-8619-47f1-91c6-b78d6bc8c06a",
   "metadata": {},
   "source": [
    "### filter_by_condition"
   ]
  },
  {
   "cell_type": "code",
   "execution_count": 14,
   "id": "caf73d84-5e01-4a6a-bbcc-97a9e4999ccf",
   "metadata": {
    "tags": []
   },
   "outputs": [],
   "source": [
    "def even_number(id_):\n",
    "    return id_ % 2 == 0\n",
    "def odd_number(id_):\n",
    "    return id_ % 2 == 1\n",
    "\n",
    "even_customer_id = corpus.slicer.filter_by_condition('customer_id', even_number)\n",
    "odd_customer_id = corpus.slicer.filter_by_condition('customer_id', odd_number)"
   ]
  },
  {
   "cell_type": "code",
   "execution_count": 15,
   "id": "d66c210f-6b41-45e2-b3e2-92f8fce353de",
   "metadata": {
    "tags": []
   },
   "outputs": [
    {
     "name": "stdout",
     "output_type": "stream",
     "text": [
      "\n",
      "Corpus:                      149086 documents\n",
      "customer_id (even number):   74503 documents\n",
      "customer_id (odd number):    74583 documents\n",
      "\n"
     ]
    }
   ],
   "source": [
    "print(f\"\"\"\n",
    "Corpus:                      {len(corpus)} documents\n",
    "customer_id (even number):   {len(even_customer_id)} documents\n",
    "customer_id (odd number):    {len(odd_customer_id)} documents\n",
    "\"\"\")"
   ]
  },
  {
   "cell_type": "markdown",
   "id": "aa4543f7-6ed8-42f3-b3e1-e212c7b955a8",
   "metadata": {},
   "source": [
    "### Slice with Widgets"
   ]
  },
  {
   "cell_type": "code",
   "execution_count": 16,
   "id": "f9b39d63-2a29-4d23-bde8-9a93d6eefb86",
   "metadata": {
    "tags": []
   },
   "outputs": [
    {
     "data": {
      "application/vnd.jupyter.widget-view+json": {
       "model_id": "1b524f2fbfc445ae93f904a3c54ddf32",
       "version_major": 2,
       "version_minor": 0
      },
      "text/plain": [
       "VBox(children=(Button(description='Upload a Corpus', layout=Layout(width='300px'), style=ButtonStyle()), Label…"
      ]
     },
     "metadata": {},
     "output_type": "display_data"
    }
   ],
   "source": [
    "corpora.widget()"
   ]
  },
  {
   "cell_type": "markdown",
   "id": "87790af4-4fb1-468b-9134-2bd38d9fe6f0",
   "metadata": {},
   "source": [
    "# Corpus-subcorpus Relationship"
   ]
  },
  {
   "cell_type": "markdown",
   "id": "2590288a-b380-4d9f-9023-97da3a924822",
   "metadata": {
    "tags": []
   },
   "source": [
    "## Memory Footprint (Bit of computer science)\n",
    "\n",
    "Every subcorpus just references its parent corpus following all to way to the root corpus (the original corpus you built)\n",
    "\n",
    "This allows us to keep the memory footprint of the notebook small so that you can be liberal with your dataset size."
   ]
  },
  {
   "cell_type": "code",
   "execution_count": 18,
   "id": "fe029cec-0482-482b-922d-6bec546e0386",
   "metadata": {
    "tags": []
   },
   "outputs": [
    {
     "name": "stdout",
     "output_type": "stream",
     "text": [
      "\n",
      "Subsubcorpus:  flawless-parakeet\n",
      "Parent:        gifts\n",
      "Root:          gifts\n",
      "\n"
     ]
    }
   ],
   "source": [
    "subsubcorpus = corpora[corpora.items()[-1]]\n",
    "print(f\"\"\"\n",
    "Subsubcorpus:  {subsubcorpus.name}\n",
    "Parent:        {subsubcorpus.parent.name}\n",
    "Root:          {subsubcorpus.find_root().name}\n",
    "\"\"\")"
   ]
  },
  {
   "cell_type": "markdown",
   "id": "c8a445a3-f100-4bde-9784-192681c5e7ef",
   "metadata": {},
   "source": [
    "## Detaching a Corpus\n",
    "\n",
    "You can also detach a subcorpus from its tree.\n",
    "Why would you want to do this:\n",
    "1. sometimes you have to - part of the design. (e.g. creating a custom DTM from a subcorpus)\n",
    "2. mostly revolves around having to do performing operations on a subcorpus to change its state. Like processing it with spacy for content slicing."
   ]
  },
  {
   "cell_type": "code",
   "execution_count": 20,
   "id": "3ba22a28-a694-404f-a82b-47707c8bd0c3",
   "metadata": {},
   "outputs": [],
   "source": [
    "detached = subsubcorpus.detached()"
   ]
  },
  {
   "cell_type": "code",
   "execution_count": 21,
   "id": "bda51bb3-afe6-4c6c-abee-11d9b7e6d442",
   "metadata": {
    "tags": []
   },
   "outputs": [
    {
     "ename": "AttributeError",
     "evalue": "'NoneType' object has no attribute 'name'",
     "output_type": "error",
     "traceback": [
      "\u001b[0;31m---------------------------------------------------------------------------\u001b[0m",
      "\u001b[0;31mAttributeError\u001b[0m                            Traceback (most recent call last)",
      "Cell \u001b[0;32mIn[21], line 1\u001b[0m\n\u001b[0;32m----> 1\u001b[0m pd\u001b[38;5;241m.\u001b[39mconcat([\u001b[43mdetached\u001b[49m\u001b[38;5;241;43m.\u001b[39;49m\u001b[43msummary\u001b[49m\u001b[43m(\u001b[49m\u001b[43m)\u001b[49m, subsubcorpus\u001b[38;5;241m.\u001b[39msummary()], axis\u001b[38;5;241m=\u001b[39m\u001b[38;5;241m1\u001b[39m)\n",
      "File \u001b[0;32m~/workspace/juxtorpus/juxtorpus/corpus/corpus.py:270\u001b[0m, in \u001b[0;36mCorpus.summary\u001b[0;34m(self)\u001b[0m\n\u001b[1;32m    265\u001b[0m mapper \u001b[38;5;241m=\u001b[39m {row_idx: \u001b[38;5;124mf\u001b[39m\u001b[38;5;124m\"\u001b[39m\u001b[38;5;132;01m{\u001b[39;00mrow_idx\u001b[38;5;132;01m}\u001b[39;00m\u001b[38;5;124m Words per Document\u001b[39m\u001b[38;5;124m\"\u001b[39m \u001b[38;5;28;01mfor\u001b[39;00m row_idx \u001b[38;5;129;01min\u001b[39;00m docs_info\u001b[38;5;241m.\u001b[39mindex}\n\u001b[1;32m    266\u001b[0m docs_info\u001b[38;5;241m.\u001b[39mrename(index\u001b[38;5;241m=\u001b[39mmapper, inplace\u001b[38;5;241m=\u001b[39m\u001b[38;5;28;01mTrue\u001b[39;00m)\n\u001b[1;32m    268\u001b[0m other_info \u001b[38;5;241m=\u001b[39m pd\u001b[38;5;241m.\u001b[39mSeries({\n\u001b[1;32m    269\u001b[0m     \u001b[38;5;124m'\u001b[39m\u001b[38;5;124mName\u001b[39m\u001b[38;5;124m'\u001b[39m: \u001b[38;5;28mself\u001b[39m\u001b[38;5;241m.\u001b[39mname,\n\u001b[0;32m--> 270\u001b[0m     \u001b[38;5;124m'\u001b[39m\u001b[38;5;124mParent\u001b[39m\u001b[38;5;124m'\u001b[39m: \u001b[38;5;28;43mself\u001b[39;49m\u001b[38;5;241;43m.\u001b[39;49m\u001b[43mparent\u001b[49m\u001b[38;5;241;43m.\u001b[39;49m\u001b[43mname\u001b[49m,\n\u001b[1;32m    271\u001b[0m     \u001b[38;5;124m\"\u001b[39m\u001b[38;5;124mCorpus Type\u001b[39m\u001b[38;5;124m\"\u001b[39m: \u001b[38;5;28mself\u001b[39m\u001b[38;5;241m.\u001b[39m\u001b[38;5;18m__class__\u001b[39m\u001b[38;5;241m.\u001b[39m\u001b[38;5;18m__name__\u001b[39m,\n\u001b[1;32m    272\u001b[0m     \u001b[38;5;124m\"\u001b[39m\u001b[38;5;124mNumber of Documents\u001b[39m\u001b[38;5;124m\"\u001b[39m: \u001b[38;5;28mlen\u001b[39m(\u001b[38;5;28mself\u001b[39m),\n\u001b[1;32m    273\u001b[0m     \u001b[38;5;124m\"\u001b[39m\u001b[38;5;124mNumber of Total Words\u001b[39m\u001b[38;5;124m\"\u001b[39m: \u001b[38;5;28mself\u001b[39m\u001b[38;5;241m.\u001b[39mdtm\u001b[38;5;241m.\u001b[39mtotal,\n\u001b[1;32m    274\u001b[0m     \u001b[38;5;124m\"\u001b[39m\u001b[38;5;124mSize of Vocabulary\u001b[39m\u001b[38;5;124m\"\u001b[39m: \u001b[38;5;28mlen\u001b[39m(\u001b[38;5;28mself\u001b[39m\u001b[38;5;241m.\u001b[39mdtm\u001b[38;5;241m.\u001b[39mvocab(nonzero\u001b[38;5;241m=\u001b[39m\u001b[38;5;28;01mTrue\u001b[39;00m)),\n\u001b[1;32m    275\u001b[0m })\n\u001b[1;32m    277\u001b[0m meta_info \u001b[38;5;241m=\u001b[39m pd\u001b[38;5;241m.\u001b[39mSeries({\n\u001b[1;32m    278\u001b[0m     \u001b[38;5;124m\"\u001b[39m\u001b[38;5;124mmetas\u001b[39m\u001b[38;5;124m\"\u001b[39m: \u001b[38;5;124m'\u001b[39m\u001b[38;5;124m, \u001b[39m\u001b[38;5;124m'\u001b[39m\u001b[38;5;241m.\u001b[39mjoin(\u001b[38;5;28mself\u001b[39m\u001b[38;5;241m.\u001b[39m_meta_registry\u001b[38;5;241m.\u001b[39mkeys())\n\u001b[1;32m    279\u001b[0m })\n\u001b[1;32m    280\u001b[0m \u001b[38;5;28;01mreturn\u001b[39;00m pd\u001b[38;5;241m.\u001b[39mconcat([other_info, docs_info, meta_info])\u001b[38;5;241m.\u001b[39mto_frame(name\u001b[38;5;241m=\u001b[39m\u001b[38;5;124m'\u001b[39m\u001b[38;5;124m'\u001b[39m)\n",
      "\u001b[0;31mAttributeError\u001b[0m: 'NoneType' object has no attribute 'name'"
     ]
    }
   ],
   "source": [
    "pd.concat([detached.summary(), subsubcorpus.summary()], axis=1)"
   ]
  },
  {
   "cell_type": "code",
   "execution_count": 22,
   "id": "f9594ab7-d794-46a0-b7e3-9c4d12620a10",
   "metadata": {
    "tags": []
   },
   "outputs": [
    {
     "data": {
      "text/plain": [
       "'gifts'"
      ]
     },
     "execution_count": 22,
     "metadata": {},
     "output_type": "execute_result"
    }
   ],
   "source": [
    "subsubcorpus.parent.name"
   ]
  },
  {
   "cell_type": "markdown",
   "id": "42048e1e-8237-48bc-afb3-b7e640ece7bd",
   "metadata": {
    "tags": []
   },
   "source": [
    "# Document Content Slicing\n",
    "\n",
    "Sometimes you want to slice the corpus based on the ***content*** of your documents.\n",
    "e.g.\n",
    "1. Give me all texts that contain **at least 3 mentions of this word**.\n",
    "2. Give me all texts that contain **this word AND this word**\n",
    "3. Give me all texts that contain **this word in the first 5 sentences** of the text\n",
    "4. Give me all the texts that **contain at least X tokens or at least X utterances (conversation length)**"
   ]
  },
  {
   "cell_type": "code",
   "execution_count": 1,
   "id": "0cb94e60-5c48-464a-a7bf-28eabe73aaf2",
   "metadata": {
    "tags": []
   },
   "outputs": [],
   "source": [
    "# just pathing - ignore this\n",
    "import os\n",
    "while  not 'juxtorpus' in os.listdir():\n",
    "    os.chdir('../')\n",
    "assert 'juxtorpus' in os.listdir(), f\"Working directory should be at juxtorpus. But at {os.getcwd()}\"\n",
    "f\"Working directory: {os.getcwd()}\"\n",
    "\n",
    "import pandas as pd\n",
    "from juxtorpus.corpus import Corpus\n",
    "corpus = Corpus.from_dataframe(pd.read_excel('./notebooks/workshops/amazon_us_reviews_gift_cards.xlsx', nrows=10_000), col_doc='review_body', name='gifts')\n",
    "corpus.meta['product_category'].astype('category')\n",
    "corpus.meta['marketplace'].astype('category')\n",
    "corpus.meta['review_date'].astype('datetime', strftime='%Y-%M-%d')\n",
    "corpus.meta['verified_purchase'].astype('bool')"
   ]
  },
  {
   "cell_type": "code",
   "execution_count": 2,
   "id": "50e7c2a3-5f94-4342-bcc5-6a1ddc27f681",
   "metadata": {
    "tags": []
   },
   "outputs": [],
   "source": [
    "import spacy\n",
    "nlp = spacy.load('en_core_web_sm')\n",
    "# nlp = spacy.load('pymusa')"
   ]
  },
  {
   "cell_type": "code",
   "execution_count": 3,
   "id": "e482763d-2e6f-4cc3-acdc-0011608c9f71",
   "metadata": {
    "tags": []
   },
   "outputs": [
    {
     "data": {
      "application/vnd.jupyter.widget-view+json": {
       "model_id": "ce8b48cdfb604a8d8c61d659e249359f",
       "version_major": 2,
       "version_minor": 0
      },
      "text/plain": [
       "Spacy Corpus:   0%|          | 0/10000 [00:00<?, ?it/s]"
      ]
     },
     "metadata": {},
     "output_type": "display_data"
    }
   ],
   "source": [
    "from juxtorpus.corpus.processors import process\n",
    "\n",
    "scorpus = process(corpus, nlp=nlp)"
   ]
  },
  {
   "cell_type": "code",
   "execution_count": 4,
   "id": "8803982e-6117-4f5d-8e7f-4fc9fbded66c",
   "metadata": {
    "tags": []
   },
   "outputs": [
    {
     "data": {
      "text/plain": [
       "5"
      ]
     },
     "execution_count": 4,
     "metadata": {},
     "output_type": "execute_result"
    }
   ],
   "source": [
    "# Give me all texts that contain at least 3 mentions of this word\n",
    "from spacy.matcher import Matcher\n",
    "\n",
    "word = 'opinion'\n",
    "matcher = Matcher(scorpus.nlp.vocab)\n",
    "matcher.add('has_word', patterns=[\n",
    "    [{'ORTH': f'{word}'}]\n",
    "])\n",
    "scorpus_word = scorpus.slicer.filter_by_matcher(matcher, min_=1)\n",
    "len(scorpus_word)"
   ]
  },
  {
   "cell_type": "code",
   "execution_count": 5,
   "id": "69ec35f3-7b40-4e1e-86bc-29a1e0aee8f1",
   "metadata": {
    "tags": []
   },
   "outputs": [
    {
     "data": {
      "text/plain": [
       "0                  Great birthday gift for a young adult.\n",
       "1       It's an Amazon gift card and with over 9823983...\n",
       "4       I can't believe how quickly Amazon can get the...\n",
       "5       Perfect!  Nice & easy plus everyone loves them...\n",
       "6                                                excelent\n",
       "                              ...                        \n",
       "9992    These are my last resort when I really missed ...\n",
       "9994    This was provided by my daughter as a birthday...\n",
       "9997    I love how easy it is to add money to an accou...\n",
       "9998                          Nice tin with gift card....\n",
       "9999                                      I don,t like it\n",
       "Name: document, Length: 6965, dtype: object"
      ]
     },
     "execution_count": 5,
     "metadata": {},
     "output_type": "execute_result"
    }
   ],
   "source": [
    "# compound nouns - using parts of speech\n",
    "compound_nouns = Matcher(scorpus.nlp.vocab)\n",
    "compound_nouns.add('cn', patterns = [\n",
    "    [{'POS': 'NOUN', \"OP\": \"+\"}]\n",
    "])\n",
    "scorpus_cn = scorpus.slicer.filter_by_matcher(compound_nouns)\n",
    "scorpus_cn.docs().apply(lambda d: d.text)"
   ]
  },
  {
   "cell_type": "code",
   "execution_count": 6,
   "id": "9b0fac95-4e8a-45a3-9c39-4d69f77bdc7b",
   "metadata": {
    "tags": []
   },
   "outputs": [
    {
     "data": {
      "text/plain": [
       "0                                    birthday gift, adult\n",
       "1                                        gift card, items\n",
       "4                                                   hands\n",
       "5                                                    gift\n",
       "6                                                excelent\n",
       "                              ...                        \n",
       "9992                                               resort\n",
       "9994    daughter, birthday gift, usefulness, holiday, ...\n",
       "9997                               money, account, things\n",
       "9998                                       tin, gift card\n",
       "9999                                                    t\n",
       "Length: 6965, dtype: object"
      ]
     },
     "execution_count": 6,
     "metadata": {},
     "output_type": "execute_result"
    }
   ],
   "source": [
    "scorpus_cn.meta['_matched'].series"
   ]
  },
  {
   "cell_type": "markdown",
   "id": "7eefe823-1398-46a9-b285-1e4eee0b591e",
   "metadata": {
    "tags": []
   },
   "source": [
    "## Not sure what to do with below logic"
   ]
  },
  {
   "cell_type": "code",
   "execution_count": null,
   "id": "52a8b049-5b5c-43aa-97f4-220fabd7565e",
   "metadata": {
    "tags": []
   },
   "outputs": [],
   "source": [
    "scorpus.meta"
   ]
  },
  {
   "cell_type": "code",
   "execution_count": null,
   "id": "85b84867-0c04-419a-8d20-9094b0581aa5",
   "metadata": {
    "tags": []
   },
   "outputs": [],
   "source": [
    "scorpus.meta['ner'].head(n=5)"
   ]
  },
  {
   "cell_type": "code",
   "execution_count": null,
   "id": "a69cd41d-cf3f-4125-9bf2-344b8c3b41b9",
   "metadata": {},
   "outputs": [],
   "source": []
  }
 ],
 "metadata": {
  "kernelspec": {
   "display_name": "Python 3 (ipykernel)",
   "language": "python",
   "name": "python3"
  },
  "language_info": {
   "codemirror_mode": {
    "name": "ipython",
    "version": 3
   },
   "file_extension": ".py",
   "mimetype": "text/x-python",
   "name": "python",
   "nbconvert_exporter": "python",
   "pygments_lexer": "ipython3",
   "version": "3.9.6"
  }
 },
 "nbformat": 4,
 "nbformat_minor": 5
}
