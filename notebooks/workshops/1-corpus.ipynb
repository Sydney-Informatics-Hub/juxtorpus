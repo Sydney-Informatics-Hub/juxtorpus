{
 "cells": [
  {
   "cell_type": "code",
   "execution_count": null,
   "id": "3ad0a183-df4d-4c44-a48f-4b5833cccb81",
   "metadata": {
    "tags": []
   },
   "outputs": [],
   "source": [
    "# just pathing - ignore this\n",
    "import os\n",
    "while  not 'juxtorpus' in os.listdir():\n",
    "    os.chdir('../')\n",
    "assert 'juxtorpus' in os.listdir(), f\"Working directory should be at juxtorpus. But at {os.getcwd()}\"\n",
    "f\"Working directory: {os.getcwd()}\""
   ]
  },
  {
   "cell_type": "markdown",
   "id": "0e968688-1d63-4770-b047-630c953162d3",
   "metadata": {},
   "source": [
    "# Australian Text Analytics Platform (ATAP)\n",
    "The Australian Text Analytics Platform aims to provide a set of easy to use text analytics tools that are designed for the jupyter platform targetted at students, researchers with little coding experience."
   ]
  },
  {
   "cell_type": "markdown",
   "id": "ef853ddd-4db2-4304-8155-0400a53813dd",
   "metadata": {
    "tags": []
   },
   "source": [
    "# Corpus\n",
    "\n",
    "A Corpus stores a collection of documents. It is usually the unit of data that we want to explore and analyse.\n",
    "\n",
    "These can be:\n",
    "1. journal articles\n",
    "2. tweets\n",
    "3. academic papers\n",
    "\n",
    "Anything in the form of text."
   ]
  },
  {
   "cell_type": "markdown",
   "id": "f5080e74-082a-4e95-b15e-579bced734c6",
   "metadata": {},
   "source": [
    "## What you'll need:\n",
    "- [x] a dataset in the form of .xlsx, .csv"
   ]
  },
  {
   "cell_type": "code",
   "execution_count": 6,
   "id": "d7013338-5d3c-46bd-9a74-17ceee168696",
   "metadata": {
    "tags": []
   },
   "outputs": [],
   "source": [
    "from juxtorpus.corpus import CorpusBuilder, Corpus\n",
    "\n",
    "path = 'amazon_us_reviews_gift_cards.xlsx'\n",
    "builder = CorpusBuilder(path)"
   ]
  },
  {
   "cell_type": "code",
   "execution_count": 7,
   "id": "17ba0f41-33a7-4a65-a6bb-c9f2b3f7909c",
   "metadata": {
    "tags": []
   },
   "outputs": [
    {
     "data": {
      "text/html": [
       "<div>\n",
       "<style scoped>\n",
       "    .dataframe tbody tr th:only-of-type {\n",
       "        vertical-align: middle;\n",
       "    }\n",
       "\n",
       "    .dataframe tbody tr th {\n",
       "        vertical-align: top;\n",
       "    }\n",
       "\n",
       "    .dataframe thead th {\n",
       "        text-align: right;\n",
       "    }\n",
       "</style>\n",
       "<table border=\"1\" class=\"dataframe\">\n",
       "  <thead>\n",
       "    <tr style=\"text-align: right;\">\n",
       "      <th></th>\n",
       "      <th>marketplace</th>\n",
       "      <th>customer_id</th>\n",
       "      <th>review_id</th>\n",
       "      <th>product_id</th>\n",
       "      <th>product_parent</th>\n",
       "      <th>product_title</th>\n",
       "      <th>product_category</th>\n",
       "      <th>star_rating</th>\n",
       "      <th>helpful_votes</th>\n",
       "      <th>total_votes</th>\n",
       "      <th>vine</th>\n",
       "      <th>verified_purchase</th>\n",
       "      <th>review_headline</th>\n",
       "      <th>review_body</th>\n",
       "      <th>review_date</th>\n",
       "    </tr>\n",
       "  </thead>\n",
       "  <tbody>\n",
       "    <tr>\n",
       "      <th>0</th>\n",
       "      <td>US</td>\n",
       "      <td>24371595</td>\n",
       "      <td>R27ZP1F1CD0C3Y</td>\n",
       "      <td>B004LLIL5A</td>\n",
       "      <td>346014806</td>\n",
       "      <td>Amazon eGift Card - Celebrate</td>\n",
       "      <td>Gift Card</td>\n",
       "      <td>5</td>\n",
       "      <td>0</td>\n",
       "      <td>0</td>\n",
       "      <td>0</td>\n",
       "      <td>1</td>\n",
       "      <td>Five Stars</td>\n",
       "      <td>Great birthday gift for a young adult.</td>\n",
       "      <td>2015-08-31</td>\n",
       "    </tr>\n",
       "    <tr>\n",
       "      <th>1</th>\n",
       "      <td>US</td>\n",
       "      <td>42489718</td>\n",
       "      <td>RJ7RSBCHUDNNE</td>\n",
       "      <td>B004LLIKVU</td>\n",
       "      <td>473048287</td>\n",
       "      <td>Amazon.com eGift Cards</td>\n",
       "      <td>Gift Card</td>\n",
       "      <td>5</td>\n",
       "      <td>0</td>\n",
       "      <td>0</td>\n",
       "      <td>0</td>\n",
       "      <td>1</td>\n",
       "      <td>Gift card for the greatest selection of items ...</td>\n",
       "      <td>It's an Amazon gift card and with over 9823983...</td>\n",
       "      <td>2015-08-31</td>\n",
       "    </tr>\n",
       "    <tr>\n",
       "      <th>2</th>\n",
       "      <td>US</td>\n",
       "      <td>861463</td>\n",
       "      <td>R1HVYBSKLQJI5S</td>\n",
       "      <td>B00IX1I3G6</td>\n",
       "      <td>926539283</td>\n",
       "      <td>Amazon.com Gift Card Balance Reload</td>\n",
       "      <td>Gift Card</td>\n",
       "      <td>5</td>\n",
       "      <td>0</td>\n",
       "      <td>0</td>\n",
       "      <td>0</td>\n",
       "      <td>1</td>\n",
       "      <td>Five Stars</td>\n",
       "      <td>Good</td>\n",
       "      <td>2015-08-31</td>\n",
       "    </tr>\n",
       "  </tbody>\n",
       "</table>\n",
       "</div>"
      ],
      "text/plain": [
       "  marketplace  customer_id       review_id  product_id  product_parent  \\\n",
       "0          US     24371595  R27ZP1F1CD0C3Y  B004LLIL5A       346014806   \n",
       "1          US     42489718   RJ7RSBCHUDNNE  B004LLIKVU       473048287   \n",
       "2          US       861463  R1HVYBSKLQJI5S  B00IX1I3G6       926539283   \n",
       "\n",
       "                         product_title product_category  star_rating  \\\n",
       "0        Amazon eGift Card - Celebrate        Gift Card            5   \n",
       "1               Amazon.com eGift Cards        Gift Card            5   \n",
       "2  Amazon.com Gift Card Balance Reload        Gift Card            5   \n",
       "\n",
       "   helpful_votes  total_votes  vine  verified_purchase  \\\n",
       "0              0            0     0                  1   \n",
       "1              0            0     0                  1   \n",
       "2              0            0     0                  1   \n",
       "\n",
       "                                     review_headline  \\\n",
       "0                                         Five Stars   \n",
       "1  Gift card for the greatest selection of items ...   \n",
       "2                                         Five Stars   \n",
       "\n",
       "                                         review_body review_date  \n",
       "0             Great birthday gift for a young adult.  2015-08-31  \n",
       "1  It's an Amazon gift card and with over 9823983...  2015-08-31  \n",
       "2                                               Good  2015-08-31  "
      ]
     },
     "execution_count": 7,
     "metadata": {},
     "output_type": "execute_result"
    }
   ],
   "source": [
    "builder.head()"
   ]
  },
  {
   "cell_type": "code",
   "execution_count": 9,
   "id": "ea6c6838-dae7-4417-af15-039393363391",
   "metadata": {
    "tags": []
   },
   "outputs": [
    {
     "data": {
      "application/vnd.jupyter.widget-view+json": {
       "model_id": "3dc0845cf3fa4e6d9a6844495d92f2b7",
       "version_major": 2,
       "version_minor": 0
      },
      "text/plain": [
       "HBox(children=(VBox(children=(HBox(children=(HTML(value='<b>id</b>', layout=Layout(width='30%')), HTML(value='…"
      ]
     },
     "metadata": {},
     "output_type": "display_data"
    }
   ],
   "source": [
    "corpus = None\n",
    "def set_corpus(c): corpus = c\n",
    "builder.set_callback(set_corpus)\n",
    "builder.widget()"
   ]
  },
  {
   "cell_type": "code",
   "execution_count": 10,
   "id": "fd8f07fa-4f2d-452a-bfd1-cfaef11bf4bd",
   "metadata": {
    "tags": []
   },
   "outputs": [],
   "source": [
    "corpus"
   ]
  },
  {
   "cell_type": "code",
   "execution_count": null,
   "id": "98183e21-5ff6-4abe-9c06-7168aa23b587",
   "metadata": {},
   "outputs": [],
   "source": [
    "# for those who know python and pandas.\n",
    "corpus = Corpus.from_dataframe(pd.read_excel(path), col_doc='review_body')"
   ]
  },
  {
   "cell_type": "code",
   "execution_count": 2,
   "id": "d6445877-96d5-4127-b6c5-f1bcfd65fa1b",
   "metadata": {
    "tags": []
   },
   "outputs": [
    {
     "ename": "NameError",
     "evalue": "name 'corpus' is not defined",
     "output_type": "error",
     "traceback": [
      "\u001b[0;31m---------------------------------------------------------------------------\u001b[0m",
      "\u001b[0;31mNameError\u001b[0m                                 Traceback (most recent call last)",
      "Cell \u001b[0;32mIn[2], line 1\u001b[0m\n\u001b[0;32m----> 1\u001b[0m \u001b[43mcorpus\u001b[49m\u001b[38;5;241m.\u001b[39mdocs()\n",
      "\u001b[0;31mNameError\u001b[0m: name 'corpus' is not defined"
     ]
    }
   ],
   "source": [
    "corpus.docs().iloc[:10]"
   ]
  },
  {
   "cell_type": "markdown",
   "id": "fcffde94-eec1-43a2-827f-427761fb3df9",
   "metadata": {},
   "source": [
    "## Basic Corpus Statistics"
   ]
  },
  {
   "cell_type": "code",
   "execution_count": null,
   "id": "b157b1a7-55c5-4f38-ac11-97080861935b",
   "metadata": {},
   "outputs": [],
   "source": [
    "corpus.summary()"
   ]
  },
  {
   "cell_type": "code",
   "execution_count": null,
   "id": "0d03c974-8ec0-4e6e-a965-96b54a95c792",
   "metadata": {},
   "outputs": [],
   "source": [
    "corpus.meta.summary()"
   ]
  },
  {
   "cell_type": "code",
   "execution_count": null,
   "id": "9486974e-8a16-44dd-8d24-efb2fb6243c2",
   "metadata": {},
   "outputs": [],
   "source": [
    "corpus.meta"
   ]
  },
  {
   "cell_type": "markdown",
   "id": "5326723a-073b-4ebd-95db-74770449f89a",
   "metadata": {},
   "source": [
    "## Off the shelf quick Corpus exploration"
   ]
  },
  {
   "cell_type": "code",
   "execution_count": null,
   "id": "1623805c-f1d1-4bb6-86a0-44b40a71df9f",
   "metadata": {},
   "outputs": [],
   "source": [
    "MODE = 'tf'\n",
    "MODE = 'tfidf'\n",
    "MODE = 'log_likelihood'\n",
    "\n",
    "TYPE = 'word'\n",
    "TYPE = 'hashtag'\n",
    "TYPE = 'mention'\n",
    "\n",
    "corpus.viz.wordcloud()"
   ]
  },
  {
   "cell_type": "code",
   "execution_count": null,
   "id": "35e68e7a-0247-457f-91af-acf786baa598",
   "metadata": {},
   "outputs": [],
   "source": [
    "corpus.viz.timeline()"
   ]
  },
  {
   "cell_type": "markdown",
   "id": "f900d5bf-6ae0-4ea5-827d-a548187d9316",
   "metadata": {},
   "source": [
    "## Document Term Matrix"
   ]
  },
  {
   "cell_type": "code",
   "execution_count": null,
   "id": "02c4e5ce-c530-4d97-b2cb-128c2f7b16c3",
   "metadata": {},
   "outputs": [],
   "source": [
    "corpus.dtm.total\n",
    "corpus.dtm.vocab()"
   ]
  },
  {
   "cell_type": "markdown",
   "id": "fb018d8c-3ba4-4b6a-9722-d77d6d5e2e3b",
   "metadata": {
    "tags": []
   },
   "source": [
    "## Back to a dataframe"
   ]
  },
  {
   "cell_type": "code",
   "execution_count": null,
   "id": "971dafde-d5a1-4f31-aa0d-fe53837a24ed",
   "metadata": {},
   "outputs": [],
   "source": [
    "corpus.to_dataframe()"
   ]
  },
  {
   "cell_type": "code",
   "execution_count": null,
   "id": "7ab2203e-6296-4b43-8acc-aea834df544a",
   "metadata": {},
   "outputs": [],
   "source": [
    "corpus.dtm.to_dataframe()"
   ]
  },
  {
   "cell_type": "markdown",
   "id": "833cb1fb-6c82-4807-ab2d-516723b1262c",
   "metadata": {},
   "source": [
    "# Why use Corpus?\n",
    "1. **Consistent Conceptual Model**: This is unit of data used across the ATAP platform so you can expect a consistent standard and conceptual model across the existing and future ATAP tools.\n",
    "2. **Consistent Uploader**: You only have to learn to use one uploader and one set of dataset standards to be in to use all the tools across our platform.\n",
    "2. **Dataset Access**: It will later be connected to our partner LDACA's database of corpus."
   ]
  },
  {
   "cell_type": "code",
   "execution_count": null,
   "id": "816f5188-b1aa-4651-b509-be40f643816c",
   "metadata": {},
   "outputs": [],
   "source": []
  }
 ],
 "metadata": {
  "kernelspec": {
   "display_name": "Python 3 (ipykernel)",
   "language": "python",
   "name": "python3"
  },
  "language_info": {
   "codemirror_mode": {
    "name": "ipython",
    "version": 3
   },
   "file_extension": ".py",
   "mimetype": "text/x-python",
   "name": "python",
   "nbconvert_exporter": "python",
   "pygments_lexer": "ipython3",
   "version": "3.9.6"
  }
 },
 "nbformat": 4,
 "nbformat_minor": 5
}
