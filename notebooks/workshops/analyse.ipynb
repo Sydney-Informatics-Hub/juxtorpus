{
 "cells": [
  {
   "cell_type": "code",
   "execution_count": 1,
   "id": "351680a9-5c30-435b-8f92-2ccdfae05291",
   "metadata": {
    "tags": []
   },
   "outputs": [
    {
     "data": {
      "text/plain": [
       "'Working directory: /Users/hcha9747/workspace/juxtorpus'"
      ]
     },
     "execution_count": 1,
     "metadata": {},
     "output_type": "execute_result"
    }
   ],
   "source": [
    "# just pathing - ignore this\n",
    "import os\n",
    "while  not 'juxtorpus' in os.listdir():\n",
    "    os.chdir('../')\n",
    "assert 'juxtorpus' in os.listdir(), f\"Working directory should be at juxtorpus. But at {os.getcwd()}\"\n",
    "f\"Working directory: {os.getcwd()}\""
   ]
  },
  {
   "cell_type": "code",
   "execution_count": 2,
   "id": "2f9a7b13-37cd-4cc5-ab49-720a5e85ebec",
   "metadata": {
    "tags": []
   },
   "outputs": [
    {
     "name": "stderr",
     "output_type": "stream",
     "text": [
      "[nltk_data] Downloading package punkt to /Users/hcha9747/nltk_data...\n",
      "[nltk_data]   Package punkt is already up-to-date!\n",
      "[nltk_data] Downloading package punkt to /Users/hcha9747/nltk_data...\n",
      "[nltk_data]   Package punkt is already up-to-date!\n"
     ]
    }
   ],
   "source": [
    "from juxtorpus import analyse\n",
    "from juxtorpus.corpus import Corpus\n",
    "import pandas as pd\n",
    "\n",
    "corpus = Corpus.from_dataframe(pd.read_excel('notebooks/workshops/amazon_us_reviews_gift_cards.xlsx', nrows=1000), col_doc='review_body')"
   ]
  },
  {
   "cell_type": "markdown",
   "id": "ed27175d-2495-400f-8e94-751d46fa2402",
   "metadata": {},
   "source": [
    "# Semantic Tagger"
   ]
  },
  {
   "cell_type": "code",
   "execution_count": 4,
   "id": "b4221714-59ac-44db-a177-18fb80061bb6",
   "metadata": {
    "tags": []
   },
   "outputs": [
    {
     "name": "stdout",
     "output_type": "stream",
     "text": [
      "Loading the Semantic Tagger for the English language...\n",
      "This may take a while...\n",
      "Finished loading.\n"
     ]
    },
    {
     "name": "stderr",
     "output_type": "stream",
     "text": [
      "/Users/hcha9747/workspace/juxtorpus/.venv-test/lib/python3.9/site-packages/ipykernel/comm/comm.py:79: DeprecationWarning: The `ipykernel.comm.Comm` class has been deprecated. Please use the `comm` module instead.For creating comms, use the function `from comm import create_comm`.\n",
      "  warn(\n"
     ]
    },
    {
     "data": {
      "application/vnd.jupyter.widget-view+json": {
       "model_id": "7e6d74241aec464980c089a0bdd1e492",
       "version_major": 2,
       "version_minor": 0
      },
      "text/plain": [
       "  0%|          | 0/1000 [00:00<?, ?it/s]"
      ]
     },
     "metadata": {},
     "output_type": "display_data"
    },
    {
     "name": "stderr",
     "output_type": "stream",
     "text": [
      "100%|█████████████████████████████████████████████████████████████████████████████████████████████████████████████████████████████████████████████████████| 1000/1000 [00:11<00:00, 86.10it/s]\n"
     ]
    }
   ],
   "source": [
    "stagger = analyse(corpus, method='semantic_tagger', doc_id='review_id', language='english', mwe=True)"
   ]
  },
  {
   "cell_type": "code",
   "execution_count": 5,
   "id": "12f5a1bc-3af7-40b3-abe5-b1a1a771efbe",
   "metadata": {},
   "outputs": [
    {
     "name": "stderr",
     "output_type": "stream",
     "text": [
      "/Users/hcha9747/workspace/juxtorpus/.venv-test/lib/python3.9/site-packages/ipykernel/comm/comm.py:79: DeprecationWarning: The `ipykernel.comm.Comm` class has been deprecated. Please use the `comm` module instead.For creating comms, use the function `from comm import create_comm`.\n",
      "  warn(\n"
     ]
    },
    {
     "data": {
      "application/vnd.jupyter.widget-view+json": {
       "model_id": "d3a43d8308ab450cb0045461618d40bb",
       "version_major": 2,
       "version_minor": 0
      },
      "text/plain": [
       "VBox(children=(HBox(children=(VBox(children=(HBox(children=(HTML(value='<b>Select text:</b>', placeholder=''),…"
      ]
     },
     "metadata": {},
     "output_type": "display_data"
    }
   ],
   "source": [
    "stagger.display_two_tag_texts()"
   ]
  },
  {
   "cell_type": "markdown",
   "id": "f5bf05b6-e1f4-489b-84e7-0ede2c0ee788",
   "metadata": {
    "tags": []
   },
   "source": [
    "# Quotation"
   ]
  },
  {
   "cell_type": "code",
   "execution_count": null,
   "id": "0a85cf29-c9bc-475b-b1ce-a92b4dd64809",
   "metadata": {},
   "outputs": [],
   "source": [
    "quotes , qt = analyse(corpus, method='quotation', doc_id='review_id', entities=['ORG','PERSON','GPE','NORP','FAC','LOC'], add_results=False)"
   ]
  },
  {
   "cell_type": "code",
   "execution_count": null,
   "id": "03c2e558-c2d8-4ded-96a8-188a9e450d4b",
   "metadata": {
    "tags": []
   },
   "outputs": [],
   "source": [
    "quotes.summary()"
   ]
  },
  {
   "cell_type": "markdown",
   "id": "6edd4ce2-480d-4742-b05a-d1cdba426757",
   "metadata": {},
   "source": [
    "# Sentiment Analysis"
   ]
  },
  {
   "cell_type": "code",
   "execution_count": null,
   "id": "7e61a789-5939-4036-82f5-54e608abdd19",
   "metadata": {
    "tags": []
   },
   "outputs": [],
   "source": [
    "sentiments = analyse(corpus, method='sentiment', model='textblob', add_results=True)"
   ]
  },
  {
   "cell_type": "code",
   "execution_count": null,
   "id": "df58b71f-a9bb-4e85-839d-5f7e2d84535e",
   "metadata": {
    "tags": []
   },
   "outputs": [],
   "source": [
    "corpus.meta.get('#sentiment').series.hist()"
   ]
  },
  {
   "cell_type": "markdown",
   "id": "d1686da6-8bca-4544-a7cd-e47d0e646ebd",
   "metadata": {},
   "source": [
    "# Topic Modelling (LDA)"
   ]
  },
  {
   "cell_type": "code",
   "execution_count": null,
   "id": "db11e4b7-f121-4151-b603-dc3a9bbda8ec",
   "metadata": {
    "tags": []
   },
   "outputs": [],
   "source": [
    "lda = analyse(corpus, method='topic_model', num_topics=10, mode='tf', add_results=True)\n",
    "lda.widget()"
   ]
  },
  {
   "cell_type": "code",
   "execution_count": null,
   "id": "189f71f5-49bd-490e-8605-3c6259488bc8",
   "metadata": {
    "tags": []
   },
   "outputs": [],
   "source": [
    "corpus.meta"
   ]
  },
  {
   "cell_type": "code",
   "execution_count": null,
   "id": "04c3a473-b8bb-409e-8372-b0c922f881cb",
   "metadata": {},
   "outputs": [],
   "source": []
  }
 ],
 "metadata": {
  "kernelspec": {
   "display_name": "Python 3 (ipykernel)",
   "language": "python",
   "name": "python3"
  },
  "language_info": {
   "codemirror_mode": {
    "name": "ipython",
    "version": 3
   },
   "file_extension": ".py",
   "mimetype": "text/x-python",
   "name": "python",
   "nbconvert_exporter": "python",
   "pygments_lexer": "ipython3",
   "version": "3.9.6"
  }
 },
 "nbformat": 4,
 "nbformat_minor": 5
}
