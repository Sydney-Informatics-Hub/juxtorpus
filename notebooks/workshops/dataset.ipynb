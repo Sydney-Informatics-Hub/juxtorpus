{
 "cells": [
  {
   "cell_type": "markdown",
   "id": "7dd29ecf-4b2a-440b-b92a-d1b7a4ddbea4",
   "metadata": {},
   "source": [
    "# Dataset"
   ]
  },
  {
   "cell_type": "code",
   "execution_count": 5,
   "id": "3eced6c3-f508-4385-a5bb-218858687fc6",
   "metadata": {
    "tags": []
   },
   "outputs": [],
   "source": [
    "from datasets import load_dataset"
   ]
  },
  {
   "cell_type": "code",
   "execution_count": 2,
   "id": "57a8f0a6-2e76-4f65-8dd6-3c69edfb180b",
   "metadata": {
    "tags": []
   },
   "outputs": [
    {
     "name": "stderr",
     "output_type": "stream",
     "text": [
      "Found cached dataset amazon_us_reviews (/Users/hcha9747/.cache/huggingface/datasets/amazon_us_reviews/Gift_Card_v1_00/0.1.0/17b2481be59723469538adeb8fd0a68b0ba363bbbdd71090e72c325ee6c7e563)\n"
     ]
    },
    {
     "data": {
      "application/vnd.jupyter.widget-view+json": {
       "model_id": "771b00ff060841069c5439cf1dda7ebe",
       "version_major": 2,
       "version_minor": 0
      },
      "text/plain": [
       "  0%|          | 0/1 [00:00<?, ?it/s]"
      ]
     },
     "metadata": {},
     "output_type": "display_data"
    },
    {
     "data": {
      "text/plain": [
       "1"
      ]
     },
     "execution_count": 2,
     "metadata": {},
     "output_type": "execute_result"
    }
   ],
   "source": [
    "dataset = load_dataset('amazon_us_reviews', 'Gift_Card_v1_00')\n",
    "len(dataset)"
   ]
  },
  {
   "cell_type": "code",
   "execution_count": 3,
   "id": "d57d4a76-3fb0-4b00-8b28-625316058dd5",
   "metadata": {
    "tags": []
   },
   "outputs": [],
   "source": [
    "train = dataset.get('train')"
   ]
  },
  {
   "cell_type": "code",
   "execution_count": 4,
   "id": "9917421d-9f8d-486a-9b19-118be659a0d1",
   "metadata": {
    "tags": []
   },
   "outputs": [
    {
     "data": {
      "text/plain": [
       "{'marketplace': 'US',\n",
       " 'customer_id': '24371595',\n",
       " 'review_id': 'R27ZP1F1CD0C3Y',\n",
       " 'product_id': 'B004LLIL5A',\n",
       " 'product_parent': '346014806',\n",
       " 'product_title': 'Amazon eGift Card - Celebrate',\n",
       " 'product_category': 'Gift Card',\n",
       " 'star_rating': 5,\n",
       " 'helpful_votes': 0,\n",
       " 'total_votes': 0,\n",
       " 'vine': 0,\n",
       " 'verified_purchase': 1,\n",
       " 'review_headline': 'Five Stars',\n",
       " 'review_body': 'Great birthday gift for a young adult.',\n",
       " 'review_date': '2015-08-31'}"
      ]
     },
     "execution_count": 4,
     "metadata": {},
     "output_type": "execute_result"
    }
   ],
   "source": [
    "train[0]"
   ]
  },
  {
   "cell_type": "code",
   "execution_count": 6,
   "id": "36167f5d-e503-45a3-8ef8-417515af9f5b",
   "metadata": {
    "tags": []
   },
   "outputs": [
    {
     "name": "stdout",
     "output_type": "stream",
     "text": [
      "Downloading and preparing dataset amazon_us_reviews/Video_v1_00 to /Users/hcha9747/.cache/huggingface/datasets/amazon_us_reviews/Video_v1_00/0.1.0/17b2481be59723469538adeb8fd0a68b0ba363bbbdd71090e72c325ee6c7e563...\n",
      "huggingface/tokenizers: The current process just got forked, after parallelism has already been used. Disabling parallelism to avoid deadlocks...\n",
      "To disable this warning, you can either:\n",
      "\t- Avoid using `tokenizers` before the fork if possible\n",
      "\t- Explicitly set the environment variable TOKENIZERS_PARALLELISM=(true | false)\n"
     ]
    },
    {
     "data": {
      "application/vnd.jupyter.widget-view+json": {
       "model_id": "b87ee177ef324c64b4836bbf1085f3bb",
       "version_major": 2,
       "version_minor": 0
      },
      "text/plain": [
       "Downloading data:   0%|          | 0.00/139M [00:00<?, ?B/s]"
      ]
     },
     "metadata": {},
     "output_type": "display_data"
    },
    {
     "data": {
      "application/vnd.jupyter.widget-view+json": {
       "model_id": "",
       "version_major": 2,
       "version_minor": 0
      },
      "text/plain": [
       "Generating train split:   0%|          | 0/380604 [00:00<?, ? examples/s]"
      ]
     },
     "metadata": {},
     "output_type": "display_data"
    },
    {
     "name": "stdout",
     "output_type": "stream",
     "text": [
      "Dataset amazon_us_reviews downloaded and prepared to /Users/hcha9747/.cache/huggingface/datasets/amazon_us_reviews/Video_v1_00/0.1.0/17b2481be59723469538adeb8fd0a68b0ba363bbbdd71090e72c325ee6c7e563. Subsequent calls will reuse this data.\n"
     ]
    },
    {
     "data": {
      "application/vnd.jupyter.widget-view+json": {
       "model_id": "2b0f912ee81649fcbf4cf9db2c300e5f",
       "version_major": 2,
       "version_minor": 0
      },
      "text/plain": [
       "  0%|          | 0/1 [00:00<?, ?it/s]"
      ]
     },
     "metadata": {},
     "output_type": "display_data"
    },
    {
     "data": {
      "text/plain": [
       "1"
      ]
     },
     "execution_count": 6,
     "metadata": {},
     "output_type": "execute_result"
    }
   ],
   "source": [
    "dataset = load_dataset('amazon_us_reviews', 'Video_v1_00')\n",
    "len(dataset)"
   ]
  },
  {
   "cell_type": "code",
   "execution_count": 10,
   "id": "cbf5457e-6079-4ac4-b30e-0d56ee33ba88",
   "metadata": {
    "tags": []
   },
   "outputs": [
    {
     "data": {
      "text/plain": [
       "{'marketplace': 'US',\n",
       " 'customer_id': '49033728',\n",
       " 'review_id': 'R1P1G5KZ05H6RD',\n",
       " 'product_id': '6302503213',\n",
       " 'product_parent': '748506413',\n",
       " 'product_title': 'The Night They Saved Christmas [VHS]',\n",
       " 'product_category': 'Video',\n",
       " 'star_rating': 5,\n",
       " 'helpful_votes': 0,\n",
       " 'total_votes': 0,\n",
       " 'vine': 0,\n",
       " 'verified_purchase': 1,\n",
       " 'review_headline': 'Very satisfied!!',\n",
       " 'review_body': 'Fast shipping. Pleasure to deal with. Would recommend. A+++. Thanks!',\n",
       " 'review_date': '2015-08-31'}"
      ]
     },
     "execution_count": 10,
     "metadata": {},
     "output_type": "execute_result"
    }
   ],
   "source": [
    "dataset.get('train')[0]"
   ]
  },
  {
   "cell_type": "code",
   "execution_count": 15,
   "id": "e1a6294e-158d-4a99-8eba-e6f9214c8bcf",
   "metadata": {
    "tags": []
   },
   "outputs": [],
   "source": [
    "import pandas as pd\n",
    "df = pd.DataFrame(dataset.get('train'))"
   ]
  },
  {
   "cell_type": "code",
   "execution_count": 22,
   "id": "55fab70f-def6-46dc-9d6b-4da12b0958a7",
   "metadata": {
    "tags": []
   },
   "outputs": [],
   "source": [
    "df.to_excel('amazon_us_reviews_films.xlsx', index=False)"
   ]
  },
  {
   "cell_type": "code",
   "execution_count": 20,
   "id": "547fc6ed-6e29-4e72-a311-325f5e218549",
   "metadata": {
    "tags": []
   },
   "outputs": [
    {
     "data": {
      "text/plain": [
       "'Fast_shipping_._Pleasure_to_deal_with_._Would_recommend_._A+++_._Thanks_!'"
      ]
     },
     "execution_count": 20,
     "metadata": {},
     "output_type": "execute_result"
    }
   ],
   "source": [
    "doc = nlp(df.iloc[0].review_body)\n",
    "'_'.join(t.text for t in doc)"
   ]
  },
  {
   "cell_type": "code",
   "execution_count": null,
   "id": "f137f315-8c1d-4428-8176-df8f3aab565c",
   "metadata": {},
   "outputs": [],
   "source": []
  },
  {
   "cell_type": "code",
   "execution_count": null,
   "id": "40183e2b-2c4f-47c0-bf87-d3cb534f52a9",
   "metadata": {},
   "outputs": [],
   "source": []
  },
  {
   "cell_type": "code",
   "execution_count": null,
   "id": "57a0a5b2-eeb8-442f-8371-6b3419d78a86",
   "metadata": {},
   "outputs": [],
   "source": []
  },
  {
   "cell_type": "code",
   "execution_count": null,
   "id": "7ce7aa88-e96c-4ff2-8c97-5bd11642eb22",
   "metadata": {},
   "outputs": [],
   "source": []
  },
  {
   "cell_type": "code",
   "execution_count": null,
   "id": "f62a3699-f5c5-447c-9fe0-0795a1b17067",
   "metadata": {},
   "outputs": [],
   "source": []
  },
  {
   "cell_type": "code",
   "execution_count": 1,
   "id": "d0e3f93f-d18f-46f9-a69e-2c7ded0f0727",
   "metadata": {
    "tags": []
   },
   "outputs": [],
   "source": [
    "import spacy\n",
    "nlp = spacy.load('en_core_web_trf')"
   ]
  },
  {
   "cell_type": "code",
   "execution_count": 2,
   "id": "2a02e053-4082-4ea9-a0f3-3de598f7984d",
   "metadata": {
    "tags": []
   },
   "outputs": [],
   "source": [
    "doc = nlp('went')"
   ]
  },
  {
   "cell_type": "code",
   "execution_count": 3,
   "id": "dc5f6e7f-7401-421e-8679-eb7c68316036",
   "metadata": {
    "tags": []
   },
   "outputs": [
    {
     "data": {
      "text/plain": [
       "'go'"
      ]
     },
     "execution_count": 3,
     "metadata": {},
     "output_type": "execute_result"
    }
   ],
   "source": [
    "doc[0].lemma_"
   ]
  },
  {
   "cell_type": "code",
   "execution_count": 5,
   "id": "33c647fc-0075-4dc9-9a36-f21a91861c49",
   "metadata": {
    "tags": []
   },
   "outputs": [],
   "source": [
    "import pandas as pd\n",
    "\n",
    "df = pd.DataFrame(train)"
   ]
  },
  {
   "cell_type": "code",
   "execution_count": 11,
   "id": "b81c2711-d09d-4f79-9a76-b035544b5159",
   "metadata": {
    "tags": []
   },
   "outputs": [],
   "source": [
    "df.to_excel('./amazon_us_reviews_gift_cards.xlsx', index=False)"
   ]
  },
  {
   "cell_type": "code",
   "execution_count": 10,
   "id": "c8e6d2f9-6699-4d2b-bbdc-1b5771c57fa5",
   "metadata": {
    "tags": []
   },
   "outputs": [
    {
     "name": "stdout",
     "output_type": "stream",
     "text": [
      " 20M\t./amazon_us_reviews_gift_cards.xlsx\n"
     ]
    }
   ],
   "source": [
    "! du -h ./amazon_us_reviews_gift_cards.xlsx"
   ]
  },
  {
   "cell_type": "code",
   "execution_count": 6,
   "id": "3edc5534-adfc-431b-b94a-9074721dc84f",
   "metadata": {
    "tags": []
   },
   "outputs": [],
   "source": [
    "from jux./amazon_us_reviews_gift_cards.xlsxus import Corpus\n",
    "\n",
    "corpus = Corpus.from_dataframe(df, col_doc='review_body')"
   ]
  },
  {
   "cell_type": "code",
   "execution_count": 7,
   "id": "ffd8bf33-a4b9-4d54-ada3-70a1679ad0b5",
   "metadata": {
    "tags": []
   },
   "outputs": [
    {
     "data": {
      "text/html": [
       "<div>\n",
       "<style scoped>\n",
       "    .dataframe tbody tr th:only-of-type {\n",
       "        vertical-align: middle;\n",
       "    }\n",
       "\n",
       "    .dataframe tbody tr th {\n",
       "        vertical-align: top;\n",
       "    }\n",
       "\n",
       "    .dataframe thead th {\n",
       "        text-align: right;\n",
       "    }\n",
       "</style>\n",
       "<table border=\"1\" class=\"dataframe\">\n",
       "  <thead>\n",
       "    <tr style=\"text-align: right;\">\n",
       "      <th></th>\n",
       "      <th></th>\n",
       "    </tr>\n",
       "  </thead>\n",
       "  <tbody>\n",
       "    <tr>\n",
       "      <th>Corpus Type</th>\n",
       "      <td>Corpus</td>\n",
       "    </tr>\n",
       "    <tr>\n",
       "      <th>Number of Documents</th>\n",
       "      <td>149086</td>\n",
       "    </tr>\n",
       "    <tr>\n",
       "      <th>Number of Total Words</th>\n",
       "      <td>3685266</td>\n",
       "    </tr>\n",
       "    <tr>\n",
       "      <th>Size of Vocabulary</th>\n",
       "      <td>31435</td>\n",
       "    </tr>\n",
       "    <tr>\n",
       "      <th>mean Words per Document</th>\n",
       "      <td>24</td>\n",
       "    </tr>\n",
       "    <tr>\n",
       "      <th>min Words per Document</th>\n",
       "      <td>0</td>\n",
       "    </tr>\n",
       "    <tr>\n",
       "      <th>max Words per Document</th>\n",
       "      <td>1744</td>\n",
       "    </tr>\n",
       "    <tr>\n",
       "      <th>metas</th>\n",
       "      <td>marketplace, customer_id, review_id, product_i...</td>\n",
       "    </tr>\n",
       "  </tbody>\n",
       "</table>\n",
       "</div>"
      ],
      "text/plain": [
       "                                                                          \n",
       "Corpus Type                                                         Corpus\n",
       "Number of Documents                                                 149086\n",
       "Number of Total Words                                              3685266\n",
       "Size of Vocabulary                                                   31435\n",
       "mean Words per Document                                                 24\n",
       "min Words per Document                                                   0\n",
       "max Words per Document                                                1744\n",
       "metas                    marketplace, customer_id, review_id, product_i..."
      ]
     },
     "execution_count": 7,
     "metadata": {},
     "output_type": "execute_result"
    }
   ],
   "source": [
    "corpus.summary()"
   ]
  },
  {
   "cell_type": "code",
   "execution_count": 20,
   "id": "ea86b115-2dea-491a-84b8-64d9941b6e49",
   "metadata": {
    "tags": []
   },
   "outputs": [
    {
     "data": {
      "text/html": [
       "<div>\n",
       "<style scoped>\n",
       "    .dataframe tbody tr th:only-of-type {\n",
       "        vertical-align: middle;\n",
       "    }\n",
       "\n",
       "    .dataframe tbody tr th {\n",
       "        vertical-align: top;\n",
       "    }\n",
       "\n",
       "    .dataframe thead th {\n",
       "        text-align: right;\n",
       "    }\n",
       "</style>\n",
       "<table border=\"1\" class=\"dataframe\">\n",
       "  <thead>\n",
       "    <tr style=\"text-align: right;\">\n",
       "      <th></th>\n",
       "      <th>marketplace</th>\n",
       "      <th>customer_id</th>\n",
       "      <th>review_id</th>\n",
       "      <th>product_id</th>\n",
       "      <th>product_parent</th>\n",
       "      <th>product_title</th>\n",
       "      <th>product_category</th>\n",
       "      <th>star_rating</th>\n",
       "      <th>helpful_votes</th>\n",
       "      <th>total_votes</th>\n",
       "      <th>vine</th>\n",
       "      <th>verified_purchase</th>\n",
       "      <th>review_headline</th>\n",
       "      <th>review_date</th>\n",
       "    </tr>\n",
       "  </thead>\n",
       "  <tbody>\n",
       "    <tr>\n",
       "      <th>dtype</th>\n",
       "      <td>object</td>\n",
       "      <td>object</td>\n",
       "      <td>object</td>\n",
       "      <td>object</td>\n",
       "      <td>object</td>\n",
       "      <td>object</td>\n",
       "      <td>object</td>\n",
       "      <td>int64</td>\n",
       "      <td>int64</td>\n",
       "      <td>int64</td>\n",
       "      <td>int64</td>\n",
       "      <td>int64</td>\n",
       "      <td>object</td>\n",
       "      <td>datetime64[ns]</td>\n",
       "    </tr>\n",
       "    <tr>\n",
       "      <th>sample</th>\n",
       "      <td>US</td>\n",
       "      <td>24371595</td>\n",
       "      <td>R27ZP1F1CD0C3Y</td>\n",
       "      <td>B004LLIL5A</td>\n",
       "      <td>346014806</td>\n",
       "      <td>Amazon eGift Card - Celebrate</td>\n",
       "      <td>Gift Card</td>\n",
       "      <td>5</td>\n",
       "      <td>0</td>\n",
       "      <td>0</td>\n",
       "      <td>0</td>\n",
       "      <td>1</td>\n",
       "      <td>Five Stars</td>\n",
       "      <td>2015-08-31 00:00:00</td>\n",
       "    </tr>\n",
       "    <tr>\n",
       "      <th>top</th>\n",
       "      <td>US</td>\n",
       "      <td>9374792</td>\n",
       "      <td>R27ZP1F1CD0C3Y</td>\n",
       "      <td>B004LLIKVU</td>\n",
       "      <td>473048287</td>\n",
       "      <td>Amazon.com eGift Cards</td>\n",
       "      <td>Gift Card</td>\n",
       "      <td>5</td>\n",
       "      <td>0</td>\n",
       "      <td>0</td>\n",
       "      <td>0</td>\n",
       "      <td>1</td>\n",
       "      <td>Five Stars</td>\n",
       "      <td>2012-01-28T00:00:00.000000000</td>\n",
       "    </tr>\n",
       "    <tr>\n",
       "      <th>top_freq</th>\n",
       "      <td>149086</td>\n",
       "      <td>7</td>\n",
       "      <td>1</td>\n",
       "      <td>28879</td>\n",
       "      <td>37108</td>\n",
       "      <td>37108</td>\n",
       "      <td>149086</td>\n",
       "      <td>129709</td>\n",
       "      <td>143501</td>\n",
       "      <td>141887</td>\n",
       "      <td>149086</td>\n",
       "      <td>136042</td>\n",
       "      <td>41804</td>\n",
       "      <td>2107</td>\n",
       "    </tr>\n",
       "    <tr>\n",
       "      <th>uniqs</th>\n",
       "      <td>US</td>\n",
       "      <td>24371595, 42489718, 861463, 25283295, 397970, ...</td>\n",
       "      <td>R27ZP1F1CD0C3Y, RJ7RSBCHUDNNE, R1HVYBSKLQJI5S,...</td>\n",
       "      <td>B004LLIL5A, B004LLIKVU, B00IX1I3G6, B005ESMGV4...</td>\n",
       "      <td>346014806, 473048287, 926539283, 379368939, 32...</td>\n",
       "      <td>Amazon eGift Card - Celebrate, Amazon.com eGif...</td>\n",
       "      <td>Gift Card</td>\n",
       "      <td>5, 1, 4, 2, 3</td>\n",
       "      <td>0, 1, 2, 3, 6, 4, 7, 30, 8, 18, 241, 99, 5, 12...</td>\n",
       "      <td>0, 1, 2, 3, 7, 6, 8, 32, 4, 9, 21, 248, 113, 5...</td>\n",
       "      <td>0</td>\n",
       "      <td>1, 0</td>\n",
       "      <td>Five Stars, Gift card for the greatest selecti...</td>\n",
       "      <td>2015-08-31T00:00:00.000000000, 2015-08-30T00:0...</td>\n",
       "    </tr>\n",
       "    <tr>\n",
       "      <th>num_uniqs</th>\n",
       "      <td>1</td>\n",
       "      <td>143181</td>\n",
       "      <td>149086</td>\n",
       "      <td>1780</td>\n",
       "      <td>1197</td>\n",
       "      <td>1197</td>\n",
       "      <td>1</td>\n",
       "      <td>5</td>\n",
       "      <td>163</td>\n",
       "      <td>182</td>\n",
       "      <td>1</td>\n",
       "      <td>2</td>\n",
       "      <td>58232</td>\n",
       "      <td>2016</td>\n",
       "    </tr>\n",
       "    <tr>\n",
       "      <th>mean</th>\n",
       "      <td></td>\n",
       "      <td></td>\n",
       "      <td></td>\n",
       "      <td></td>\n",
       "      <td></td>\n",
       "      <td></td>\n",
       "      <td></td>\n",
       "      <td>4.731363</td>\n",
       "      <td>0.396603</td>\n",
       "      <td>0.489449</td>\n",
       "      <td>0.0</td>\n",
       "      <td>0.912507</td>\n",
       "      <td></td>\n",
       "      <td>2014-01-30 02:16:17.186321920</td>\n",
       "    </tr>\n",
       "    <tr>\n",
       "      <th>std</th>\n",
       "      <td></td>\n",
       "      <td></td>\n",
       "      <td></td>\n",
       "      <td></td>\n",
       "      <td></td>\n",
       "      <td></td>\n",
       "      <td></td>\n",
       "      <td>0.829306</td>\n",
       "      <td>20.649231</td>\n",
       "      <td>22.766277</td>\n",
       "      <td>0.0</td>\n",
       "      <td>0.282557</td>\n",
       "      <td></td>\n",
       "      <td>436 days 10:38:08.916551416</td>\n",
       "    </tr>\n",
       "    <tr>\n",
       "      <th>min</th>\n",
       "      <td></td>\n",
       "      <td></td>\n",
       "      <td></td>\n",
       "      <td></td>\n",
       "      <td></td>\n",
       "      <td></td>\n",
       "      <td></td>\n",
       "      <td>1</td>\n",
       "      <td>0</td>\n",
       "      <td>0</td>\n",
       "      <td>0</td>\n",
       "      <td>0</td>\n",
       "      <td></td>\n",
       "      <td>2004-10-14 00:00:00</td>\n",
       "    </tr>\n",
       "    <tr>\n",
       "      <th>25%</th>\n",
       "      <td></td>\n",
       "      <td></td>\n",
       "      <td></td>\n",
       "      <td></td>\n",
       "      <td></td>\n",
       "      <td></td>\n",
       "      <td></td>\n",
       "      <td>5.0</td>\n",
       "      <td>0.0</td>\n",
       "      <td>0.0</td>\n",
       "      <td>0.0</td>\n",
       "      <td>1.0</td>\n",
       "      <td></td>\n",
       "      <td>2013-03-30 00:00:00</td>\n",
       "    </tr>\n",
       "    <tr>\n",
       "      <th>50%</th>\n",
       "      <td></td>\n",
       "      <td></td>\n",
       "      <td></td>\n",
       "      <td></td>\n",
       "      <td></td>\n",
       "      <td></td>\n",
       "      <td></td>\n",
       "      <td>5.0</td>\n",
       "      <td>0.0</td>\n",
       "      <td>0.0</td>\n",
       "      <td>0.0</td>\n",
       "      <td>1.0</td>\n",
       "      <td></td>\n",
       "      <td>2014-05-11 00:00:00</td>\n",
       "    </tr>\n",
       "    <tr>\n",
       "      <th>75%</th>\n",
       "      <td></td>\n",
       "      <td></td>\n",
       "      <td></td>\n",
       "      <td></td>\n",
       "      <td></td>\n",
       "      <td></td>\n",
       "      <td></td>\n",
       "      <td>5.0</td>\n",
       "      <td>0.0</td>\n",
       "      <td>0.0</td>\n",
       "      <td>0.0</td>\n",
       "      <td>1.0</td>\n",
       "      <td></td>\n",
       "      <td>2015-01-24 00:00:00</td>\n",
       "    </tr>\n",
       "    <tr>\n",
       "      <th>max</th>\n",
       "      <td></td>\n",
       "      <td></td>\n",
       "      <td></td>\n",
       "      <td></td>\n",
       "      <td></td>\n",
       "      <td></td>\n",
       "      <td></td>\n",
       "      <td>5</td>\n",
       "      <td>5987</td>\n",
       "      <td>6323</td>\n",
       "      <td>0</td>\n",
       "      <td>1</td>\n",
       "      <td></td>\n",
       "      <td>2015-08-31 00:00:00</td>\n",
       "    </tr>\n",
       "  </tbody>\n",
       "</table>\n",
       "</div>"
      ],
      "text/plain": [
       "          marketplace                                        customer_id  \\\n",
       "dtype          object                                             object   \n",
       "sample             US                                           24371595   \n",
       "top                US                                            9374792   \n",
       "top_freq       149086                                                  7   \n",
       "uniqs              US  24371595, 42489718, 861463, 25283295, 397970, ...   \n",
       "num_uniqs           1                                             143181   \n",
       "mean                                                                       \n",
       "std                                                                        \n",
       "min                                                                        \n",
       "25%                                                                        \n",
       "50%                                                                        \n",
       "75%                                                                        \n",
       "max                                                                        \n",
       "\n",
       "                                                   review_id  \\\n",
       "dtype                                                 object   \n",
       "sample                                        R27ZP1F1CD0C3Y   \n",
       "top                                           R27ZP1F1CD0C3Y   \n",
       "top_freq                                                   1   \n",
       "uniqs      R27ZP1F1CD0C3Y, RJ7RSBCHUDNNE, R1HVYBSKLQJI5S,...   \n",
       "num_uniqs                                             149086   \n",
       "mean                                                           \n",
       "std                                                            \n",
       "min                                                            \n",
       "25%                                                            \n",
       "50%                                                            \n",
       "75%                                                            \n",
       "max                                                            \n",
       "\n",
       "                                                  product_id  \\\n",
       "dtype                                                 object   \n",
       "sample                                            B004LLIL5A   \n",
       "top                                               B004LLIKVU   \n",
       "top_freq                                               28879   \n",
       "uniqs      B004LLIL5A, B004LLIKVU, B00IX1I3G6, B005ESMGV4...   \n",
       "num_uniqs                                               1780   \n",
       "mean                                                           \n",
       "std                                                            \n",
       "min                                                            \n",
       "25%                                                            \n",
       "50%                                                            \n",
       "75%                                                            \n",
       "max                                                            \n",
       "\n",
       "                                              product_parent  \\\n",
       "dtype                                                 object   \n",
       "sample                                             346014806   \n",
       "top                                                473048287   \n",
       "top_freq                                               37108   \n",
       "uniqs      346014806, 473048287, 926539283, 379368939, 32...   \n",
       "num_uniqs                                               1197   \n",
       "mean                                                           \n",
       "std                                                            \n",
       "min                                                            \n",
       "25%                                                            \n",
       "50%                                                            \n",
       "75%                                                            \n",
       "max                                                            \n",
       "\n",
       "                                               product_title product_category  \\\n",
       "dtype                                                 object           object   \n",
       "sample                         Amazon eGift Card - Celebrate        Gift Card   \n",
       "top                                   Amazon.com eGift Cards        Gift Card   \n",
       "top_freq                                               37108           149086   \n",
       "uniqs      Amazon eGift Card - Celebrate, Amazon.com eGif...        Gift Card   \n",
       "num_uniqs                                               1197                1   \n",
       "mean                                                                            \n",
       "std                                                                             \n",
       "min                                                                             \n",
       "25%                                                                             \n",
       "50%                                                                             \n",
       "75%                                                                             \n",
       "max                                                                             \n",
       "\n",
       "             star_rating                                      helpful_votes  \\\n",
       "dtype              int64                                              int64   \n",
       "sample                 5                                                  0   \n",
       "top                    5                                                  0   \n",
       "top_freq          129709                                             143501   \n",
       "uniqs      5, 1, 4, 2, 3  0, 1, 2, 3, 6, 4, 7, 30, 8, 18, 241, 99, 5, 12...   \n",
       "num_uniqs              5                                                163   \n",
       "mean            4.731363                                           0.396603   \n",
       "std             0.829306                                          20.649231   \n",
       "min                    1                                                  0   \n",
       "25%                  5.0                                                0.0   \n",
       "50%                  5.0                                                0.0   \n",
       "75%                  5.0                                                0.0   \n",
       "max                    5                                               5987   \n",
       "\n",
       "                                                 total_votes    vine  \\\n",
       "dtype                                                  int64   int64   \n",
       "sample                                                     0       0   \n",
       "top                                                        0       0   \n",
       "top_freq                                              141887  149086   \n",
       "uniqs      0, 1, 2, 3, 7, 6, 8, 32, 4, 9, 21, 248, 113, 5...       0   \n",
       "num_uniqs                                                182       1   \n",
       "mean                                                0.489449     0.0   \n",
       "std                                                22.766277     0.0   \n",
       "min                                                        0       0   \n",
       "25%                                                      0.0     0.0   \n",
       "50%                                                      0.0     0.0   \n",
       "75%                                                      0.0     0.0   \n",
       "max                                                     6323       0   \n",
       "\n",
       "          verified_purchase  \\\n",
       "dtype                 int64   \n",
       "sample                    1   \n",
       "top                       1   \n",
       "top_freq             136042   \n",
       "uniqs                  1, 0   \n",
       "num_uniqs                 2   \n",
       "mean               0.912507   \n",
       "std                0.282557   \n",
       "min                       0   \n",
       "25%                     1.0   \n",
       "50%                     1.0   \n",
       "75%                     1.0   \n",
       "max                       1   \n",
       "\n",
       "                                             review_headline  \\\n",
       "dtype                                                 object   \n",
       "sample                                            Five Stars   \n",
       "top                                               Five Stars   \n",
       "top_freq                                               41804   \n",
       "uniqs      Five Stars, Gift card for the greatest selecti...   \n",
       "num_uniqs                                              58232   \n",
       "mean                                                           \n",
       "std                                                            \n",
       "min                                                            \n",
       "25%                                                            \n",
       "50%                                                            \n",
       "75%                                                            \n",
       "max                                                            \n",
       "\n",
       "                                                 review_date  \n",
       "dtype                                         datetime64[ns]  \n",
       "sample                                   2015-08-31 00:00:00  \n",
       "top                            2012-01-28T00:00:00.000000000  \n",
       "top_freq                                                2107  \n",
       "uniqs      2015-08-31T00:00:00.000000000, 2015-08-30T00:0...  \n",
       "num_uniqs                                               2016  \n",
       "mean                           2014-01-30 02:16:17.186321920  \n",
       "std                              436 days 10:38:08.916551416  \n",
       "min                                      2004-10-14 00:00:00  \n",
       "25%                                      2013-03-30 00:00:00  \n",
       "50%                                      2014-05-11 00:00:00  \n",
       "75%                                      2015-01-24 00:00:00  \n",
       "max                                      2015-08-31 00:00:00  "
      ]
     },
     "execution_count": 20,
     "metadata": {},
     "output_type": "execute_result"
    }
   ],
   "source": [
    "corpus.meta.summary()"
   ]
  },
  {
   "cell_type": "code",
   "execution_count": null,
   "id": "b5a89f36-48c8-4b0c-851c-84fc9bfb2946",
   "metadata": {},
   "outputs": [],
   "source": []
  }
 ],
 "metadata": {
  "kernelspec": {
   "display_name": "Python 3 (ipykernel)",
   "language": "python",
   "name": "python3"
  },
  "language_info": {
   "codemirror_mode": {
    "name": "ipython",
    "version": 3
   },
   "file_extension": ".py",
   "mimetype": "text/x-python",
   "name": "python",
   "nbconvert_exporter": "python",
   "pygments_lexer": "ipython3",
   "version": "3.9.6"
  }
 },
 "nbformat": 4,
 "nbformat_minor": 5
}
