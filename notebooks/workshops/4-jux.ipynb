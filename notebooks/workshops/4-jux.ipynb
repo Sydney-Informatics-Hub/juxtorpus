{
 "cells": [
  {
   "cell_type": "code",
   "execution_count": 1,
   "id": "f0943511-5155-48df-9d13-10a6577785fe",
   "metadata": {
    "tags": []
   },
   "outputs": [
    {
     "data": {
      "text/plain": [
       "'Working directory: /Users/hcha9747/workspace/juxtorpus'"
      ]
     },
     "execution_count": 1,
     "metadata": {},
     "output_type": "execute_result"
    }
   ],
   "source": [
    "# just pathing - ignore this\n",
    "import os\n",
    "while  not 'juxtorpus' in os.listdir():\n",
    "    os.chdir('../')\n",
    "assert 'juxtorpus' in os.listdir(), f\"Working directory should be at juxtorpus. But at {os.getcwd()}\"\n",
    "f\"Working directory: {os.getcwd()}\""
   ]
  },
  {
   "cell_type": "markdown",
   "id": "29a20600-b94e-4ab7-b46f-eb929e2d7630",
   "metadata": {},
   "source": [
    "# Australian Text Analytics Platform (ATAP)\n",
    "The Australian Text Analytics Platform aims to bring computational text analysis to the hands of students and researchers with little coding experience through easy to use widgets and library of functions on jupyter notebooks."
   ]
  },
  {
   "cell_type": "markdown",
   "id": "04cd839e-ad03-450b-8edd-a9e05158e1e6",
   "metadata": {},
   "source": [
    "# Jux\n",
    "\n",
    "Jux is the first tool designed with `Corpus` that we've introduced in the previous workshop.\n",
    "\n",
    "> Jux helps compare and contrast two Corpus."
   ]
  },
  {
   "cell_type": "markdown",
   "id": "911749f6-e320-414e-8349-83fbf92ae133",
   "metadata": {},
   "source": [
    "## Polarity Wordcloud"
   ]
  },
  {
   "cell_type": "code",
   "execution_count": null,
   "id": "e8bef7b8-9fba-470a-bf81-dbef86831b2a",
   "metadata": {
    "tags": []
   },
   "outputs": [],
   "source": [
    "from juxtorpus.corpus import Corpus, Corpora\n",
    "import pandas as pd\n",
    "\n",
    "corpora = Corpora()\n",
    "corpora.add(Corpus.from_dataframe(pd.read_csv('./notebooks/workshops/tweets_customer_support.csv'), \n",
    "                                  col_doc='text', name='support'))\n",
    "corpora.add(Corpus.from_dataframe(pd.read_excel('./notebooks/workshops/amazon_us_reviews_gift_cards.xlsx'), \n",
    "                                  col_doc='review_body', name='gifts'))"
   ]
  },
  {
   "cell_type": "code",
   "execution_count": null,
   "id": "19b65c5f-f557-41a8-9264-b208d45835c2",
   "metadata": {
    "tags": []
   },
   "outputs": [],
   "source": [
    "corpora.items()"
   ]
  },
  {
   "cell_type": "code",
   "execution_count": null,
   "id": "a5be1abc-ebd4-4620-a90d-73c8187aeeb7",
   "metadata": {
    "tags": []
   },
   "outputs": [],
   "source": [
    "from juxtorpus import Jux\n",
    "\n",
    "jux = Jux(corpora['support'], corpora['gifts'])\n",
    "jux.polarity.wordcloud(mode='tf')"
   ]
  },
  {
   "cell_type": "code",
   "execution_count": null,
   "id": "6633a4b5-bb58-4abc-b3f8-92ed9df4b35e",
   "metadata": {
    "tags": []
   },
   "outputs": [],
   "source": [
    "tf = jux.polarity.tf()\n",
    "tf['polarity_abs'] = tf.polarity.abs()\n",
    "tf.sort_values('polarity_abs', ascending=False).iloc[:30]"
   ]
  },
  {
   "cell_type": "code",
   "execution_count": null,
   "id": "5b8b923e-c1d5-44eb-ad5e-5761704b7f39",
   "metadata": {
    "tags": []
   },
   "outputs": [],
   "source": [
    "jux.polarity.tfidf()"
   ]
  },
  {
   "cell_type": "code",
   "execution_count": null,
   "id": "8082029c-e548-47d9-8354-e3a858c44209",
   "metadata": {
    "tags": []
   },
   "outputs": [],
   "source": [
    "jux.polarity.log_likelihood()"
   ]
  },
  {
   "cell_type": "code",
   "execution_count": null,
   "id": "143f77be-5aad-44c3-b840-a8d937384d09",
   "metadata": {},
   "outputs": [],
   "source": []
  }
 ],
 "metadata": {
  "kernelspec": {
   "display_name": "Python 3 (ipykernel)",
   "language": "python",
   "name": "python3"
  },
  "language_info": {
   "codemirror_mode": {
    "name": "ipython",
    "version": 3
   },
   "file_extension": ".py",
   "mimetype": "text/x-python",
   "name": "python",
   "nbconvert_exporter": "python",
   "pygments_lexer": "ipython3",
   "version": "3.9.6"
  }
 },
 "nbformat": 4,
 "nbformat_minor": 5
}
