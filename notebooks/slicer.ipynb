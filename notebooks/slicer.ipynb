{
 "cells": [
  {
   "cell_type": "code",
   "execution_count": null,
   "id": "8526388b-1c08-4f77-8938-00532281cf80",
   "metadata": {},
   "outputs": [],
   "source": [
    "# please run this cell first. (Click on this cell and click the play button ▶️ near the top of the notebook)\n",
    "# this just sets up the notebook correctly.\n",
    "import os\n",
    "while not 'juxtorpus' in os.listdir(os.getcwd()):\n",
    "    os.chdir(\"../\")\n",
    "assert 'juxtorpus' in os.listdir(os.getcwd()), \"Current working directory not at project root\"\n",
    "\"Successful. Please continue\""
   ]
  },
  {
   "cell_type": "markdown",
   "id": "85aef7b0-d1bb-4163-a6a6-4179be509b51",
   "metadata": {
    "tags": []
   },
   "source": [
    "# Corpus Slicer\n",
    "The Corpus slicer is a widget that allows you to Upload and build a Corpus. \n",
    "\n",
    "A Corpus requires a name for identification with (randomly assigned if not provided) before you build it.\n",
    "\n",
    "You can then slice the corpus as needed using the slicing widget. Each sliced subcorpus will also require a name."
   ]
  },
  {
   "cell_type": "markdown",
   "id": "8042cf17-bcf5-41ff-9ed7-4acc06f779af",
   "metadata": {
    "jp-MarkdownHeadingCollapsed": true,
    "tags": []
   },
   "source": [
    "## Manual Instructions"
   ]
  },
  {
   "cell_type": "markdown",
   "id": "3b5c7253-c8a5-4d82-8b6d-bddd68e3ed3a",
   "metadata": {
    "tags": []
   },
   "source": [
    "#### 1. Run the following cell and a widget will pop up.\n",
    "\n",
    "#### 2. Upload your Corpus, select it and click \"Confirm\".\n",
    "- Supported formats: .csv, .xlsx and .zip.<br>\n",
    "(For .zip, the zip must contain only .txt files and the only the file name will be automatically created as meta data.)\n",
    "\n",
    "#### 3. Tick One column as your 'document' column.\n",
    "#### 4. Untick the meta data columns that you don't want.\n",
    "#### 5. Select a data type for your meta data column. (This affects the subsequent slicing widget available)\n",
    "- You may also keep the data type as 'auto' and it'll try it's best to infer what data type it is.\n",
    "- If you have a 'datetime' column, please select the data type: 'datetime'. Infering datatypes usually doesn't work well with datetimes.\n",
    "#### 6. Type in a name and Click \"Confirm\" to build your Corpus.\n",
    "#### 7. Click the \"Hide\" button at the Top to hide the builder.\n",
    "#### 8. Tick the Corpus you've just created and the Slicer widget will pop down.\n",
    "#### 9. Select your meta data column on the right and conditions in the middle then click on \"Add Operation\" on the right.\n",
    "- You can add multiple operations on different meta data columns.\n",
    "#### 10. Tick/Untick the operations you would like to perform on your Corpus.\n",
    "#### 11. Enter a name for your Subcorpus and click on \"Slice\". (A new Corpus with your entered name will appear above the slicer widget)\n",
    "#### 12. Repeat from step 8 as needed.\n",
    "#### 13. Click on 'Download' on the column (most right) for the Corpus you want to download."
   ]
  },
  {
   "cell_type": "markdown",
   "id": "367b1022-4864-42e9-b46e-2d361f67e428",
   "metadata": {
    "tags": []
   },
   "source": [
    "## 🎥 Video Instructions\n",
    "👉 Click on the cell below and run the cell by clicking on the ▶️ button at the top of the notebook.\n",
    "\n",
    "‼ Before you do, please make sure you've also run the very first cell."
   ]
  },
  {
   "cell_type": "code",
   "execution_count": null,
   "id": "93346406-4ce3-468d-b896-82dc82b9392b",
   "metadata": {
    "tags": []
   },
   "outputs": [],
   "source": [
    "import ipywidgets as ipw\n",
    "path = \"./assets/slicer-demo.mov\"\n",
    "ipw.Video.from_file(path)"
   ]
  },
  {
   "cell_type": "markdown",
   "id": "8a2772fb-4da9-401f-b99b-3c43ef135942",
   "metadata": {
    "tags": []
   },
   "source": [
    "## Run this!"
   ]
  },
  {
   "cell_type": "code",
   "execution_count": null,
   "id": "a7265a7f-cfff-45e6-9f0a-53bad23296e5",
   "metadata": {},
   "outputs": [],
   "source": [
    "from juxtorpus.corpus.corpora import Corpora\n",
    "\n",
    "corpora = Corpora()\n",
    "corpora.widget()"
   ]
  },
  {
   "cell_type": "markdown",
   "id": "3a5123d5-e34b-45b7-b5fb-0976668d57a3",
   "metadata": {},
   "source": [
    "## Content Slicing\n",
    "\n",
    "The first cell is the only cell you need to modify. Once you're done, run the next cell.\n",
    "\n",
    "You can reconfigure the first cell and run the sequence again."
   ]
  },
  {
   "cell_type": "code",
   "execution_count": null,
   "id": "73c35008-cb76-4fc9-a845-f6296d846141",
   "metadata": {
    "tags": []
   },
   "outputs": [],
   "source": [
    "corpus_name = 'foamy-saluki'                      # replace with the corpus name you want to slice (retain the single quotes)\n",
    "sliced_corpus_name = 'sliced'                     # replace with a name you want to assign the sliced corpus.\n",
    "patterns = [\n",
    "    [{'ORTH': 'Exact-match'}],                                               # match this\n",
    "    [{'LOWER': 'case-insensitive'}],                                         # OR this\n",
    "    [{'LOWER': {'REGEX': r'(regex pattern)'}}],                              # OR this\n",
    "    [{'LOWER': 'match'}, {'LOWER': 'in'}, {'LOWER': 'sequence'}],            # OR this - multiword\n",
    "    [{'LOWER': 'match'}, {'ORTH': 'In-SeQuenCe'}],                           # OR this - multiword \n",
    "]"
   ]
  },
  {
   "cell_type": "code",
   "execution_count": null,
   "id": "3c781b74-492c-49d7-af6e-29fc793eacf2",
   "metadata": {
    "tags": []
   },
   "outputs": [],
   "source": [
    "import spacy\n",
    "from spacy.matcher import Matcher\n",
    "from juxtorpus.corpus.processors import process\n",
    "from juxtorpus.corpus import SpacyCorpus\n",
    "\n",
    "corpus = corpora[corpus_name]\n",
    "nlp = spacy.load('en_core_web_sm')\n",
    "if not isinstance(corpus, SpacyCorpus):\n",
    "    corpus = process(corpus, nlp=nlp)\n",
    "\n",
    "matcher = Matcher(nlp.vocab)\n",
    "matcher.add('patterns', patterns)\n",
    "\n",
    "sliced = corpus.slicer.filter_by_matcher(matcher)\n",
    "sliced.name = sliced_corpus_name\n",
    "\n",
    "corpora.add(sliced)\n",
    "corpora.widget()"
   ]
  },
  {
   "cell_type": "code",
   "execution_count": null,
   "id": "b27ef28c-e960-4a0f-a601-65ee18c3cc18",
   "metadata": {
    "tags": []
   },
   "outputs": [],
   "source": [
    "# run this cell to examine the documents in your sliced corpus\n",
    "# ⚠️ if you saw a warning message like 'sliced already exists. It renamed to sliced_', then this won't work directly.\n",
    "#  replace sliced_corpus_name with '<name it was renamed to>'\n",
    "\n",
    "for i, doc in enumerate(corpora[sliced_corpus_name].docs()):\n",
    "    print(f\"[{i}] {doc}\")\n",
    "    print(\"=\"*100)"
   ]
  },
  {
   "cell_type": "code",
   "execution_count": null,
   "id": "66681526-c0e0-4309-8d83-b37c99c60606",
   "metadata": {},
   "outputs": [],
   "source": []
  }
 ],
 "metadata": {
  "kernelspec": {
   "display_name": "Python 3 (ipykernel)",
   "language": "python",
   "name": "python3"
  },
  "language_info": {
   "codemirror_mode": {
    "name": "ipython",
    "version": 3
   },
   "file_extension": ".py",
   "mimetype": "text/x-python",
   "name": "python",
   "nbconvert_exporter": "python",
   "pygments_lexer": "ipython3",
   "version": "3.10.11"
  }
 },
 "nbformat": 4,
 "nbformat_minor": 5
}
