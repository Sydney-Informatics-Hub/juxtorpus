{
 "cells": [
  {
   "cell_type": "code",
   "execution_count": null,
   "id": "50bcce37-c748-4955-acfb-73265de7a33f",
   "metadata": {
    "tags": []
   },
   "outputs": [],
   "source": [
    "# Please first run this cell.\n",
    "import os\n",
    "while 'juxtorpus' not in os.listdir():\n",
    "    os.chdir('../')\n",
    "assert 'juxtorpus' in os.listdir(), f\"Working directory should be at juxtorpus. But at {os.getcwd()}\"\n",
    "f\"Working directory: {os.getcwd()}\""
   ]
  },
  {
   "cell_type": "markdown",
   "id": "16ac08f1-59fb-483b-9ddc-73831981eb4d",
   "metadata": {},
   "source": [
    "## Video Instructions"
   ]
  },
  {
   "cell_type": "code",
   "execution_count": null,
   "id": "e454d295-3e57-495e-ba8c-502cb474665c",
   "metadata": {},
   "outputs": [],
   "source": [
    "import ipywidgets as ipw\n",
    "ipw.Video.from_file(\"./assets/slicer-demo.mov\")"
   ]
  },
  {
   "cell_type": "markdown",
   "id": "0cc998e0-0616-493e-bd84-79e7102d5c08",
   "metadata": {},
   "source": [
    "# Upload a Corpus and Slice as needed"
   ]
  },
  {
   "cell_type": "code",
   "execution_count": null,
   "id": "c76d0fc6-50a5-4fbb-bd54-ba255f757bef",
   "metadata": {},
   "outputs": [],
   "source": [
    "# import necessary modules\n",
    "from juxtorpus.corpus import Corpora\n",
    "from juxtorpus import Jux\n",
    "\n",
    "# wordcloud warning issue\n",
    "import warnings\n",
    "warnings.filterwarnings('ignore')"
   ]
  },
  {
   "cell_type": "code",
   "execution_count": null,
   "id": "7d17ee3e-c2e9-4297-aa56-693ef49948c1",
   "metadata": {
    "tags": []
   },
   "outputs": [],
   "source": [
    "corpora = Corpora()\n",
    "corpora.widget()"
   ]
  },
  {
   "cell_type": "code",
   "execution_count": null,
   "id": "015eaecf-c4ee-433e-b322-88332c19e5d0",
   "metadata": {
    "tags": []
   },
   "outputs": [],
   "source": [
    "jux = Jux(corpora['<corpus name>'], corpora['<corpus name>'])\n",
    "\n",
    "jux.polarity.wordcloud(metric='tf')"
   ]
  },
  {
   "cell_type": "code",
   "execution_count": null,
   "id": "a2eb13a0-0de7-4de6-8481-20d2c1a67402",
   "metadata": {},
   "outputs": [],
   "source": []
  }
 ],
 "metadata": {
  "kernelspec": {
   "display_name": "Python 3 (ipykernel)",
   "language": "python",
   "name": "python3"
  },
  "language_info": {
   "codemirror_mode": {
    "name": "ipython",
    "version": 3
   },
   "file_extension": ".py",
   "mimetype": "text/x-python",
   "name": "python",
   "nbconvert_exporter": "python",
   "pygments_lexer": "ipython3",
   "version": "3.10.11"
  }
 },
 "nbformat": 4,
 "nbformat_minor": 5
}
