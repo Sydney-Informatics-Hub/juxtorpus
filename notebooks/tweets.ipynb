{
 "cells": [
  {
   "cell_type": "code",
   "execution_count": 1,
   "metadata": {
    "tags": []
   },
   "outputs": [
    {
     "data": {
      "text/plain": [
       "'Working directory: /Users/hcha9747/workspace/juxtorpus'"
      ]
     },
     "execution_count": 1,
     "metadata": {},
     "output_type": "execute_result"
    }
   ],
   "source": [
    "import os\n",
    "if  not 'juxtorpus' in os.listdir():\n",
    "    os.chdir('../')\n",
    "assert 'juxtorpus' in os.listdir(), f\"Working directory should be at juxtorpus. But at {os.getcwd()}\"\n",
    "f\"Working directory: {os.getcwd()}\""
   ]
  },
  {
   "cell_type": "code",
   "execution_count": 2,
   "metadata": {},
   "outputs": [],
   "source": [
    "import colorlog\n",
    "from juxtorpus import rlogger\n",
    "\n",
    "rlogger.setLevel(colorlog.INFO)"
   ]
  },
  {
   "cell_type": "code",
   "execution_count": 3,
   "metadata": {
    "collapsed": false,
    "jupyter": {
     "outputs_hidden": false
    }
   },
   "outputs": [
    {
     "name": "stderr",
     "output_type": "stream",
     "text": [
      "\u001b[32m[INFO] You are using a multi-columned datetime. These columns will combined into a single 'datetime' meta.\u001b[0m\n"
     ]
    },
    {
     "data": {
      "text/html": [
       "<div>\n",
       "<style scoped>\n",
       "    .dataframe tbody tr th:only-of-type {\n",
       "        vertical-align: middle;\n",
       "    }\n",
       "\n",
       "    .dataframe tbody tr th {\n",
       "        vertical-align: top;\n",
       "    }\n",
       "\n",
       "    .dataframe thead th {\n",
       "        text-align: right;\n",
       "    }\n",
       "</style>\n",
       "<table border=\"1\" class=\"dataframe\">\n",
       "  <thead>\n",
       "    <tr style=\"text-align: right;\">\n",
       "      <th></th>\n",
       "      <th>Add</th>\n",
       "    </tr>\n",
       "    <tr>\n",
       "      <th>All Columns</th>\n",
       "      <th></th>\n",
       "    </tr>\n",
       "  </thead>\n",
       "  <tbody>\n",
       "    <tr>\n",
       "      <th>year</th>\n",
       "      <td>True</td>\n",
       "    </tr>\n",
       "    <tr>\n",
       "      <th>month</th>\n",
       "      <td>True</td>\n",
       "    </tr>\n",
       "    <tr>\n",
       "      <th>tweet_lga</th>\n",
       "      <td>True</td>\n",
       "    </tr>\n",
       "    <tr>\n",
       "      <th>year_month_day</th>\n",
       "      <td>True</td>\n",
       "    </tr>\n",
       "    <tr>\n",
       "      <th>day</th>\n",
       "      <td>True</td>\n",
       "    </tr>\n",
       "    <tr>\n",
       "      <th>lon_mid</th>\n",
       "      <td>False</td>\n",
       "    </tr>\n",
       "    <tr>\n",
       "      <th>screen_name</th>\n",
       "      <td>False</td>\n",
       "    </tr>\n",
       "    <tr>\n",
       "      <th>tweet_id</th>\n",
       "      <td>False</td>\n",
       "    </tr>\n",
       "    <tr>\n",
       "      <th>retweet</th>\n",
       "      <td>False</td>\n",
       "    </tr>\n",
       "    <tr>\n",
       "      <th>processed_text</th>\n",
       "      <td>False</td>\n",
       "    </tr>\n",
       "    <tr>\n",
       "      <th>lat_mid</th>\n",
       "      <td>False</td>\n",
       "    </tr>\n",
       "    <tr>\n",
       "      <th>lga_code_2020</th>\n",
       "      <td>False</td>\n",
       "    </tr>\n",
       "    <tr>\n",
       "      <th>lga_name_2020</th>\n",
       "      <td>False</td>\n",
       "    </tr>\n",
       "    <tr>\n",
       "      <th>state_code_2016</th>\n",
       "      <td>False</td>\n",
       "    </tr>\n",
       "    <tr>\n",
       "      <th>state_name_2016</th>\n",
       "      <td>False</td>\n",
       "    </tr>\n",
       "    <tr>\n",
       "      <th>remoteness</th>\n",
       "      <td>False</td>\n",
       "    </tr>\n",
       "    <tr>\n",
       "      <th>remote_level</th>\n",
       "      <td>False</td>\n",
       "    </tr>\n",
       "    <tr>\n",
       "      <th>geometry</th>\n",
       "      <td>False</td>\n",
       "    </tr>\n",
       "  </tbody>\n",
       "</table>\n",
       "</div>"
      ],
      "text/plain": [
       "                   Add\n",
       "All Columns           \n",
       "year              True\n",
       "month             True\n",
       "tweet_lga         True\n",
       "year_month_day    True\n",
       "day               True\n",
       "lon_mid          False\n",
       "screen_name      False\n",
       "tweet_id         False\n",
       "retweet          False\n",
       "processed_text   False\n",
       "lat_mid          False\n",
       "lga_code_2020    False\n",
       "lga_name_2020    False\n",
       "state_code_2016  False\n",
       "state_name_2016  False\n",
       "remoteness       False\n",
       "remote_level     False\n",
       "geometry         False"
      ]
     },
     "metadata": {},
     "output_type": "display_data"
    }
   ],
   "source": [
    "from juxtorpus.corpus import Corpus, CorpusBuilder\n",
    "\n",
    "import re\n",
    "\n",
    "tweet_wrapper = re.compile(r'([ ]?<[/]?TWEET>[ ]?)')\n",
    "\n",
    "builder = CorpusBuilder('./tests/assets/Geolocated_places_climate_with_LGA_and_remoteness_0.csv')\n",
    "builder.set_text_column('processed_text')\n",
    "# builder.set_nrows(None)\n",
    "builder.set_preprocessors([lambda text: tweet_wrapper.sub('', text)])\n",
    "builder.add_metas('tweet_lga')\n",
    "builder.add_metas(['year', 'month', 'day'], dtypes='datetime')\n",
    "builder.add_metas('year_month_day', dtypes='datetime')    # this replaces year_month_day - only one column may be datetime.\n",
    "display(builder.show_columns())\n",
    "corpus = builder.build()\n",
    "corpus.summary()"
   ]
  },
  {
   "cell_type": "code",
   "execution_count": 4,
   "metadata": {},
   "outputs": [
    {
     "data": {
      "text/plain": [
       "frozendict.frozendict({'tweet_lga': <SeriesMeta [Id: tweet_lga]>, 'datetime': <SeriesMeta [Id: datetime]>})"
      ]
     },
     "execution_count": 4,
     "metadata": {},
     "output_type": "execute_result"
    }
   ],
   "source": [
    "corpus.metas()"
   ]
  },
  {
   "cell_type": "code",
   "execution_count": 5,
   "metadata": {},
   "outputs": [
    {
     "data": {
      "text/plain": [
       "count                            10000\n",
       "mean     2020-06-08 05:05:51.360000256\n",
       "min                2019-11-11 00:00:00\n",
       "25%                2019-12-22 00:00:00\n",
       "50%                2020-02-03 00:00:00\n",
       "75%                2020-11-08 00:00:00\n",
       "max                2022-04-12 00:00:00\n",
       "Name: datetime, dtype: object"
      ]
     },
     "execution_count": 5,
     "metadata": {},
     "output_type": "execute_result"
    }
   ],
   "source": [
    "corpus.get_meta('datetime').series().describe(datetime_is_numeric=True)"
   ]
  },
  {
   "cell_type": "code",
   "execution_count": 6,
   "metadata": {
    "collapsed": false,
    "jupyter": {
     "outputs_hidden": false
    }
   },
   "outputs": [
    {
     "data": {
      "text/plain": [
       "Number of words           7815\n",
       "Number of unique words    2090\n",
       "Number of documents        549\n",
       "Name: frequency, dtype: uint64"
      ]
     },
     "execution_count": 6,
     "metadata": {},
     "output_type": "execute_result"
    }
   ],
   "source": [
    "from juxtorpus.corpus import CorpusSlicer\n",
    "slicer = CorpusSlicer(corpus)\n",
    "corpus = slicer.filter_by_item('tweet_lga', ['Sunshine Coast (R)', 'Broken Hill (C)'])\n",
    "corpus.summary()   # only with Sunshine Coast & Broken Hill"
   ]
  },
  {
   "cell_type": "code",
   "execution_count": 7,
   "metadata": {},
   "outputs": [
    {
     "data": {
      "text/plain": [
       "dict_keys(['tweet_lga', 'datetime'])"
      ]
     },
     "execution_count": 7,
     "metadata": {},
     "output_type": "execute_result"
    }
   ],
   "source": [
    "corpus.metas().keys()"
   ]
  },
  {
   "cell_type": "code",
   "execution_count": 8,
   "metadata": {},
   "outputs": [
    {
     "data": {
      "text/plain": [
       "[('tok2vec', <spacy.pipeline.tok2vec.Tok2Vec at 0x14ffabfa0>),\n",
       " ('tagger', <spacy.pipeline.tagger.Tagger at 0x14ffabe20>),\n",
       " ('parser', <spacy.pipeline.dep_parser.DependencyParser at 0x14ffa49e0>),\n",
       " ('attribute_ruler',\n",
       "  <spacy.pipeline.attributeruler.AttributeRuler at 0x16914a2c0>),\n",
       " ('lemmatizer', <spacy.lang.en.lemmatizer.EnglishLemmatizer at 0x16915b1c0>),\n",
       " ('ner', <spacy.pipeline.ner.EntityRecognizer at 0x14ffa4ba0>),\n",
       " ('extract_hashtags',\n",
       "  <juxtorpus.corpus.processors.components.hashtags.HashtagComponent at 0x14ddf03d0>),\n",
       " ('extract_mentions',\n",
       "  <juxtorpus.corpus.processors.components.mentions.MentionsComp at 0x1691185b0>),\n",
       " ('extract_sentiments',\n",
       "  <juxtorpus.corpus.processors.components.sentiment.SentimentComp at 0x1693d8760>)]"
      ]
     },
     "execution_count": 8,
     "metadata": {},
     "output_type": "execute_result"
    }
   ],
   "source": [
    "# set up spacy nlp pipeline\n",
    "from juxtorpus.corpus.processors import SpacyProcessor\n",
    "import spacy\n",
    "\n",
    "import transformers\n",
    "transformers.logging.set_verbosity_error()\n",
    "\n",
    "nlp = spacy.load('en_core_web_sm')\n",
    "nlp.add_pipe('extract_hashtags')\n",
    "nlp.add_pipe('extract_mentions')\n",
    "nlp.add_pipe('extract_sentiments')\n",
    "# nlp.remove_pipe('extract_sentiments')\n",
    "nlp.pipeline"
   ]
  },
  {
   "cell_type": "code",
   "execution_count": 9,
   "metadata": {
    "collapsed": false,
    "jupyter": {
     "outputs_hidden": false
    }
   },
   "outputs": [
    {
     "name": "stderr",
     "output_type": "stream",
     "text": [
      "\u001b[32m[INFO] Processing corpus of 549 documents...\u001b[0m\n"
     ]
    },
    {
     "data": {
      "application/vnd.jupyter.widget-view+json": {
       "model_id": "124086290cb64edbb223ee08ee34232e",
       "version_major": 2,
       "version_minor": 0
      },
      "text/plain": [
       "0it [00:00, ?it/s]"
      ]
     },
     "metadata": {},
     "output_type": "display_data"
    },
    {
     "name": "stderr",
     "output_type": "stream",
     "text": [
      "\u001b[32m[INFO] Loading sentiment model: cardiffnlp/twitter-roberta-base-sentiment-latest... Please wait.\u001b[0m\n",
      "\u001b[32m[INFO] Successfully loaded.\u001b[0m\n",
      "\u001b[32m[INFO] Done.\u001b[0m\n"
     ]
    },
    {
     "data": {
      "text/plain": [
       "dict_keys(['tweet_lga', 'datetime', 'ner', 'extract_hashtags', 'extract_mentions', 'extract_sentiments'])"
      ]
     },
     "execution_count": 9,
     "metadata": {},
     "output_type": "execute_result"
    }
   ],
   "source": [
    "# Let's process this subset\n",
    "spacy_processor = SpacyProcessor(nlp)\n",
    "corpus = spacy_processor.run(corpus)\n",
    "\n",
    "corpus.metas().keys()"
   ]
  },
  {
   "cell_type": "code",
   "execution_count": 10,
   "metadata": {},
   "outputs": [
    {
     "data": {
      "text/plain": [
       "6156                                    (@Jessroebot, \\n)\n",
       "6157             (Always, have, and, always, will, !, \\n)\n",
       "6158    (Rationalising, catastrophes, is, maladaptive,...\n",
       "6159    (Eileen, ,, climate, change, produces, extreme...\n",
       "6160    (Stop, rationalising, Eileen, !, FACE, REALITY...\n",
       "Name: text, dtype: object"
      ]
     },
     "execution_count": 10,
     "metadata": {},
     "output_type": "execute_result"
    }
   ],
   "source": [
    "corpus.texts()[:5]"
   ]
  },
  {
   "cell_type": "code",
   "execution_count": 11,
   "metadata": {},
   "outputs": [
    {
     "data": {
      "text/plain": [
       "('Always have and always will!\\n',\n",
       " {'Positive': 0.8637, 'Neutral': 0.1212, 'Negative': 0.0151})"
      ]
     },
     "execution_count": 11,
     "metadata": {},
     "output_type": "execute_result"
    }
   ],
   "source": [
    "doc_iter = iter(corpus)\n",
    "next(doc_iter)\n",
    "doc = next(doc_iter)\n",
    "doc.text, doc._.sentiment"
   ]
  },
  {
   "cell_type": "code",
   "execution_count": 12,
   "metadata": {},
   "outputs": [
    {
     "data": {
      "text/plain": [
       "'The Top HSC STUDENT WAS A CLIMATE STRIKER! @ScottMorrisonMP @GladysB\\n'"
      ]
     },
     "execution_count": 12,
     "metadata": {},
     "output_type": "execute_result"
    }
   ],
   "source": [
    "mentions = corpus.get_meta('extract_mentions')\n",
    "mentions.head(25).iloc[13].text"
   ]
  },
  {
   "cell_type": "code",
   "execution_count": 13,
   "metadata": {},
   "outputs": [
    {
     "data": {
      "text/plain": [
       "10"
      ]
     },
     "execution_count": 13,
     "metadata": {},
     "output_type": "execute_result"
    }
   ],
   "source": [
    "political_figures = CorpusSlicer(corpus).filter_by_item('extract_mentions', ['@ScottMorrisonMP', '@AdamBandt'])\n",
    "len(political_figures)"
   ]
  },
  {
   "cell_type": "code",
   "execution_count": 14,
   "metadata": {},
   "outputs": [
    {
     "data": {
      "text/plain": [
       "(4, 5, 1)"
      ]
     },
     "execution_count": 14,
     "metadata": {},
     "output_type": "execute_result"
    }
   ],
   "source": [
    "slicer = CorpusSlicer(political_figures)\n",
    "\n",
    "positives = slicer.filter_by_condition('extract_sentiments', lambda sent_dict: max(sent_dict, key=sent_dict.get) == 'Positive')\n",
    "neutrals = slicer.filter_by_condition('extract_sentiments', lambda sent_dict: max(sent_dict, key=sent_dict.get) == 'Neutral')\n",
    "negatives = slicer.filter_by_condition('extract_sentiments', lambda sent_dict: max(sent_dict, key=sent_dict.get) == 'Negative')\n",
    "len(positives), len(neutrals), len(negatives)"
   ]
  },
  {
   "cell_type": "code",
   "execution_count": 15,
   "metadata": {},
   "outputs": [
    {
     "name": "stdout",
     "output_type": "stream",
     "text": [
      "0 The Top HSC STUDENT WAS A CLIMATE STRIKER! @ScottMorrisonMP @GladysB\n",
      "\n",
      "1 THIS IS GROUND-BREAKING! IT GIVES US THE LEGAL TEETH WE NEED TO FIGHT THE FOSSIL FUEL INDUSTRY!! @GetUp @Greenpeace @RichardDiNatale @AdamBandt @ShoebridgeMLC @zalisteggall @drkerrynphelps @adamajacoby @DLATPsocialjust\n",
      "\n",
      "2 Think outside the square Les! Think GREEN COALITION! A Party of people who promise to mitigate climate change and end corruption!! @AdamBandt @MGliksmanMDPhD @_Oliver_Yates @adamajacoby @drkerrynphelps @simonahac\n",
      "\n",
      "----------------------------------------------------------------------------------------------------\n",
      "0 @RichardDiNatale @AdamBandt @sarahinthesen8 @larissawaters\n",
      "\n",
      "1 @theprojecttv @Channel9 @Channel7 @abcnews @newslimited @GladysB @AlboMP @ScottMorrisonMP\n",
      "\n",
      "2 @ScottMorrisonMP\n",
      "\n",
      "----------------------------------------------------------------------------------------------------\n",
      "0 NEWS OF OUR LACK OF LEADERSHIP HAS GONE GLOBAL @ScottMorrisonMP\n",
      "\n"
     ]
    }
   ],
   "source": [
    "def preview(corpus, top=3):\n",
    "    for i, doc in enumerate(corpus):\n",
    "        if i >= top:\n",
    "            break\n",
    "        print(i, doc)\n",
    "\n",
    "preview(positives); print(\"-\"*100)\n",
    "preview(neutrals); print(\"-\"*100)\n",
    "preview(negatives)"
   ]
  },
  {
   "cell_type": "code",
   "execution_count": 16,
   "metadata": {},
   "outputs": [
    {
     "data": {
      "text/plain": [
       "(1, 3)"
      ]
     },
     "execution_count": 16,
     "metadata": {},
     "output_type": "execute_result"
    }
   ],
   "source": [
    "positive_slicer = CorpusSlicer(positives)\n",
    "pos_morrison = positive_slicer.filter_by_item('extract_mentions', '@ScottMorrisonMP')\n",
    "pos_bandt = positive_slicer.filter_by_item('extract_mentions', '@AdamBandt')\n",
    "\n",
    "len(pos_morrison), len(pos_bandt)"
   ]
  },
  {
   "cell_type": "code",
   "execution_count": 17,
   "metadata": {},
   "outputs": [
    {
     "name": "stdout",
     "output_type": "stream",
     "text": [
      "0 The Top HSC STUDENT WAS A CLIMATE STRIKER! @ScottMorrisonMP @GladysB\n",
      "\n",
      "0 THIS IS GROUND-BREAKING! IT GIVES US THE LEGAL TEETH WE NEED TO FIGHT THE FOSSIL FUEL INDUSTRY!! @GetUp @Greenpeace @RichardDiNatale @AdamBandt @ShoebridgeMLC @zalisteggall @drkerrynphelps @adamajacoby @DLATPsocialjust\n",
      "\n",
      "1 Think outside the square Les! Think GREEN COALITION! A Party of people who promise to mitigate climate change and end corruption!! @AdamBandt @MGliksmanMDPhD @_Oliver_Yates @adamajacoby @drkerrynphelps @simonahac\n",
      "\n",
      "2 The answer? Renationalise the banks and utilities! Let's get THE GOOD TIMES BACK!!! @AdamBandt\n",
      "\n"
     ]
    }
   ],
   "source": [
    "preview(pos_morrison)\n",
    "preview(pos_bandt)"
   ]
  },
  {
   "cell_type": "code",
   "execution_count": 18,
   "metadata": {},
   "outputs": [
    {
     "data": {
      "text/html": [
       "<div>\n",
       "<style scoped>\n",
       "    .dataframe tbody tr th:only-of-type {\n",
       "        vertical-align: middle;\n",
       "    }\n",
       "\n",
       "    .dataframe tbody tr th {\n",
       "        vertical-align: top;\n",
       "    }\n",
       "\n",
       "    .dataframe thead th {\n",
       "        text-align: right;\n",
       "    }\n",
       "</style>\n",
       "<table border=\"1\" class=\"dataframe\">\n",
       "  <thead>\n",
       "    <tr style=\"text-align: right;\">\n",
       "      <th></th>\n",
       "      <th>corpus A</th>\n",
       "      <th>corpus B</th>\n",
       "      <th>diff</th>\n",
       "    </tr>\n",
       "  </thead>\n",
       "  <tbody>\n",
       "    <tr>\n",
       "      <th>Number of words</th>\n",
       "      <td>0</td>\n",
       "      <td>7430</td>\n",
       "      <td>18446744073709544186</td>\n",
       "    </tr>\n",
       "    <tr>\n",
       "      <th>Number of unique words</th>\n",
       "      <td>0</td>\n",
       "      <td>1976</td>\n",
       "      <td>18446744073709549640</td>\n",
       "    </tr>\n",
       "    <tr>\n",
       "      <th>Number of documents</th>\n",
       "      <td>0</td>\n",
       "      <td>549</td>\n",
       "      <td>18446744073709551067</td>\n",
       "    </tr>\n",
       "  </tbody>\n",
       "</table>\n",
       "</div>"
      ],
      "text/plain": [
       "                        corpus A  corpus B                  diff\n",
       "Number of words                0      7430  18446744073709544186\n",
       "Number of unique words         0      1976  18446744073709549640\n",
       "Number of documents            0       549  18446744073709551067"
      ]
     },
     "execution_count": 18,
     "metadata": {},
     "output_type": "execute_result"
    }
   ],
   "source": [
    "slicer = CorpusSlicer(corpus)\n",
    "\n",
    "A = slicer.filter_by_item('tweet_lga', 'Sunshine Coast (R)')\n",
    "B = slicer.filter_by_item('tweet_lga', 'Broken Hill (C)')\n",
    "\n",
    "import pandas as pd\n",
    "summ = pd.concat([A.summary().rename(\"corpus A\"),(B.summary().rename(\"corpus B\"))], axis=1)\n",
    "summ['diff'] = summ['corpus A'] - summ['corpus B']\n",
    "summ"
   ]
  },
  {
   "cell_type": "code",
   "execution_count": 19,
   "metadata": {},
   "outputs": [
    {
     "name": "stderr",
     "output_type": "stream",
     "text": [
      "\u001b[33m[WARNING] Plotting 30 words may lag as there is a lot to render. Try a number < 25 with set_top()\u001b[0m\n"
     ]
    },
    {
     "data": {
      "image/png": "[encoded data removed]",
      "text/plain": [
       "<Figure size 1152x720 with 2 Axes>"
      ]
     },
     "metadata": {
      "needs_background": "light"
     },
     "output_type": "display_data"
    }
   ],
   "source": [
    "from juxtorpus.features.zipf import Zipf\n",
    "from spacy.lang.en.stop_words import STOP_WORDS\n",
    "\n",
    "A_zipf = Zipf(A).set_top(30)\n",
    "with A_zipf.remove_words(STOP_WORDS) as A_zipff:\n",
    "    A_zipff.render()"
   ]
  },
  {
   "cell_type": "code",
   "execution_count": 20,
   "metadata": {},
   "outputs": [
    {
     "name": "stderr",
     "output_type": "stream",
     "text": [
      "\u001b[33m[WARNING] Plotting 30 words may lag as there is a lot to render. Try a number < 25 with set_top()\u001b[0m\n"
     ]
    },
    {
     "data": {
      "image/png": "[encoded data removed]",
      "text/plain": [
       "<Figure size 1152x720 with 2 Axes>"
      ]
     },
     "metadata": {
      "needs_background": "light"
     },
     "output_type": "display_data"
    }
   ],
   "source": [
    "B_zipf = Zipf(B).set_top(30)\n",
    "with B_zipf.remove_words(STOP_WORDS) as B_zipff:\n",
    "    B_zipff.render()"
   ]
  },
  {
   "cell_type": "markdown",
   "metadata": {
    "tags": []
   },
   "source": [
    "# Keywords\n",
    "\n",
    "Keywords (1-gram) scores are based on term frequencies.\n",
    "The equation is...\n",
    "1. term_freq\n",
    "2. if normalised = term_freq / num_words_in_corpus\n",
    "3. if log = log(term_freq) / log(num_words_in_corpus)"
   ]
  },
  {
   "cell_type": "code",
   "execution_count": null,
   "metadata": {},
   "outputs": [],
   "source": [
    "from juxtorpus.features.keywords import TFKeywords\n",
    "# A = Sunshine Coast\n",
    "# B = Broken Hill\n",
    "\n",
    "# climate climate climate climate\n",
    "A_tf = TFKeywords(A).freq_threshold(2).normalise(True).log_freqs(False)\n",
    "B_tf = TFKeywords(B).freq_threshold(2).normalise(True).log_freqs(False)\n",
    "list(zip(A_tf.extracted()[:10], B_tf.extracted()[:10]))"
   ]
  },
  {
   "cell_type": "markdown",
   "metadata": {},
   "source": [
    "## Polarity Word Cloud\n",
    "\n",
    "There are 2 parts to this word cloud. \n",
    "1. The colour of the words show the polarity towards either corpus. \n",
    "\n",
    "**(Here RED = Sunshine Coast, BLUE = Broken Hill)**\n",
    "\n",
    "2. The size of the words are highly polarised AND make frequent words that are in **BOTH** corpus smaller.\n",
    "\n",
    "the score is calculated as abs(relative)/summed."
   ]
  },
  {
   "cell_type": "code",
   "execution_count": null,
   "metadata": {},
   "outputs": [],
   "source": [
    "from juxtorpus.viz.polarity_wordcloud import PolarityWordCloud\n",
    "\n",
    "pwc = PolarityWordCloud.from_(A_tf.extracted(), B_tf.extracted())\n",
    "pwc.top(40).gradate('red', 'blue').render(20, 32)"
   ]
  },
  {
   "cell_type": "code",
   "execution_count": null,
   "metadata": {},
   "outputs": [],
   "source": [
    "pwc._df.head(40).sort_values(by='relative_div_summed_', ascending=False)"
   ]
  },
  {
   "cell_type": "code",
   "execution_count": null,
   "metadata": {},
   "outputs": [],
   "source": [
    "pwc._df.head(40).sort_values(by='relative_div_summed_', ascending=False).summed_.plot.bar(figsize=(16, 8))"
   ]
  },
  {
   "cell_type": "code",
   "execution_count": null,
   "metadata": {},
   "outputs": [],
   "source": [
    "pwc._df.head(40)['summed_'].plot()"
   ]
  },
  {
   "cell_type": "code",
   "execution_count": null,
   "metadata": {},
   "outputs": [],
   "source": [
    "pwc._df.head(40)['score_A'].plot()"
   ]
  },
  {
   "cell_type": "code",
   "execution_count": null,
   "metadata": {},
   "outputs": [],
   "source": [
    "corpus.get_meta('extract_hashtags')"
   ]
  },
  {
   "cell_type": "code",
   "execution_count": null,
   "metadata": {},
   "outputs": [],
   "source": []
  }
 ],
 "metadata": {
  "kernelspec": {
   "display_name": "Python 3 (ipykernel)",
   "language": "python",
   "name": "python3"
  },
  "language_info": {
   "codemirror_mode": {
    "name": "ipython",
    "version": 3
   },
   "file_extension": ".py",
   "mimetype": "text/x-python",
   "name": "python",
   "nbconvert_exporter": "python",
   "pygments_lexer": "ipython3",
   "version": "3.9.13"
  }
 },
 "nbformat": 4,
 "nbformat_minor": 4
}
