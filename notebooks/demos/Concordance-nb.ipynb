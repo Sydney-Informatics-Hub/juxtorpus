{
 "cells": [
  {
   "cell_type": "markdown",
   "id": "60689345-dcdb-42e7-b9cc-49a7d64b274e",
   "metadata": {},
   "source": [
    "## Concordance Tool Test Bed with Corpus Builder"
   ]
  },
  {
   "cell_type": "code",
   "execution_count": 1,
   "id": "36dd91fc-1725-460f-aa62-4069666bc129",
   "metadata": {},
   "outputs": [],
   "source": [
    "import os\n",
    "while 'juxtorpus' not in os.listdir():\n",
    "    os.chdir('../')\n",
    "assert 'juxtorpus' in os.listdir(), f\"Working directory should be at juxtorpus. But at {os.getcwd()}\"\n",
    "f\"Working directory: {os.getcwd()}\"\n",
    "\n",
    "from juxtorpus.corpus import Corpus\n",
    "from juxtorpus.corpus.corpora import Corpora\n",
    "\n",
    "import warnings\n",
    "warnings.filterwarnings('ignore')\n",
    "\n",
    "from atap_widgets.concordance import ConcordanceTable, ConcordanceWidget, ConcordanceLoader"
   ]
  },
  {
   "cell_type": "markdown",
   "id": "f4293ef8-f168-47d5-a026-6a8c74e7506f",
   "metadata": {},
   "source": [
    "### Upload your data and build your Corpus in the following cell\n",
    "### Slice the corpus into smaller chunks before loading them into Corcondance Tool\n",
    "### Loading a large corpus into Concordance Tool could be quite slow (50k tweets ~ 2 minutes)"
   ]
  },
  {
   "cell_type": "code",
   "execution_count": 2,
   "id": "15437529-f979-4036-8a88-0b65925c6674",
   "metadata": {},
   "outputs": [
    {
     "data": {
      "application/vnd.jupyter.widget-view+json": {
       "model_id": "ca28223de5794672ae5962cc4d03bbcb",
       "version_major": 2,
       "version_minor": 0
      },
      "text/plain": [
       "VBox(children=(Button(description='Show Builder', style=ButtonStyle()), Label(value='', layout=Layout(height='…"
      ]
     },
     "execution_count": 2,
     "metadata": {},
     "output_type": "execute_result"
    }
   ],
   "source": [
    "corpora = Corpora()\n",
    "corpora.widget()"
   ]
  },
  {
   "cell_type": "markdown",
   "id": "d7f977be-41cc-4cbf-b994-114868df1708",
   "metadata": {},
   "source": [
    "### Change the *corpus_name* in the following cell to the corpus name you like to run Concordance on, then execute the cell."
   ]
  },
  {
   "cell_type": "code",
   "execution_count": 4,
   "id": "a7848b2d-317e-49e6-8368-3cdbf03107f6",
   "metadata": {},
   "outputs": [
    {
     "data": {
      "application/vnd.jupyter.widget-view+json": {
       "model_id": "26d5cd5ef8ad4af19f5fe9668768f294",
       "version_major": 2,
       "version_minor": 0
      },
      "text/plain": [
       "VBox(children=(Text(value='', description='Keyword(s):'), HBox(children=(Checkbox(value=False, description='En…"
      ]
     },
     "metadata": {},
     "output_type": "display_data"
    },
    {
     "data": {
      "text/plain": [
       "<atap_widgets.concordance.ConcordanceLoaderWidget at 0x179b2db10>"
      ]
     },
     "execution_count": 4,
     "metadata": {},
     "output_type": "execute_result"
    }
   ],
   "source": [
    "corpus_name = 'test'\n",
    "\n",
    "DataCSV = ConcordanceLoader(type='corpus', df_input=corpora[corpus_name])\n",
    "DataCSV.show()"
   ]
  },
  {
   "cell_type": "code",
   "execution_count": null,
   "id": "2de89c7e-9a24-4241-86cb-c199dc8bb402",
   "metadata": {},
   "outputs": [],
   "source": []
  }
 ],
 "metadata": {
  "kernelspec": {
   "display_name": "Python 3 (ipykernel)",
   "language": "python",
   "name": "python3"
  },
  "language_info": {
   "codemirror_mode": {
    "name": "ipython",
    "version": 3
   },
   "file_extension": ".py",
   "mimetype": "text/x-python",
   "name": "python",
   "nbconvert_exporter": "python",
   "pygments_lexer": "ipython3",
   "version": "3.10.10"
  }
 },
 "nbformat": 4,
 "nbformat_minor": 5
}
