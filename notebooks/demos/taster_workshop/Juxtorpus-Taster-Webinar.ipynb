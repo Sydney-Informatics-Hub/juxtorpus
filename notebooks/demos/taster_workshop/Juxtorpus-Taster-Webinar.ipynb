{
 "cells": [
  {
   "cell_type": "markdown",
   "id": "b317acfb-9ab6-4a9a-8517-98798b447f07",
   "metadata": {},
   "source": [
    "## A Taste to the Juxtorpus - ATAP Webinar 25/May/2023\n",
    "\n",
    "#### Dr Chao Sun  \n",
    "  \n",
    "  \n",
    "\n",
    "\n",
    "<span style=\"font-size:16px;\">\n",
    "\n",
    "This notebook introduces and showcases some usages of the ATAP Juxtorpus tool, which includes two major components: **Corpus** and **Jux**. \n",
    "The **Corpus** package enables the user to upload, select and build their texts as a Corpus object. The Corpus can then be explored and sliced flexibly into sub-corpus based on various metadata or text patterns within the contents. Several out-of-box tools and visualisations come with the Corpus object so that the user can quickly explore the Corpus and sub-Corpus in a unified manner, and more functions will be developed for similar purposes.\n",
    "\n",
    "The **Jux** package, on the other hand, is a more straightfoward tool designed to compare and identify the contrasts between a pair of corpora. Although this sounds like a simple task, when this is conducted on corpora that are creatively refined, and by using different metrics of comparison, a lot of insights can be revealed from this comparison.\n",
    "\n",
    "Besides the two new packages to the ATAP text analytic tool suite, this notebook will also demostrate how other ATAP tools can be used together with the corpus in order to create a reuseable workflow for your research, these include [Concordance Tool](), [Quotations Tool](), [Keyword Analysis](), and the yet to be integrated [_Semantic Tagger_](), [_Text Similarity Scorer_](), [_Discursis_]() etc.\n",
    "\n",
    "Interactive Widgets were developed for a few common functions to make the operations easier for users who are not completely confident on complicated codes, however not all functionalities have been implemented as widgets.\n",
    "</span>\n",
    "<div class=\"alert alert-block alert-warning\" style=\"font-size:14px;\">\n",
    "<b>User guide to using a Jupyter Notebook</b> \n",
    "\n",
    "If you are new to Jupyter Notebook, feel free to take a quick look at [this user guide](https://github.com/Australian-Text-Analytics-Platform/semantic-tagger/blob/main/documents/jupyter-notebook-guide.pdf) for basic information on how to use a notebook.\n",
    "</div>\n",
    "\n",
    "\n",
    "<div class=\"alert alert-block alert-info\" style=\"font-size:14px;\">\n",
    "    \n",
    "For more tools and information about the [**ATAP**](www.atap.edu.au) project, or the sibling digital HASS infrastructure project [**LDaCA**](www.ldaca.edu.au), please visit the websites: [www.atap.edu.au](www.atap.edu.au) and [www.ldaca.edu.au](www.ldaca.edu.au).\n",
    "</div>"
   ]
  },
  {
   "cell_type": "code",
   "execution_count": null,
   "id": "8264119f-9240-46e1-ae75-8af488f2a52c",
   "metadata": {
    "tags": []
   },
   "outputs": [],
   "source": [
    "from IPython.display import HTML\n",
    "css_str = '<style> \\\n",
    ".jp-Button path { fill: #616161;} \\\n",
    "text.terms { fill: #616161;} \\\n",
    ".jp-icon-warn0 path {fill: var(--jp-warn-color0);} \\\n",
    ".bp3-button-text path { fill: var(--jp-inverse-layout-color3);} \\\n",
    ".jp-icon-brand0 path { fill: var(--jp-brand-color0);} \\\n",
    "text.terms { fill: #616161;} \\\n",
    "</style>'\n",
    "display(HTML(css_str ))"
   ]
  },
  {
   "cell_type": "code",
   "execution_count": null,
   "id": "c75e74fd",
   "metadata": {
    "tags": []
   },
   "outputs": [],
   "source": [
    "import os\n",
    "while 'juxtorpus' not in os.listdir():\n",
    "    os.chdir('../')\n",
    "# if  not 'juxtorpus' in os.listdir():\n",
    "#     os.chdir('../../../')\n",
    "assert 'juxtorpus' in os.listdir(), f\"Working directory should be at juxtorpus. But at {os.getcwd()}\"\n",
    "f\"Working directory: {os.getcwd()}\"\n",
    "\n",
    "# imports\n",
    "import pandas as pd\n",
    "from pathlib import Path\n",
    "import spacy\n",
    "from spacytextblob.spacytextblob import SpacyTextBlob\n",
    "\n",
    "from juxtorpus.corpus import Corpus\n",
    "from juxtorpus.corpus.processors import process\n",
    "from juxtorpus.corpus.app import App\n",
    "from juxtorpus.viz.corpus import timeline, timelines, wordcloud, wordclouds\n",
    "from juxtorpus.viz.item_timeline import ItemTimeline\n",
    "from juxtorpus.matchers import is_hashtag\n",
    "\n",
    "from juxtorpus import Jux\n",
    "from juxtorpus import analyse\n",
    "from juxtorpus.corpus.corpora import Corpora\n",
    "\n",
    "import warnings\n",
    "warnings.filterwarnings('ignore')\n",
    "\n",
    "from atap_widgets.concordance import ConcordanceTable, ConcordanceWidget, ConcordanceLoader\n",
    "from atap_widgets.concordance import prepare_text_df\n",
    "from quotation_tool import QuotationTool\n",
    "\n",
    "from collections import Counter\n",
    "from spacytextblob.spacytextblob import SpacyTextBlob\n",
    "from spacy.matcher import Matcher\n",
    "\n",
    "pd.set_option('display.max_colwidth', 255)"
   ]
  },
  {
   "cell_type": "markdown",
   "id": "996efaee",
   "metadata": {},
   "source": [
    "# 1. Corpus Building and Exploration\n",
    "\n",
    "<span  style=\"font-size:14px;\">\n",
    "\n",
    "The **Corpus** package is the essential platform for text operations and explorations. Users can upload or link their text collections with associated metadata, then compile the selected texts as a *Corpus* object. A *Corpus* object consists of a number of *documents* and the metadata that describe the documents, such as *title*, *publish date*, *author*, *word count* etc.  \n",
    "A corpus can be built with either codes or an interactive widget within this notebook. When the input data are in the format of a spreadsheet, each row of data will be come one document. The user needs to specify the column for the text contents, and all other columns are compiled as associating metadata. The data type, e.g. *numeric*, *text*, *datetime*, *category*, need to be determined on the corpus building, and this affects how each meta data can be used in the further slicing operations.  \n",
    "Once a corpus is built, the user is provided some basic out-of-box tools to explore the text contents or metadata, such as generating a word frequency table, plotting a word cloud, create a timeline plot of the documents or certain patterns in the text, or to perform certain analysis on the corpus with either ATAP or external tools, e.g. running *concordance tool*, *quotation tool* or *LDA topic modelling* etc.  \n",
    "    \n",
    "**This section will demonstrate how to upload your text, build a corpus and explore the contents as a start.**\n",
    "\n",
    "</span>\n"
   ]
  },
  {
   "cell_type": "markdown",
   "id": "3a563ef5",
   "metadata": {
    "tags": []
   },
   "source": [
    "## 1.1 Upload your text and build a Corpus with corpus.widget()\n",
    "\n",
    "<span  style=\"font-size:14px;\">\n",
    "    \n",
    "The **Corpora()** creates a corpus container that holds many Corpus objects. Each corpus can be built and named within the builder widget after the text contents are uploaded. Once the column of text is selected, and the data type of each meta data is set, the user can name the corpus and click on the button **Build**. If no name is manually given, a random name will be given to the corpus.\n",
    "</span>"
   ]
  },
  {
   "cell_type": "code",
   "execution_count": null,
   "id": "31cfc430-7e45-4269-a3b7-15ad4df50340",
   "metadata": {
    "tags": []
   },
   "outputs": [],
   "source": [
    "corpora = Corpora()\n",
    "corpora.widget()"
   ]
  },
  {
   "cell_type": "markdown",
   "id": "dd9081fe-a46c-4e9f-a9c4-76390000495a",
   "metadata": {},
   "source": [
    "<div class=\"alert alert-block alert-warning\" style=\"font-size:14px;\">\n",
    "<b>About the data</b> \n",
    "\n",
    "The uploaded data is a processed subset of a [Kaggle twitter dataset on Customer Service](https://www.kaggle.com/datasets/thoughtvector/customer-support-on-twitter), and in this example we have included tweet messages posted between 10/2017 and 11/2017 about 4 companies (SpotifyCares, ComcastCares, AmericanAir, British_Airways).\n",
    "</div>\n",
    "\n",
    "##### The Corpus we just built consists tweet conversations between customer cares of four companies and their happy/angry customers. It has been named as _CS_, and we will later explore its contents at different levels and granurities."
   ]
  },
  {
   "cell_type": "code",
   "execution_count": null,
   "id": "060ff1ec-2cfa-4762-8d36-165d3714f93e",
   "metadata": {
    "tags": []
   },
   "outputs": [],
   "source": [
    "corpora.items()"
   ]
  },
  {
   "cell_type": "markdown",
   "id": "69aa6c30-b256-473b-82c6-9c586f61d5d8",
   "metadata": {},
   "source": [
    "## 1.2 A few basic operations on your corpus\n",
    "### A summary of your corpus"
   ]
  },
  {
   "cell_type": "code",
   "execution_count": null,
   "id": "994bc2b6-88b0-4a28-a14d-8c70431899e0",
   "metadata": {
    "tags": []
   },
   "outputs": [],
   "source": [
    "corpus = corpora['CS']\n",
    "corpus.summary()"
   ]
  },
  {
   "cell_type": "markdown",
   "id": "c680ac20-2a4d-422d-902b-eea81ea1ec13",
   "metadata": {},
   "source": [
    "### Check the contents of the documents in the corpus"
   ]
  },
  {
   "cell_type": "code",
   "execution_count": null,
   "id": "965f5fd2-e75f-4425-84a3-b528eecdcddb",
   "metadata": {
    "tags": []
   },
   "outputs": [],
   "source": [
    "corpus.docs().head(5)\n",
    "# corpora['CS'].to_dataframe().head(15)"
   ]
  },
  {
   "cell_type": "markdown",
   "id": "bf938c79-bfff-40aa-9999-eecdc15f4df3",
   "metadata": {},
   "source": [
    "### Check the contents of certain corpus meta data"
   ]
  },
  {
   "cell_type": "code",
   "execution_count": null,
   "id": "f11415d8-cf01-4d72-8973-d98423af79b5",
   "metadata": {
    "tags": []
   },
   "outputs": [],
   "source": [
    "companies = corpora['CS'].meta['company'].series.unique().tolist()\n",
    "print(companies)"
   ]
  },
  {
   "cell_type": "markdown",
   "id": "6da52a1d-92d6-46a8-ab91-f0d33a441a6c",
   "metadata": {},
   "source": [
    "### Generating a frequency table from the corpus"
   ]
  },
  {
   "cell_type": "code",
   "execution_count": null,
   "id": "86e44d31-bc87-4dfb-878f-166081f279fb",
   "metadata": {
    "tags": []
   },
   "outputs": [],
   "source": [
    "corpora['CS'].dtm.freq_table().series.sort_values(ascending=False)\n",
    "#corpora['CS'].dtm.freq_table().series.sort_values(ascending=False).to_csv('./notebooks/demos/taster_workshop/freq_table.csv')"
   ]
  },
  {
   "cell_type": "markdown",
   "id": "c937ebbd-9b60-4032-86b9-512e649efdca",
   "metadata": {},
   "source": [
    "## 1.3 Some visualisation from the corpus\n",
    "\n",
    "### **Wordcloud** \n",
    "#### We can easily generate a wordcloud out of the corpus, and exclude certain words if they are blocking the view."
   ]
  },
  {
   "cell_type": "code",
   "execution_count": null,
   "id": "3f072e9a-1deb-47e2-a83c-f978eb13fd00",
   "metadata": {
    "tags": []
   },
   "outputs": [],
   "source": [
    "#stop_words = ['https'] + companies\n",
    "corpora['CS'].viz.wordcloud()"
   ]
  },
  {
   "cell_type": "markdown",
   "id": "ae2055e4-b4b6-4056-aafe-e745ebd1df4f",
   "metadata": {},
   "source": [
    "#### Create a subcorpus by randomly sampling the corpus, then display wordcloud out of that sub-corpus"
   ]
  },
  {
   "cell_type": "code",
   "execution_count": null,
   "id": "2efa07b8-73ce-4532-b81b-dc5342c904d7",
   "metadata": {
    "tags": []
   },
   "outputs": [],
   "source": [
    "stop_words = ['https'] + companies\n",
    "subcorpus = corpora['CS'].sample(100)\n",
    "subcorpus.viz.wordcloud(stopwords = stop_words)\n",
    "subcorpus.summary().T"
   ]
  },
  {
   "cell_type": "markdown",
   "id": "a96565b5-db96-4258-982b-12037954b2d4",
   "metadata": {},
   "source": [
    "### **Concordance Tool**\n",
    "\n",
    "### Use the [ATAP Concordance Tool](https://github.com/Australian-Text-Analytics-Platform/atap_widgets/tree/main) to check some corpus the contents and search for the contexts.\n",
    "<div class=\"alert alert-block alert-warning\" style=\"font-size:14px;\">\n",
    "<b>ATAP Concordance Tool</b> \n",
    "The ATAP Concordance Tool is a widget developed by the Sydney Informatics Hub under the ATAP project so that the user could interactively search keyword and display the contexts around the keywords within a jupyter notebook. The widget can be used independently if needed.\n",
    "</div>\n",
    "<div class=\"alert alert-block alert-danger\" style=\"font-size:14px;\">\n",
    "<b>Warning</b> \n",
    "The ATAP Concordance Tool is not designed to be used on large corpus. Make sure you do not input a large corpus to avoid long loading time. For this twitter dataset, it can process roughly 80 tweets per second, i.e. a corpus with 1000 tweets will take ~13 seconds to load and display.\n",
    "</div>"
   ]
  },
  {
   "cell_type": "code",
   "execution_count": null,
   "id": "4c8dcef7-d411-4598-8137-1ed8ef1a5eda",
   "metadata": {
    "tags": []
   },
   "outputs": [],
   "source": [
    "import time\n",
    "st = time.time()\n",
    "conc = ConcordanceLoader(type='corpus', df_input = subcorpus)\n",
    "conc.show()\n",
    "print(time.time() - st, 'seconds')"
   ]
  },
  {
   "cell_type": "markdown",
   "id": "e3f38405-ce4b-41a5-88de-f7fed8e13a63",
   "metadata": {},
   "source": [
    "### **Timeline**\n",
    "### With datetime metadata in this corpus, we can plot some timelines to view the historical activities."
   ]
  },
  {
   "cell_type": "code",
   "execution_count": null,
   "id": "91dce8e8-af55-4bb3-ae86-14b114854013",
   "metadata": {
    "tags": []
   },
   "outputs": [],
   "source": [
    "corpora['CS'].viz.timeline('created_at', freq='1D')\n",
    "# corpora['CS'].viz.timeline('created_at', freq='1D', meta_name='conversation')"
   ]
  },
  {
   "cell_type": "markdown",
   "id": "ff95b79b-2add-44cd-a670-f9ea1f79aa09",
   "metadata": {},
   "source": [
    "## 1.4 Build a corpus with code\n",
    "<div class=\"alert alert-block alert-info\" style=\"font-size:14px;\">\n",
    "<b>Using the Code or Widget</b>\n",
    "    \n",
    "The Juxtorpus is a python package developed to work without notebook, thus all operations can be done through python functions in code.\n",
    "\n",
    "On the other hand, some widgets are developed as additional interactive components specifically for work on notebooks, with a purpose to make some common tasks easier for people with less coding skills. The widgets may not cover all the functions available in Juxtorpus, and sometimes it's easier to modify and repeat task in a chunk of code.\n",
    "</div>\n",
    "\n",
    "### The following is an example to build a corpus from a pre-exist CSV file\n",
    "\n",
    "<div class=\"alert alert-block alert-warning\" style=\"font-size:14px;\">\n",
    "    \n",
    "In order to build your corpus with codes, you need to know the structure of your data, e.g. file path, file type, headers, data types of all metadata, and some understanding about the [Pandas](https://pandas.pydata.org) Dataframe.\n",
    "</div>\n"
   ]
  },
  {
   "cell_type": "code",
   "execution_count": null,
   "id": "5aa72d29-7d92-4be4-ba91-8199b83035e5",
   "metadata": {
    "tags": []
   },
   "outputs": [],
   "source": [
    "use_cols = ['text', 'text_name', 'author', 'date', 'source']\n",
    "dtypes = {'text': str, \n",
    "        'text_name': str, \n",
    "        'author':str,\n",
    "        'date': str,\n",
    "        'source':'category'}\n",
    "\n",
    "df = pd.read_excel(Path('./notebooks/demos/taster_workshop/news.xlsx'),\n",
    "                 usecols=use_cols, \n",
    "                 dtype=dtypes)\n",
    "df['date'] = pd.to_datetime(df['date'])\n",
    "corpus = Corpus.from_dataframe(df, col_doc='text', name='News')\n",
    "\n",
    "corpora.add(corpus)"
   ]
  },
  {
   "cell_type": "code",
   "execution_count": null,
   "id": "047e705c-40f5-4829-8d97-71f76fab28e3",
   "metadata": {
    "tags": []
   },
   "outputs": [],
   "source": [
    "# # The Customer Service Corpus can be built with the following code.\n",
    "# corpora = Corpora()\n",
    "# use_cols = ['author_id', 'inbound', 'created_at', 'text', 'in_response_to_tweet_id', 'company', 'conversation']\n",
    "# # dtypes = ['Int64', 'category', 'string', 'string', 'Int64', 'Int64', 'category', 'category']\n",
    "\n",
    "# df = pd.read_csv(Path('./notebooks/demos/taster_workshop/twcs_sel.csv'),\n",
    "#                  usecols=use_cols, \n",
    "#                  dtype={'author_id': str,\n",
    "#                         'inbound': 'category',\n",
    "#                         'created_at': str,\n",
    "#                         'text':str,\n",
    "#                         'in_response_tweet_id': 'Int64',\n",
    "#                         'company': 'category', \n",
    "#                         'conversation': 'category'})\n",
    "\n",
    "# df['created_at'] = pd.to_datetime(df['created_at'])\n",
    "# # #corpus = process(Corpus.from_dataframe(df, col_doc='text', name='auspol'), nlp=spacy.blank('en'))\n",
    "# corpus = Corpus.from_dataframe(df, col_doc='text', name='CS')\n",
    "# corpora.add(corpus)"
   ]
  },
  {
   "cell_type": "markdown",
   "id": "60621648-aec8-47b1-86be-be2a08ded234",
   "metadata": {},
   "source": [
    "# 2. Corpus Slicing\n",
    "<div class=\"alert alert-block alert-info\" style=\"font-size:14px;\">\n",
    "    \n",
    "A slicing operation can be done through the corpora.widget().  \n",
    "When a corpus is selected in the widget, the slicer pane expands and the corpus can be sliced based on the metadata. \n",
    "    \n",
    "The slicing operations vary according to different data types of the used metadata, and the user can add and combine different operations for slicing a corpus.  \n",
    "Within the widget, the size of new sub-corpus is displayed for the user's information.\n",
    "</div>\n",
    "\n",
    "## 2.1 Slicing with the widget"
   ]
  },
  {
   "cell_type": "code",
   "execution_count": null,
   "id": "f39e24ee-8b4e-4fbe-bd0e-956f09671e96",
   "metadata": {
    "tags": []
   },
   "outputs": [],
   "source": [
    "corpora.widget()\n",
    "# Create a \"Customer\" and a \"Service\" corpus"
   ]
  },
  {
   "cell_type": "markdown",
   "id": "cabc2af9-9693-4edd-8f50-bdd8cda2c75f",
   "metadata": {},
   "source": [
    "## 2.2 Slicing with codes\n",
    "<div class=\"alert alert-block alert-info\" style=\"font-size:14px;\">\n",
    "    \n",
    "Depending on the data type of meta data, several functions can be used to slice your corpus. The user can call the slicer functions **corpus.slicer.filter_by_xxx()** with appropriate arguments, e.g.  \n",
    "Categorical metadata: use _corpus.slicer.filter_by_item()_  \n",
    "Datetime metadata: use _corpus.slicer.filter_by_datetime()_  \n",
    "Numeric metadata: use _corpus.slicer.filter_by_range()_  \n",
    "Text data: use _corpus.slicer.filter_by_regex()_   \n",
    "And for more general and complex situtation, the user can define the slicing criteria and use _corpus.slicer.filter_by_condition()_ function.  \n",
    "For more information, refer to the [Juxtorpus documentations]() (_under development_).\n",
    "</div>\n",
    "\n",
    "<span style=\"font-size:14px;\">\n",
    "\n",
    "In the following cell, we create four sub-corpora that consist of _inbound_ messages (from the customers) to each of the four companies, _AmericanAir_, _British_Airway_, _ComCast (telecommunication)_ and _Spotify_).  \n",
    "Each of these sub-corpora are added into the corpora, and can be sliced further within the widget.\n",
    "</span>"
   ]
  },
  {
   "cell_type": "code",
   "execution_count": null,
   "id": "8fc7c821-e430-470d-ae32-f19aadc21613",
   "metadata": {
    "tags": []
   },
   "outputs": [],
   "source": [
    "temp = corpora['CS'].slicer.filter_by_item('inbound', 'True')\n",
    "# temp = corpora['Customer']\n",
    "AA_C = temp.slicer.filter_by_item('company', 'americanair')\n",
    "AA_C.rename('AA_C')\n",
    "BA_C = temp.slicer.filter_by_item('company', 'british_airways')\n",
    "BA_C.rename('BA_C')\n",
    "CC_C = temp.slicer.filter_by_item('company', 'comcastcares')\n",
    "CC_C.rename('CC_C')\n",
    "SP_C = temp.slicer.filter_by_item('company', 'spotifycares')\n",
    "SP_C.rename('SP_C')\n",
    "corpora.add([AA_C, BA_C, CC_C, SP_C])\n",
    "corpora.items()"
   ]
  },
  {
   "cell_type": "markdown",
   "id": "7307b8cc-cae1-4bae-9f5d-3a4e60faea62",
   "metadata": {
    "tags": []
   },
   "source": [
    "<div class=\"alert alert-block alert-warning\" style=\"font-size:14px;\">\n",
    "<b>\n",
    "\n",
    "## What is a sub-corpus\n",
    "</b>\n",
    "    \n",
    "Each sub-corpus has a parent-corpus which indicates from which corpus the current corpus is sliced from, however a sub-corpus is still a corpus covering a sub-set documents of the original corpus, and everything works with a corpus can be done on a sub-corpus. \n",
    "A sub-corpus can be explored with the exact same functions and visualisations, e.g. the new _Frequency table_, _Word cloud_, _Timeline_ or _Summary_ will just be generated based on what's in the sub-corpus, so that you can understand how different each sub-corpus is.\n",
    "</div>"
   ]
  },
  {
   "cell_type": "code",
   "execution_count": null,
   "id": "56ea16b6-cee7-4e6e-a0a8-458ed4a4342c",
   "metadata": {
    "tags": []
   },
   "outputs": [],
   "source": [
    "corpora.widget()"
   ]
  },
  {
   "cell_type": "markdown",
   "id": "2cd4b011-7e49-4635-8d03-a8e0f7e5f8c0",
   "metadata": {},
   "source": [
    "### Slice by Regular Expression on your Texts\n",
    "<span  style=\"font-size:14px;\">\n",
    "    \n",
    "The slicing operations above are all based on the metadata, however often content based slicing are required when there aren't enough information to use in the metadata. Advanced slicing will be introduced at the end of this notebook, and the following is an example of slicing a corpus using regular expression and find all tweets that contain the word _\"thank\"_ from the BA_C corpus.\n",
    "</span>\n",
    "\n",
    "<div class=\"alert alert-block alert-info\" style=\"font-size:12px;\">\n",
    "\n",
    "A regular expression, commonly known as [**regex**](https://www.regular-expressions.info/), is a sequence of characters that forms a search pattern. It is used to match and manipulate text strings based on a defined pattern. Regular expressions are incredibly versatile and allow for complex pattern matching, making them useful for tasks like data validation, searching, and text manipulation. They are supported by many programming languages and tools, offering a powerful toolset for working with textual data.\n",
    "</div>"
   ]
  },
  {
   "cell_type": "code",
   "execution_count": null,
   "id": "d4cf9d2f-1fc6-4d59-9ff7-a03fba3f62eb",
   "metadata": {
    "tags": []
   },
   "outputs": [],
   "source": [
    "corpus = corpora['BA_C'].slicer.filter_by_regex('document', r'thank', ignore_case=True)\n",
    "corpus.rename('BA_C_pos')\n",
    "corpora.add(corpus)"
   ]
  },
  {
   "cell_type": "markdown",
   "id": "b6051edc-9927-469e-915e-737a6da4b5fa",
   "metadata": {},
   "source": [
    "### Export your sliced corpus as a spreadsheet"
   ]
  },
  {
   "cell_type": "code",
   "execution_count": null,
   "id": "f40bcd65-73bb-4f4d-b3a7-ec97cae9934e",
   "metadata": {},
   "outputs": [],
   "source": [
    "NAME = 'BA_C_pos'\n",
    "corpora[NAME].to_excel(Path('./notebooks/demos/taster_workshop/{}.xlsx'.format(NAME)))\n"
   ]
  },
  {
   "cell_type": "markdown",
   "id": "20f2b052-6dcb-46bb-a29b-656e8f9c3251",
   "metadata": {},
   "source": [
    "## 2.3 Explore and compare the (sub-)corpora\n",
    "\n",
    "<span  style=\"font-size:16px;\">\n",
    "    \n",
    "**Timelines** which plots the same metric on multiple corpus for comparison\n",
    "    </span>"
   ]
  },
  {
   "cell_type": "code",
   "execution_count": null,
   "id": "be789a91-82a7-475e-b212-92af160250d6",
   "metadata": {
    "tags": []
   },
   "outputs": [],
   "source": [
    "corpora.viz.timelines(['AA_C', 'BA_C', 'CC_C', 'SP_C'], 'created_at', freq='1D')\n",
    "# corpora.viz.timelines(['AA_C', 'BA_C', 'CC_C', 'SP_C'], 'created_at', freq='1D', meta_name='conversation')\n",
    "# corpora.viz.timelines(['AA_C', 'BA_C', 'CC_C', 'SP_C'], 'created_at', freq='1W', meta_name='author_id')"
   ]
  },
  {
   "cell_type": "markdown",
   "id": "b613d934-c817-4671-bc23-ecc50e1a8adb",
   "metadata": {},
   "source": [
    "<span  style=\"font-size:16px;\">\n",
    "    \n",
    "**WordCloud** and additional options for the wordcloud creation\n",
    "</span>"
   ]
  },
  {
   "cell_type": "code",
   "execution_count": null,
   "id": "42953455-1719-445a-8522-b686964372f8",
   "metadata": {
    "tags": []
   },
   "outputs": [],
   "source": [
    "# Wordcloud for multiple corpora \n",
    "MAXWORD = 80\n",
    "TYPE = 'word' # 'word', 'hashtag', 'mention'\n",
    "METRIC = 'tfidf' # 'tf', 'tfidf'\n",
    "EXCLUSION = ['https'] + companies\n",
    "\n",
    "corpora.viz.wordclouds(['AA_C', 'BA_C'], metric=METRIC, max_words=MAXWORD, word_type=TYPE, stopwords=EXCLUSION, lower=True)"
   ]
  },
  {
   "cell_type": "markdown",
   "id": "3f8785f9-4649-4274-8732-b8631eefe773",
   "metadata": {},
   "source": [
    "<span  style=\"font-size:16px;\">\n",
    "\n",
    "**Interactive Item Timeline** that extract certain token pattern and plot as an interactive timeline.\n",
    "</span>"
   ]
  },
  {
   "cell_type": "code",
   "execution_count": null,
   "id": "164f529a-e492-4a18-98a3-d31221e4c856",
   "metadata": {
    "tags": []
   },
   "outputs": [],
   "source": [
    "COL_TIME = 'created_at'\n",
    "FREQ = '1w'\n",
    "NAME = 'SP_C'\n",
    "\n",
    "nlp = spacy.blank('en') #spacy.load('en_core_web_sm')\n",
    "corpus = process(corpora[NAME], nlp=nlp)\n",
    "\n",
    "# user defined function in creating a custom dtm (document-term-matrix)\n",
    "matcher = is_hashtag(corpus.nlp.vocab)\n",
    "def extract_hashtags(doc): return [doc[s:e].text.lower() for _, s, e in matcher(doc)]\n",
    "\n",
    "corpus.create_custom_dtm(extract_hashtags)\n",
    "\n",
    "print('Extract all Hashtags and display their weekly trends\\n - Click legend to deselect items\\n - Use the search box to display specific hashtag')\n",
    "item_timeline = ItemTimeline.from_corpus(corpus, COL_TIME, FREQ, use_custom_dtm=True)\n",
    "item_timeline.widget()"
   ]
  },
  {
   "cell_type": "markdown",
   "id": "ff312665-5cdb-42ac-a277-b6e9c5eaf06b",
   "metadata": {},
   "source": [
    "# 3 Jux<span style=\"font-size:18px;\">tapose</span> a pair of corpora\n",
    "<div class=\"alert alert-block alert-info\" style=\"font-size:14px;\">\n",
    "    \n",
    "The **Jux** is a python package specially developed to work with the **Corpus** package with a focus on comparing and constrasting to highlight the differences between two corpora on the token/word level.  \n",
    "The idea of **Jux** is to highlight the _features_ of corpus by eliminating the common words that are used in a similar way in both corpora.  \n",
    "Several metrics have been implemented for measuring the word usage similarity, including *TF* (term frequency), *TF-IDF* (term frequency - inverse document frequency), and *Loglikelihood* from [Keyword Analysis]().\n",
    "</div>\n"
   ]
  },
  {
   "cell_type": "markdown",
   "id": "0c2045ce-e529-4292-b689-8ed1f35e2865",
   "metadata": {
    "tags": []
   },
   "source": [
    "## 3.1 Keyword Analysis\n",
    "<span style=\"font-size:16px;\">\n",
    "    \n",
    "*Keyword analysis* in corpus linguistics involves the identification and examination of significant words or terms within a corpus of texts. It aims to identify words that occur more frequently or in a distinctive manner compared to a reference corpus. These keywords provide insights into the thematic or semantic characteristics of the texts under analysis.  \n",
    "By analysing keywords, researchers can uncover patterns, associations, and underlying themes within a corpus, helping them understand language use, discourse patterns, and linguistic features in different contexts. Keyword analysis is a valuable tool for researchers in various fields, including linguistics, sociolinguistics, discourse analysis, and computational linguistics.\n",
    "</span>\n",
    "\n",
    "<div class=\"alert alert-block alert-warning\" style=\"font-size:14px;\">\n",
    "\n",
    "The keyword analysis method embedded in the Juxtorpus package is implemented according to Prof. Rayson Paul's [webpage](https://ucrel.lancs.ac.uk/llwizard.html) and the following article:  \n",
    "\n",
    "<span style=\"font-size:12px;\">\n",
    "Rayson Paul., Berridge D. and Francis B. (2004). Extending the Cochran rule for the comparison of word frequencies between corpora. In Volume II of Purnelle G., Fairon C., Dister A. (eds.) Le poids des mots: Proceedings of the 7th International Conference on Statistical analysis of textual data (JADT 2004), Louvain-la-Neuve, Belgium, March 10-12, 2004, Presses universitaires de Louvain, pp. 926 - 936. ISBN 2-930344-50-4.\n",
    "    </span>\n",
    "</div>\n",
    "\n",
    "<div class=\"alert alert-block alert-info\" style=\"font-size:14px;\">\n",
    "\n",
    "As part of the ATAP tool suite, a standalone [Keyword Analysis Jupyter Notebook](https://github.com/Australian-Text-Analytics-Platform/keywords-analysis/blob/main/keywords_analysis.ipynb) was developed which can be used by its own.\n",
    "</div>"
   ]
  },
  {
   "cell_type": "code",
   "execution_count": null,
   "id": "27e13133-062c-4c72-8ba9-ffd77ad130ec",
   "metadata": {
    "tags": []
   },
   "outputs": [],
   "source": [
    "def style_corpus(row, colour):\n",
    "    return ['color:blue;']*len(row) if colour[row.name] else ['color:red;']*len(row)\n",
    "\n",
    "CName1 = 'AA_C'\n",
    "CName2 = 'BA_C'\n",
    "TopN = 30\n",
    "\n",
    "FreqTable1 = corpora[CName1].dtm.freq_table().series.rename(CName1)\n",
    "FreqTable2 = corpora[CName2].dtm.freq_table().series.rename(CName2)\n",
    "FT_df = pd.concat([FreqTable1, FreqTable2], axis=1, join='outer').fillna(0)\n",
    "\n",
    "colour = FT_df[CName1] > FT_df[CName2]\n",
    "print('Blue: Corpus {}; Red: Corpus {}'.format(CName1, CName2))\n",
    "\n",
    "jux = Jux(corpora[CName1], corpora[CName2])\n",
    "llv = jux.stats.log_likelihood_and_effect_size() \\\n",
    "    .sort_values(by='log_likelihood_llv', ascending=False)\n",
    "llv.iloc[:TopN].style \\\n",
    "    .apply(lambda row: style_corpus(row, colour), axis=1)\n"
   ]
  },
  {
   "cell_type": "markdown",
   "id": "f5636f8b-217b-48a3-bb2d-a90b50ab1f97",
   "metadata": {},
   "source": [
    "## 3.2 Polarity Wordcloud\n",
    "\n",
    "<span style=\"font-size:14px;\">\n",
    "\n",
    "The core function of the *Jux* package is to highlight the contrast between two corpora, the difference can be quantitatively displayed in a table structure, however, for the ease of view and interpretation, the *Jux* utilise the wordcloud format to visualise the most significant differences identified from the comparison.    \n",
    "</span>\n",
    "\n",
    "<div class=\"alert alert-block alert-warning\" style=\"font-size:14px;\">\n",
    "Can you tell the differences between the customer tweets from AmericanAir and British_Airway in the side-by-side wordclouds?\n",
    "</div>"
   ]
  },
  {
   "cell_type": "code",
   "execution_count": null,
   "id": "cd148714-21c2-42ce-825d-fd40991a5169",
   "metadata": {
    "tags": []
   },
   "outputs": [],
   "source": [
    "MAXWORD = 100\n",
    "METRIC = 'tf' # 'tf', 'tfidf', 'log_likelihood'\n",
    "CName1 = 'AA_C'\n",
    "CName2 = 'BA_C'\n",
    "\n",
    "print('Left: {}, Right: {}'.format(CName1, CName2))\n",
    "corpora.viz.wordclouds([CName1, CName2], metric=METRIC, max_words=MAXWORD, word_type=TYPE, stopwords=EXCLUSION)"
   ]
  },
  {
   "cell_type": "code",
   "execution_count": null,
   "id": "8a052e62-bec6-4b35-8ecc-ed0048f78b11",
   "metadata": {
    "tags": []
   },
   "outputs": [],
   "source": [
    "jux_C = Jux(corpora[CName1], corpora[CName2])\n",
    "\n",
    "jux_C.polarity.wordcloud(metric=METRIC, top=MAXWORD, colours=('blue', 'red'), stopwords=companies)  # change this to 'tfidf' or 'log_likelihood'"
   ]
  },
  {
   "cell_type": "markdown",
   "id": "5b921785-0d31-4b83-a47f-6a6d44e287d5",
   "metadata": {},
   "source": [
    "<span style=\"font-size:16px;\">\n",
    "    \n",
    "Another example on comparing how the CSRs of both companies responded to their clients.\n",
    "</span>"
   ]
  },
  {
   "cell_type": "code",
   "execution_count": null,
   "id": "81ec13a4-d07f-428c-9b31-386549916e93",
   "metadata": {
    "tags": []
   },
   "outputs": [],
   "source": [
    "temp = corpora['Service']\n",
    "AA_S = temp.slicer.filter_by_item('company', 'americanair')\n",
    "AA_S.rename('AA_S')\n",
    "BA_S = temp.slicer.filter_by_item('company', 'british_airways')\n",
    "BA_S.rename('BA_S')\n",
    "\n",
    "jux_S = Jux(AA_S, BA_S)\n",
    "\n",
    "jux_S.polarity.wordcloud(metric=METRIC, top=MAXWORD, colours=('blue', 'red'), stopwords=companies)"
   ]
  },
  {
   "cell_type": "markdown",
   "id": "98ced301-4b7d-484e-9951-3ac94f3cf4e9",
   "metadata": {
    "tags": []
   },
   "source": [
    "# 4. Why Juxtorpus? \n",
    "### Additional Text Analysis with Corpus\n",
    "<span  style=\"font-size:14px;\">\n",
    "\n",
    "The power of Juxtorpus lies in comparing and contrasting corpora that are specifically defined and sliced. There are only so many ways to slice the data based on the existing metadata, which could also be done within the Excel spreadsheet. In this section, we will demonstrate how to run some text analysis tools with the corpus, which enables the user to slice the corpus differently with more meaningful ways.\n",
    "</span>\n",
    "\n",
    "## 4.1 Sentiment Analysis\n",
    "<div class=\"alert alert-block alert-info\" style=\"font-size:14px;\">\n",
    "    \n",
    "By utilising sentiment analysis, it becomes possible to detect the presence of negative or positive sentiment in textual data. This analysis adds a new \"sentiment\" metadata to the corpus, which is assigned a value ranging from -1 to 1. This sentiment metadata can then be used for further slicing the corpus base on the identified sentiments.\n",
    "</div>\n",
    "\n",
    "<div class=\"alert alert-block alert-warning\" style=\"font-size:14px;\">\n",
    "\n",
    "Juxtorpus incorporates the use of [spaCy](https://spacy.io/) embedded model known as [TextBlob](https://textblob.readthedocs.io/). TextBlob is a Lexicon-based (Rule-based) sentiment analyzer that utilizes predefined rules and a word-weight dictionary to calculate the polarity of a sentence. It is important to note that, like all algorithm-based models, sentiment analysis cannot achieve 100% precision, and there may be instances where the sentiment score is inaccurate. When using this tool for analysis, please bear this in mind. In the future, Juxtorpus will have the capability to support other models for this task, each performing differently depending on the scenario.\n",
    "</div>\n",
    "\n",
    "<span  style=\"font-size:14px;\">\n",
    "    \n",
    "The following is an example to demonstrate how to run sentiment analysis on a sample of 2,000 customer tweets out of the Spotify subcorpus, and do a Jux to compare the positive and negative messages."
   ]
  },
  {
   "cell_type": "code",
   "execution_count": null,
   "id": "a09c640d-f99d-4b22-a898-c343661cea7d",
   "metadata": {
    "tags": []
   },
   "outputs": [],
   "source": [
    "NAME = 'SP_C'\n",
    "\n",
    "corpus = corpora[NAME].sample(2000)\n",
    "sentiments = analyse(corpus, method='sentiment', model='textblob', add_results=True)\n",
    "sentiments.render()"
   ]
  },
  {
   "cell_type": "code",
   "execution_count": null,
   "id": "841c15e2-225c-43ad-97f1-06797bc6ed8e",
   "metadata": {
    "tags": []
   },
   "outputs": [],
   "source": [
    "neg = corpus.slicer.filter_by_range('#sentiment', max_=-0.25)\n",
    "pos = corpus.slicer.filter_by_range('#sentiment', min_=0.25)\n",
    "neg.rename('neg')\n",
    "pos.rename('pos')"
   ]
  },
  {
   "cell_type": "code",
   "execution_count": null,
   "id": "b8c5f307-3357-4a2a-81b4-8d0a85324c91",
   "metadata": {
    "tags": []
   },
   "outputs": [],
   "source": [
    "jux = Jux(neg, pos)\n",
    "print(NAME)\n",
    "jux.polarity.wordcloud(metric='tf', top=35, colours=('red', 'blue')) "
   ]
  },
  {
   "cell_type": "code",
   "execution_count": null,
   "id": "5b2ae697-dfee-4ca5-bf47-7a53144a9a74",
   "metadata": {
    "tags": []
   },
   "outputs": [],
   "source": [
    "conc = ConcordanceLoader(type='corpus', df_input = neg)\n",
    "conc.show()"
   ]
  },
  {
   "cell_type": "markdown",
   "id": "877005ad-88bc-40e4-9bca-a2c9f4bfed19",
   "metadata": {},
   "source": [
    "<span  style=\"font-size:14px;\">\n",
    "\n",
    "Similarly, the comparison can be done between the negative messages from the AmericanAir's and British Airway's customers.    \n",
    "</span>"
   ]
  },
  {
   "cell_type": "code",
   "execution_count": null,
   "id": "e372d4ba-15a3-4733-b205-802ab787891c",
   "metadata": {
    "tags": []
   },
   "outputs": [],
   "source": [
    "aa_sample = corpora['AA_C'].sample(2000)\n",
    "ba_sample = corpora['BA_C'].sample(2000)\n",
    "sentiments = analyse(aa_sample, method='sentiment', model='textblob', add_results=True)\n",
    "sentiments = analyse(ba_sample, method='sentiment', model='textblob', add_results=True)\n",
    "#sentiments.render()\n",
    "\n",
    "aa_neg = aa_sample.slicer.filter_by_range('#sentiment', max_=-0.25)\n",
    "ba_neg = ba_sample.slicer.filter_by_range('#sentiment', max_=-0.25)\n",
    "aa_neg.rename('aaN')\n",
    "ba_neg.rename('baN')\n",
    "jux = Jux(aa_neg, ba_neg)"
   ]
  },
  {
   "cell_type": "code",
   "execution_count": null,
   "id": "bc96d9bb-a54d-40df-b19c-866d2a8f93af",
   "metadata": {
    "tags": []
   },
   "outputs": [],
   "source": [
    "jux.polarity.wordcloud(metric='tfidf', top=35, colours=('red', 'blue'), stopwords = companies + [], lower=False) "
   ]
  },
  {
   "cell_type": "code",
   "execution_count": null,
   "id": "b94804b9-90cc-40b1-b185-050c6ec386d9",
   "metadata": {
    "tags": []
   },
   "outputs": [],
   "source": [
    "conc = ConcordanceLoader(type='corpus', df_input = ba_neg)\n",
    "conc.show()"
   ]
  },
  {
   "cell_type": "markdown",
   "id": "0528a73e-b901-4314-b69d-00149a98a492",
   "metadata": {},
   "source": [
    "## 4.2 Quotation Tool\n",
    "<div class=\"alert alert-block alert-info\" style=\"font-size:14px;\">\n",
    "    \n",
    "This **QuotationTool** is another ATAP tool/notebook that can be used to extract quotes from a text. In addition to extracting the quotes, the tool also provides information about who the speakers are, the location of the quotes (and the speakers) within the text and the identified named entities etc. from the extracted texts.  \n",
    "The standalone [Quotation Tool notebook](https://github.com/Australian-Text-Analytics-Platform/quotation-tool) can be accessed on the ATAP Github page.\n",
    "</div>\n",
    "\n",
    "<div class=\"alert alert-block alert-warning\" style=\"font-size:14px;\">\n",
    "    \n",
    "The main quotation extraction code is adapted (with permission) from the [GenderGapTracker project, Taboada et al.](https://github.com/sfu-discourse-lab/GenderGapTracker/) and modified to run on a Jupyter Notebook. The quotation tool’s accuracy rate is evaluated in this [article](https://journals.plos.org/plosone/article?id=10.1371/journal.pone.0245533).\n",
    "\n",
    "</div>\n",
    "\n",
    "<div class=\"alert alert-block alert-danger\" style=\"font-size:12px;\">\n",
    "    \n",
    "The twitter data is not a suitable corpus for the quotation tool, thus a small _News_ corpus is used for this task.  \n",
    "P.S. The quotation tool can be quite slow on a large corpus, make sure it's tested on a sample sub-corpus before the full corpus is fed.\n",
    "\n",
    "</div>"
   ]
  },
  {
   "cell_type": "code",
   "execution_count": null,
   "id": "4d210826-79df-4561-b488-13cd9165dd95",
   "metadata": {
    "tags": []
   },
   "outputs": [],
   "source": [
    "inc_ent = ['ORG','PERSON','GPE','NORP','FAC','LOC']\n",
    "\n",
    "qt_corpus, qt = analyse(corpora['News'], method='quotation', doc_id='text_name', entities=inc_ent)\n",
    "corpora.add(qt_corpus)"
   ]
  },
  {
   "cell_type": "code",
   "execution_count": null,
   "id": "b3cac6d3-b429-4920-9fe9-67f49f1d186d",
   "metadata": {},
   "outputs": [],
   "source": [
    "qt.analyse_quotes(inc_ent)"
   ]
  },
  {
   "cell_type": "code",
   "execution_count": null,
   "id": "e410223d-b17d-4f90-974e-bf3e92d1bf53",
   "metadata": {
    "tags": []
   },
   "outputs": [],
   "source": [
    "Counter(qt_corpus.meta['verb'].series).most_common()"
   ]
  },
  {
   "cell_type": "code",
   "execution_count": null,
   "id": "610254e9-25d9-4b21-920b-bd9cdca21c20",
   "metadata": {
    "tags": []
   },
   "outputs": [],
   "source": [
    "corpora.widget()"
   ]
  },
  {
   "cell_type": "markdown",
   "id": "4f1eaab0-66ed-485b-aef0-d29442f782f4",
   "metadata": {},
   "source": [
    "## 4.3 Topic Modelling\n",
    "<div class=\"alert alert-block alert-info\" style=\"font-size:14px;\">\n",
    "    \n",
    "Topic modeling is a statistical technique in NLP used to uncover the underlying themes or topics within a collection of documents. The algorithm assumes that each document consists of a mixture of topics, and each topic is represented by a distribution of words. The goal is to automatically infer these latent topics based on the observed word occurrences in the documents.\n",
    "</div>\n",
    "\n",
    "<div class=\"alert alert-block alert-warning\" style=\"font-size:14px;\">\n",
    "    \n",
    "*Juxtorpus* uses the [Latent Dirichlet Allocation (LDA)](https://ai.stanford.edu/~ang/papers/jair03-lda.pdf) algorithm from [Scikit-Learn](https://scikit-learn.org/) python library for the topic modelling task. And the interactive topic modelling visualisation is realised with the opensource [pyLDAVis](https://github.com/bmabey/pyLDAvis) package.\n",
    "</div>"
   ]
  },
  {
   "cell_type": "code",
   "execution_count": null,
   "id": "2eac3232-7984-41fc-9b78-5aef73f33ee7",
   "metadata": {
    "tags": []
   },
   "outputs": [],
   "source": [
    "NUM_TOPICS = 8\n",
    "MODE = 'tf'\n",
    "NAME = 'News'\n",
    "\n",
    "lda = analyse(corpora[NAME], method='topic_model', num_topics=NUM_TOPICS, mode=MODE, add_results=True)\n",
    "lda.widget()"
   ]
  },
  {
   "cell_type": "code",
   "execution_count": null,
   "id": "0671c333-9095-431f-bcaa-793bb9f75ab4",
   "metadata": {},
   "outputs": [],
   "source": [
    "# The topics can be used for further slicing the corpus.\n",
    "corpora.widget()"
   ]
  },
  {
   "cell_type": "markdown",
   "id": "0f864acc-54ed-448e-9f25-1d945898ca4b",
   "metadata": {},
   "source": [
    "## 4.4 Advanced Matcher Based Content Slicing\n",
    "<span  style=\"font-size:14px\">\n",
    "\n",
    "Besides the slicer widget and slicing functions, for more complicated scenario, the user might want to define specific customised rules to slice for subcorpus based on the content. This can be implemented with the [**spaCy Matcher**](https://spacy.io/api/matcher) based slicer, which requires customised design of the token pattern to be used.  \n",
    "\n",
    "The following is an example to slice all quotations that includes at least a word of location (tagged as GPE or LOC by the name entity recognition (NER) algorithm).\n",
    "</span>\n",
    "<div class=\"alert alert-block alert-info\" style=\"font-size:8px;\">\n",
    "\n",
    "**Main categories of NER:**  \n",
    "\n",
    "PERSON:      People, including fictional.  \n",
    "NORP:        Nationalities or religious or political groups.  \n",
    "FAC:         Buildings, airports, highways, bridges, etc.  \n",
    "ORG:         Companies, agencies, institutions, etc.  \n",
    "GPE:         Countries, cities, states.  \n",
    "LOC:         Non-GPE locations, mountain ranges, bodies of water.  \n",
    "PRODUCT:     Objects, vehicles, foods, etc. (Not services.)  \n",
    "EVENT:       Named hurricanes, battles, wars, sports events, etc.  \n",
    "WORK_OF_ART: Titles of books, songs, etc.  \n",
    "LAW:         Named documents made into laws.  \n",
    "LANGUAGE:    Any named language.  \n",
    "DATE:        Absolute or relative dates or periods.  \n",
    "TIME:        Times smaller than a day.  \n",
    "PERCENT:     Percentage, including ”%“.  \n",
    "MONEY:       Monetary values, including unit.  \n",
    "QUANTITY:    Measurements, as of weight or distance.  \n",
    "ORDINAL:     “first”, “second”, etc.  \n",
    "CARDINAL:    Numerals that do not fall under another type.  \n",
    "</div>"
   ]
  },
  {
   "cell_type": "code",
   "execution_count": null,
   "id": "ebea4d35-4321-438c-ab35-a863ac0934a1",
   "metadata": {
    "tags": []
   },
   "outputs": [],
   "source": [
    "nlp = spacy.load('en_core_web_sm')\n",
    "temp = process(aa_sample, nlp=nlp)\n",
    "temp.summary()"
   ]
  },
  {
   "cell_type": "code",
   "execution_count": null,
   "id": "8df258a3-d3e9-4eb2-b4ce-734c0edb06b6",
   "metadata": {
    "tags": []
   },
   "outputs": [],
   "source": [
    "# Define the matcher and slice by the matcher.\n",
    "ner_matcher = Matcher(temp.nlp.vocab)\n",
    "pattern = [{'ENT_TYPE': {'IN': ['GPE', 'LOC']}}]\n",
    "ner_matcher.add('GPE_LOC', [pattern])\n",
    "    \n",
    "aa_loc = temp.slicer.filter_by_matcher(ner_matcher, min_=1)\n",
    "aa_loc.summary().T"
   ]
  },
  {
   "cell_type": "code",
   "execution_count": null,
   "id": "faa98313-461c-4a34-bbd6-2dd7987254dd",
   "metadata": {
    "tags": []
   },
   "outputs": [],
   "source": [
    "ConcordanceLoader(type='corpus', df_input=aa_loc).show()"
   ]
  },
  {
   "cell_type": "code",
   "execution_count": null,
   "id": "6e09e75a-05e5-425d-9097-08bccdf746c2",
   "metadata": {
    "tags": []
   },
   "outputs": [],
   "source": [
    "Counter(aa_loc.meta['_matched'].series).most_common(20)"
   ]
  },
  {
   "cell_type": "markdown",
   "id": "ba2bd9d4-4a19-46bb-9b41-96acaab85526",
   "metadata": {},
   "source": [
    "### Match by linguistic patterns, for instance, a coprus of tweets that contain Compound Nouns."
   ]
  },
  {
   "cell_type": "code",
   "execution_count": null,
   "id": "a70b18b8-ec49-4cc7-8a63-af9d55586307",
   "metadata": {
    "tags": []
   },
   "outputs": [],
   "source": [
    "COMPOUND_NOUNS = Matcher(temp.nlp.vocab)\n",
    "#NOUN = {'POS': 'NOUN'}\n",
    "COMPOUND_NOUNS.add('cn', patterns = [\n",
    "    [{'POS': 'NOUN', \"OP\": \"{2,}\"}]\n",
    "])\n",
    "\n",
    "cn_corpus = temp.slicer.filter_by_matcher(COMPOUND_NOUNS)\n",
    "pd.concat([cn_corpus.meta['_matched'].series, cn_corpus.docs().apply(lambda d: d.text)], axis=1)"
   ]
  },
  {
   "cell_type": "code",
   "execution_count": null,
   "id": "8fce0230-83e1-4d52-8e23-81688e5f311f",
   "metadata": {
    "tags": []
   },
   "outputs": [],
   "source": [
    "# Verb followed by an adverb\n",
    "VERB_ADVERB = Matcher(temp.nlp.vocab)\n",
    "VERB_ADVERB.add('va', patterns = [[{'POS': 'VERB'}, {'POS': 'ADV'}]])\n",
    "vad_corpus = temp.slicer.filter_by_matcher(VERB_ADVERB)\n",
    "pd.concat([vad_corpus.meta['_matched'].series, vad_corpus.docs().apply(lambda d: d.text)], axis=1)"
   ]
  },
  {
   "cell_type": "markdown",
   "id": "a65dd7c1-a9b7-4824-b029-bd5668582fa6",
   "metadata": {},
   "source": [
    "<div class=\"alert alert-block alert-info\" style=\"font-size:14px;\">\n",
    "\n",
    "_Just for fun_\n",
    "</div>\n",
    "\n",
    "### What else can be found in this customer service dataset other than whinging?"
   ]
  },
  {
   "cell_type": "code",
   "execution_count": null,
   "id": "63787557-c94b-42ed-b5b9-70264c92d9da",
   "metadata": {
    "tags": []
   },
   "outputs": [],
   "source": [
    "# Sort the conversation by its size, what are the longest conversations?\n",
    "Counter(corpora['CS'].meta['conversation'].series).most_common()"
   ]
  },
  {
   "cell_type": "code",
   "execution_count": null,
   "id": "f5e618e8-340c-438e-898b-8e1b04697c87",
   "metadata": {
    "tags": []
   },
   "outputs": [],
   "source": [
    "long_conv = corpora['CS'].slicer.filter_by_item('conversation', '2572581')\n",
    "long_conv.to_dataframe().sort_values(by='created_at', ascending=True).head(20)"
   ]
  },
  {
   "attachments": {
    "image.png": {
     "image/png": "[encoded data removed]"
    }
   },
   "cell_type": "markdown",
   "id": "dcd59a7a",
   "metadata": {},
   "source": [
    "# Questions and feedbacks \n",
    "\n",
    "#### Please take a couple of minutes to fill our feedback form following the link below.  \n",
    "#### Let us know how we go with this webinar and what you would like to see in future ATAP tools.\n",
    "<span  style=\"font-size:16px;\">\n",
    "    \n",
    "### [http://bit.ly/3BSj1wC](http://bit.ly/3BSj1wC) or scan the QR code from your mobile phone.\n",
    "</span>\n",
    "\n",
    "![image.png](attachment:image.png)\n",
    "\n",
    "<span  style=\"font-size:16px;\">\n",
    "\n",
    "#### Future plan\n",
    "\n",
    "We will keep developing the Juxtorpus to enable more functions and integrated with other toos and algorithm.  \n",
    "We plan to run a full workshop during semester 2 and the Juxtorpus shall be officially released to the public before then.  \n",
    "We will make our notebooks to connect to the text collections from the _LDaCA_ project so that besides uploading their own datasets, people can select and use published text collections for their research.  \n",
    "\n",
    "#### Testdrive the Juxtorpus\n",
    "If you would like to be an early adoptor and help us to test the tool and to provide feedbacks on bugs and improvements, please express your interest either in the feedback form, or send an email to me at [chao.sun@sydney.edu.au]().\n",
    "\n",
    "#### Acknowledgement and citation\n",
    "If the ATAP tools have been useful for your research project, we are keen to know about it.  \n",
    "Please cite our notebook/software and acknowledge the Sydney Informatics Hub and ATAP project when you generate a reserach outcome from using our tools.\n",
    "</span>\n",
    "\n",
    "#### For inquiries about the ATAP project, please use:\n",
    "**General Information and available tools**:  ATAP Website - [www.atap.edu.au](www.atap.edu.au)  \n",
    "**New Project and Collaboration**:  ATAP USyd Academic Lead - [Prof. Monika Bednarek](mailto:monika.bednarek@sydney.edu.au)  \n",
    "**Bug Report and Technical Questions**: Sydney Informatic Hub - [Dr Chao Sun](mailto:chao.sun@sydney.edu.au), [Jack Chan](mailto:huen.chan@sydney.edu.au)"
   ]
  },
  {
   "cell_type": "code",
   "execution_count": null,
   "id": "a135e486-3563-4f13-af55-516b517123bc",
   "metadata": {},
   "outputs": [],
   "source": []
  }
 ],
 "metadata": {
  "kernelspec": {
   "display_name": "Python 3 (ipykernel)",
   "language": "python",
   "name": "python3"
  },
  "language_info": {
   "codemirror_mode": {
    "name": "ipython",
    "version": 3
   },
   "file_extension": ".py",
   "mimetype": "text/x-python",
   "name": "python",
   "nbconvert_exporter": "python",
   "pygments_lexer": "ipython3",
   "version": "3.9.16"
  }
 },
 "nbformat": 4,
 "nbformat_minor": 5
}
